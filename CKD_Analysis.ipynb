{
  "nbformat": 4,
  "nbformat_minor": 0,
  "metadata": {
    "colab": {
      "name": "CKD_Analysis.ipynb",
      "provenance": [],
      "collapsed_sections": [],
      "authorship_tag": "ABX9TyPgBxhUMMlypyPeFkxHlw7K",
      "include_colab_link": true
    },
    "kernelspec": {
      "name": "python3",
      "display_name": "Python 3"
    },
    "language_info": {
      "name": "python"
    }
  },
  "cells": [
    {
      "cell_type": "markdown",
      "metadata": {
        "id": "view-in-github",
        "colab_type": "text"
      },
      "source": [
        "<a href=\"https://colab.research.google.com/github/pakornsrs/DataSci-miniProjects/blob/main/CKD_Analysis.ipynb\" target=\"_parent\"><img src=\"https://colab.research.google.com/assets/colab-badge.svg\" alt=\"Open In Colab\"/></a>"
      ]
    },
    {
      "cell_type": "markdown",
      "metadata": {
        "id": "23zgQAb4ZAW7"
      },
      "source": [
        "# Chronic Kidney Disease Analysis\n",
        "\n",
        "คำอธิบาย : โปรเจ็คนี้เป็นการวิเคราะห์หาปัจจัยที่บ่งชี้ถึงผู้ป่วยที่มีสภาวะโรคไตเรื้อรัง หรือ Chronic Kidney Disease : CKD \n",
        "\n",
        "Reference data : https://www.kaggle.com/mansoordaku/ckdisease"
      ]
    },
    {
      "cell_type": "markdown",
      "metadata": {
        "id": "4bMAQhWbyvAo"
      },
      "source": [
        "### Library and file preparation"
      ]
    },
    {
      "cell_type": "code",
      "metadata": {
        "id": "2jWLobskZn_j"
      },
      "source": [
        "import numpy as np\n",
        "import pandas as pd \n",
        "from google.colab import files\n",
        "import matplotlib.pyplot as plt \n",
        "import seaborn as sns"
      ],
      "execution_count": null,
      "outputs": []
    },
    {
      "cell_type": "code",
      "metadata": {
        "colab": {
          "resources": {
            "http://localhost:8080/nbextensions/google.colab/files.js": {
              "data": "Ly8gQ29weXJpZ2h0IDIwMTcgR29vZ2xlIExMQwovLwovLyBMaWNlbnNlZCB1bmRlciB0aGUgQXBhY2hlIExpY2Vuc2UsIFZlcnNpb24gMi4wICh0aGUgIkxpY2Vuc2UiKTsKLy8geW91IG1heSBub3QgdXNlIHRoaXMgZmlsZSBleGNlcHQgaW4gY29tcGxpYW5jZSB3aXRoIHRoZSBMaWNlbnNlLgovLyBZb3UgbWF5IG9idGFpbiBhIGNvcHkgb2YgdGhlIExpY2Vuc2UgYXQKLy8KLy8gICAgICBodHRwOi8vd3d3LmFwYWNoZS5vcmcvbGljZW5zZXMvTElDRU5TRS0yLjAKLy8KLy8gVW5sZXNzIHJlcXVpcmVkIGJ5IGFwcGxpY2FibGUgbGF3IG9yIGFncmVlZCB0byBpbiB3cml0aW5nLCBzb2Z0d2FyZQovLyBkaXN0cmlidXRlZCB1bmRlciB0aGUgTGljZW5zZSBpcyBkaXN0cmlidXRlZCBvbiBhbiAiQVMgSVMiIEJBU0lTLAovLyBXSVRIT1VUIFdBUlJBTlRJRVMgT1IgQ09ORElUSU9OUyBPRiBBTlkgS0lORCwgZWl0aGVyIGV4cHJlc3Mgb3IgaW1wbGllZC4KLy8gU2VlIHRoZSBMaWNlbnNlIGZvciB0aGUgc3BlY2lmaWMgbGFuZ3VhZ2UgZ292ZXJuaW5nIHBlcm1pc3Npb25zIGFuZAovLyBsaW1pdGF0aW9ucyB1bmRlciB0aGUgTGljZW5zZS4KCi8qKgogKiBAZmlsZW92ZXJ2aWV3IEhlbHBlcnMgZm9yIGdvb2dsZS5jb2xhYiBQeXRob24gbW9kdWxlLgogKi8KKGZ1bmN0aW9uKHNjb3BlKSB7CmZ1bmN0aW9uIHNwYW4odGV4dCwgc3R5bGVBdHRyaWJ1dGVzID0ge30pIHsKICBjb25zdCBlbGVtZW50ID0gZG9jdW1lbnQuY3JlYXRlRWxlbWVudCgnc3BhbicpOwogIGVsZW1lbnQudGV4dENvbnRlbnQgPSB0ZXh0OwogIGZvciAoY29uc3Qga2V5IG9mIE9iamVjdC5rZXlzKHN0eWxlQXR0cmlidXRlcykpIHsKICAgIGVsZW1lbnQuc3R5bGVba2V5XSA9IHN0eWxlQXR0cmlidXRlc1trZXldOwogIH0KICByZXR1cm4gZWxlbWVudDsKfQoKLy8gTWF4IG51bWJlciBvZiBieXRlcyB3aGljaCB3aWxsIGJlIHVwbG9hZGVkIGF0IGEgdGltZS4KY29uc3QgTUFYX1BBWUxPQURfU0laRSA9IDEwMCAqIDEwMjQ7CgpmdW5jdGlvbiBfdXBsb2FkRmlsZXMoaW5wdXRJZCwgb3V0cHV0SWQpIHsKICBjb25zdCBzdGVwcyA9IHVwbG9hZEZpbGVzU3RlcChpbnB1dElkLCBvdXRwdXRJZCk7CiAgY29uc3Qgb3V0cHV0RWxlbWVudCA9IGRvY3VtZW50LmdldEVsZW1lbnRCeUlkKG91dHB1dElkKTsKICAvLyBDYWNoZSBzdGVwcyBvbiB0aGUgb3V0cHV0RWxlbWVudCB0byBtYWtlIGl0IGF2YWlsYWJsZSBmb3IgdGhlIG5leHQgY2FsbAogIC8vIHRvIHVwbG9hZEZpbGVzQ29udGludWUgZnJvbSBQeXRob24uCiAgb3V0cHV0RWxlbWVudC5zdGVwcyA9IHN0ZXBzOwoKICByZXR1cm4gX3VwbG9hZEZpbGVzQ29udGludWUob3V0cHV0SWQpOwp9CgovLyBUaGlzIGlzIHJvdWdobHkgYW4gYXN5bmMgZ2VuZXJhdG9yIChub3Qgc3VwcG9ydGVkIGluIHRoZSBicm93c2VyIHlldCksCi8vIHdoZXJlIHRoZXJlIGFyZSBtdWx0aXBsZSBhc3luY2hyb25vdXMgc3RlcHMgYW5kIHRoZSBQeXRob24gc2lkZSBpcyBnb2luZwovLyB0byBwb2xsIGZvciBjb21wbGV0aW9uIG9mIGVhY2ggc3RlcC4KLy8gVGhpcyB1c2VzIGEgUHJvbWlzZSB0byBibG9jayB0aGUgcHl0aG9uIHNpZGUgb24gY29tcGxldGlvbiBvZiBlYWNoIHN0ZXAsCi8vIHRoZW4gcGFzc2VzIHRoZSByZXN1bHQgb2YgdGhlIHByZXZpb3VzIHN0ZXAgYXMgdGhlIGlucHV0IHRvIHRoZSBuZXh0IHN0ZXAuCmZ1bmN0aW9uIF91cGxvYWRGaWxlc0NvbnRpbnVlKG91dHB1dElkKSB7CiAgY29uc3Qgb3V0cHV0RWxlbWVudCA9IGRvY3VtZW50LmdldEVsZW1lbnRCeUlkKG91dHB1dElkKTsKICBjb25zdCBzdGVwcyA9IG91dHB1dEVsZW1lbnQuc3RlcHM7CgogIGNvbnN0IG5leHQgPSBzdGVwcy5uZXh0KG91dHB1dEVsZW1lbnQubGFzdFByb21pc2VWYWx1ZSk7CiAgcmV0dXJuIFByb21pc2UucmVzb2x2ZShuZXh0LnZhbHVlLnByb21pc2UpLnRoZW4oKHZhbHVlKSA9PiB7CiAgICAvLyBDYWNoZSB0aGUgbGFzdCBwcm9taXNlIHZhbHVlIHRvIG1ha2UgaXQgYXZhaWxhYmxlIHRvIHRoZSBuZXh0CiAgICAvLyBzdGVwIG9mIHRoZSBnZW5lcmF0b3IuCiAgICBvdXRwdXRFbGVtZW50Lmxhc3RQcm9taXNlVmFsdWUgPSB2YWx1ZTsKICAgIHJldHVybiBuZXh0LnZhbHVlLnJlc3BvbnNlOwogIH0pOwp9CgovKioKICogR2VuZXJhdG9yIGZ1bmN0aW9uIHdoaWNoIGlzIGNhbGxlZCBiZXR3ZWVuIGVhY2ggYXN5bmMgc3RlcCBvZiB0aGUgdXBsb2FkCiAqIHByb2Nlc3MuCiAqIEBwYXJhbSB7c3RyaW5nfSBpbnB1dElkIEVsZW1lbnQgSUQgb2YgdGhlIGlucHV0IGZpbGUgcGlja2VyIGVsZW1lbnQuCiAqIEBwYXJhbSB7c3RyaW5nfSBvdXRwdXRJZCBFbGVtZW50IElEIG9mIHRoZSBvdXRwdXQgZGlzcGxheS4KICogQHJldHVybiB7IUl0ZXJhYmxlPCFPYmplY3Q+fSBJdGVyYWJsZSBvZiBuZXh0IHN0ZXBzLgogKi8KZnVuY3Rpb24qIHVwbG9hZEZpbGVzU3RlcChpbnB1dElkLCBvdXRwdXRJZCkgewogIGNvbnN0IGlucHV0RWxlbWVudCA9IGRvY3VtZW50LmdldEVsZW1lbnRCeUlkKGlucHV0SWQpOwogIGlucHV0RWxlbWVudC5kaXNhYmxlZCA9IGZhbHNlOwoKICBjb25zdCBvdXRwdXRFbGVtZW50ID0gZG9jdW1lbnQuZ2V0RWxlbWVudEJ5SWQob3V0cHV0SWQpOwogIG91dHB1dEVsZW1lbnQuaW5uZXJIVE1MID0gJyc7CgogIGNvbnN0IHBpY2tlZFByb21pc2UgPSBuZXcgUHJvbWlzZSgocmVzb2x2ZSkgPT4gewogICAgaW5wdXRFbGVtZW50LmFkZEV2ZW50TGlzdGVuZXIoJ2NoYW5nZScsIChlKSA9PiB7CiAgICAgIHJlc29sdmUoZS50YXJnZXQuZmlsZXMpOwogICAgfSk7CiAgfSk7CgogIGNvbnN0IGNhbmNlbCA9IGRvY3VtZW50LmNyZWF0ZUVsZW1lbnQoJ2J1dHRvbicpOwogIGlucHV0RWxlbWVudC5wYXJlbnRFbGVtZW50LmFwcGVuZENoaWxkKGNhbmNlbCk7CiAgY2FuY2VsLnRleHRDb250ZW50ID0gJ0NhbmNlbCB1cGxvYWQnOwogIGNvbnN0IGNhbmNlbFByb21pc2UgPSBuZXcgUHJvbWlzZSgocmVzb2x2ZSkgPT4gewogICAgY2FuY2VsLm9uY2xpY2sgPSAoKSA9PiB7CiAgICAgIHJlc29sdmUobnVsbCk7CiAgICB9OwogIH0pOwoKICAvLyBXYWl0IGZvciB0aGUgdXNlciB0byBwaWNrIHRoZSBmaWxlcy4KICBjb25zdCBmaWxlcyA9IHlpZWxkIHsKICAgIHByb21pc2U6IFByb21pc2UucmFjZShbcGlja2VkUHJvbWlzZSwgY2FuY2VsUHJvbWlzZV0pLAogICAgcmVzcG9uc2U6IHsKICAgICAgYWN0aW9uOiAnc3RhcnRpbmcnLAogICAgfQogIH07CgogIGNhbmNlbC5yZW1vdmUoKTsKCiAgLy8gRGlzYWJsZSB0aGUgaW5wdXQgZWxlbWVudCBzaW5jZSBmdXJ0aGVyIHBpY2tzIGFyZSBub3QgYWxsb3dlZC4KICBpbnB1dEVsZW1lbnQuZGlzYWJsZWQgPSB0cnVlOwoKICBpZiAoIWZpbGVzKSB7CiAgICByZXR1cm4gewogICAgICByZXNwb25zZTogewogICAgICAgIGFjdGlvbjogJ2NvbXBsZXRlJywKICAgICAgfQogICAgfTsKICB9CgogIGZvciAoY29uc3QgZmlsZSBvZiBmaWxlcykgewogICAgY29uc3QgbGkgPSBkb2N1bWVudC5jcmVhdGVFbGVtZW50KCdsaScpOwogICAgbGkuYXBwZW5kKHNwYW4oZmlsZS5uYW1lLCB7Zm9udFdlaWdodDogJ2JvbGQnfSkpOwogICAgbGkuYXBwZW5kKHNwYW4oCiAgICAgICAgYCgke2ZpbGUudHlwZSB8fCAnbi9hJ30pIC0gJHtmaWxlLnNpemV9IGJ5dGVzLCBgICsKICAgICAgICBgbGFzdCBtb2RpZmllZDogJHsKICAgICAgICAgICAgZmlsZS5sYXN0TW9kaWZpZWREYXRlID8gZmlsZS5sYXN0TW9kaWZpZWREYXRlLnRvTG9jYWxlRGF0ZVN0cmluZygpIDoKICAgICAgICAgICAgICAgICAgICAgICAgICAgICAgICAgICAgJ24vYSd9IC0gYCkpOwogICAgY29uc3QgcGVyY2VudCA9IHNwYW4oJzAlIGRvbmUnKTsKICAgIGxpLmFwcGVuZENoaWxkKHBlcmNlbnQpOwoKICAgIG91dHB1dEVsZW1lbnQuYXBwZW5kQ2hpbGQobGkpOwoKICAgIGNvbnN0IGZpbGVEYXRhUHJvbWlzZSA9IG5ldyBQcm9taXNlKChyZXNvbHZlKSA9PiB7CiAgICAgIGNvbnN0IHJlYWRlciA9IG5ldyBGaWxlUmVhZGVyKCk7CiAgICAgIHJlYWRlci5vbmxvYWQgPSAoZSkgPT4gewogICAgICAgIHJlc29sdmUoZS50YXJnZXQucmVzdWx0KTsKICAgICAgfTsKICAgICAgcmVhZGVyLnJlYWRBc0FycmF5QnVmZmVyKGZpbGUpOwogICAgfSk7CiAgICAvLyBXYWl0IGZvciB0aGUgZGF0YSB0byBiZSByZWFkeS4KICAgIGxldCBmaWxlRGF0YSA9IHlpZWxkIHsKICAgICAgcHJvbWlzZTogZmlsZURhdGFQcm9taXNlLAogICAgICByZXNwb25zZTogewogICAgICAgIGFjdGlvbjogJ2NvbnRpbnVlJywKICAgICAgfQogICAgfTsKCiAgICAvLyBVc2UgYSBjaHVua2VkIHNlbmRpbmcgdG8gYXZvaWQgbWVzc2FnZSBzaXplIGxpbWl0cy4gU2VlIGIvNjIxMTU2NjAuCiAgICBsZXQgcG9zaXRpb24gPSAwOwogICAgd2hpbGUgKHBvc2l0aW9uIDwgZmlsZURhdGEuYnl0ZUxlbmd0aCkgewogICAgICBjb25zdCBsZW5ndGggPSBNYXRoLm1pbihmaWxlRGF0YS5ieXRlTGVuZ3RoIC0gcG9zaXRpb24sIE1BWF9QQVlMT0FEX1NJWkUpOwogICAgICBjb25zdCBjaHVuayA9IG5ldyBVaW50OEFycmF5KGZpbGVEYXRhLCBwb3NpdGlvbiwgbGVuZ3RoKTsKICAgICAgcG9zaXRpb24gKz0gbGVuZ3RoOwoKICAgICAgY29uc3QgYmFzZTY0ID0gYnRvYShTdHJpbmcuZnJvbUNoYXJDb2RlLmFwcGx5KG51bGwsIGNodW5rKSk7CiAgICAgIHlpZWxkIHsKICAgICAgICByZXNwb25zZTogewogICAgICAgICAgYWN0aW9uOiAnYXBwZW5kJywKICAgICAgICAgIGZpbGU6IGZpbGUubmFtZSwKICAgICAgICAgIGRhdGE6IGJhc2U2NCwKICAgICAgICB9LAogICAgICB9OwogICAgICBwZXJjZW50LnRleHRDb250ZW50ID0KICAgICAgICAgIGAke01hdGgucm91bmQoKHBvc2l0aW9uIC8gZmlsZURhdGEuYnl0ZUxlbmd0aCkgKiAxMDApfSUgZG9uZWA7CiAgICB9CiAgfQoKICAvLyBBbGwgZG9uZS4KICB5aWVsZCB7CiAgICByZXNwb25zZTogewogICAgICBhY3Rpb246ICdjb21wbGV0ZScsCiAgICB9CiAgfTsKfQoKc2NvcGUuZ29vZ2xlID0gc2NvcGUuZ29vZ2xlIHx8IHt9OwpzY29wZS5nb29nbGUuY29sYWIgPSBzY29wZS5nb29nbGUuY29sYWIgfHwge307CnNjb3BlLmdvb2dsZS5jb2xhYi5fZmlsZXMgPSB7CiAgX3VwbG9hZEZpbGVzLAogIF91cGxvYWRGaWxlc0NvbnRpbnVlLAp9Owp9KShzZWxmKTsK",
              "ok": true,
              "headers": [
                [
                  "content-type",
                  "application/javascript"
                ]
              ],
              "status": 200,
              "status_text": ""
            }
          },
          "base_uri": "https://localhost:8080/",
          "height": 110
        },
        "id": "vYBUCVTqZquF",
        "outputId": "a2a5deeb-4889-4da3-fcf7-30a07bd04284"
      },
      "source": [
        "# Upload data from local storage to google Colab\n",
        "files.upload()"
      ],
      "execution_count": null,
      "outputs": [
        {
          "output_type": "display_data",
          "data": {
            "text/html": [
              "\n",
              "     <input type=\"file\" id=\"files-ca8cbe92-7f36-47f5-bd75-b64a237903c2\" name=\"files[]\" multiple disabled\n",
              "        style=\"border:none\" />\n",
              "     <output id=\"result-ca8cbe92-7f36-47f5-bd75-b64a237903c2\">\n",
              "      Upload widget is only available when the cell has been executed in the\n",
              "      current browser session. Please rerun this cell to enable.\n",
              "      </output>\n",
              "      <script src=\"/nbextensions/google.colab/files.js\"></script> "
            ],
            "text/plain": [
              "<IPython.core.display.HTML object>"
            ]
          },
          "metadata": {
            "tags": []
          }
        },
        {
          "output_type": "stream",
          "text": [
            "Saving kidney_disease.csv to kidney_disease.csv\n"
          ],
          "name": "stdout"
        },
        {
          "output_type": "execute_result",
          "data": {
            "text/plain": [
              "{'kidney_disease.csv': b'id,age,bp,sg,al,su,rbc,pc,pcc,ba,bgr,bu,sc,sod,pot,hemo,pcv,wc,rc,htn,dm,cad,appet,pe,ane,classification\\n0,48.0,80.0,1.02,1.0,0.0,,normal,notpresent,notpresent,121.0,36.0,1.2,,,15.4,44,7800,5.2,yes,yes,no,good,no,no,ckd\\n1,7.0,50.0,1.02,4.0,0.0,,normal,notpresent,notpresent,,18.0,0.8,,,11.3,38,6000,,no,no,no,good,no,no,ckd\\n2,62.0,80.0,1.01,2.0,3.0,normal,normal,notpresent,notpresent,423.0,53.0,1.8,,,9.6,31,7500,,no,yes,no,poor,no,yes,ckd\\n3,48.0,70.0,1.005,4.0,0.0,normal,abnormal,present,notpresent,117.0,56.0,3.8,111.0,2.5,11.2,32,6700,3.9,yes,no,no,poor,yes,yes,ckd\\n4,51.0,80.0,1.01,2.0,0.0,normal,normal,notpresent,notpresent,106.0,26.0,1.4,,,11.6,35,7300,4.6,no,no,no,good,no,no,ckd\\n5,60.0,90.0,1.015,3.0,0.0,,,notpresent,notpresent,74.0,25.0,1.1,142.0,3.2,12.2,39,7800,4.4,yes,yes,no,good,yes,no,ckd\\n6,68.0,70.0,1.01,0.0,0.0,,normal,notpresent,notpresent,100.0,54.0,24.0,104.0,4.0,12.4,36,,,no,no,no,good,no,no,ckd\\n7,24.0,,1.015,2.0,4.0,normal,abnormal,notpresent,notpresent,410.0,31.0,1.1,,,12.4,44,6900,5,no,yes,no,good,yes,no,ckd\\n8,52.0,100.0,1.015,3.0,0.0,normal,abnormal,present,notpresent,138.0,60.0,1.9,,,10.8,33,9600,4.0,yes,yes,no,good,no,yes,ckd\\n9,53.0,90.0,1.02,2.0,0.0,abnormal,abnormal,present,notpresent,70.0,107.0,7.2,114.0,3.7,9.5,29,12100,3.7,yes,yes,no,poor,no,yes,ckd\\n10,50.0,60.0,1.01,2.0,4.0,,abnormal,present,notpresent,490.0,55.0,4.0,,,9.4,28,,,yes,yes,no,good,no,yes,ckd\\n11,63.0,70.0,1.01,3.0,0.0,abnormal,abnormal,present,notpresent,380.0,60.0,2.7,131.0,4.2,10.8,32,4500,3.8,yes,yes,no,poor,yes,no,ckd\\n12,68.0,70.0,1.015,3.0,1.0,,normal,present,notpresent,208.0,72.0,2.1,138.0,5.8,9.7,28,12200,3.4,yes,yes,yes,poor,yes,no,ckd\\n13,68.0,70.0,,,,,,notpresent,notpresent,98.0,86.0,4.6,135.0,3.4,9.8,,,,yes,yes,yes,poor,yes,no,ckd\\n14,68.0,80.0,1.01,3.0,2.0,normal,abnormal,present,present,157.0,90.0,4.1,130.0,6.4,5.6,16,11000,2.6,yes,yes,yes,poor,yes,no,ckd\\n15,40.0,80.0,1.015,3.0,0.0,,normal,notpresent,notpresent,76.0,162.0,9.6,141.0,4.9,7.6,24,3800,2.8,yes,no,no,good,no,yes,ckd\\n16,47.0,70.0,1.015,2.0,0.0,,normal,notpresent,notpresent,99.0,46.0,2.2,138.0,4.1,12.6,,,,no,no,no,good,no,no,ckd\\n17,47.0,80.0,,,,,,notpresent,notpresent,114.0,87.0,5.2,139.0,3.7,12.1,,,,yes,no,no,poor,no,no,ckd\\n18,60.0,100.0,1.025,0.0,3.0,,normal,notpresent,notpresent,263.0,27.0,1.3,135.0,4.3,12.7,37,11400,4.3,yes,yes,yes,good,no,no,ckd\\n19,62.0,60.0,1.015,1.0,0.0,,abnormal,present,notpresent,100.0,31.0,1.6,,,10.3,30,5300,3.7,yes,no,yes,good,no,no,ckd\\n20,61.0,80.0,1.015,2.0,0.0,abnormal,abnormal,notpresent,notpresent,173.0,148.0,3.9,135.0,5.2,7.7,24,9200,3.2,yes,yes,yes,poor,yes,yes,ckd\\n21,60.0,90.0,,,,,,notpresent,notpresent,,180.0,76.0,4.5,,10.9,32,6200,3.6,yes,yes,yes,good,no,no,ckd\\n22,48.0,80.0,1.025,4.0,0.0,normal,abnormal,notpresent,notpresent,95.0,163.0,7.7,136.0,3.8,9.8,32,6900,3.4,yes,no,no,good,no,yes,ckd\\n23,21.0,70.0,1.01,0.0,0.0,,normal,notpresent,notpresent,,,,,,,,,,no,no,no,poor,no,yes,ckd\\n24,42.0,100.0,1.015,4.0,0.0,normal,abnormal,notpresent,present,,50.0,1.4,129.0,4.0,11.1,39,8300,4.6,yes,no,no,poor,no,no,ckd\\n25,61.0,60.0,1.025,0.0,0.0,,normal,notpresent,notpresent,108.0,75.0,1.9,141.0,5.2,9.9,29,8400,3.7,yes,yes,no,good,no,yes,ckd\\n26,75.0,80.0,1.015,0.0,0.0,,normal,notpresent,notpresent,156.0,45.0,2.4,140.0,3.4,11.6,35,10300,4,yes,yes,no,poor,no,no,ckd\\n27,69.0,70.0,1.01,3.0,4.0,normal,abnormal,notpresent,notpresent,264.0,87.0,2.7,130.0,4.0,12.5,37,9600,4.1,yes,yes,yes,good,yes,no,ckd\\n28,75.0,70.0,,1.0,3.0,,,notpresent,notpresent,123.0,31.0,1.4,,,,,,,no,yes,no,good,no,no,ckd\\n29,68.0,70.0,1.005,1.0,0.0,abnormal,abnormal,present,notpresent,,28.0,1.4,,,12.9,38,,,no,no,yes,good,no,no,ckd\\n30,,70.0,,,,,,notpresent,notpresent,93.0,155.0,7.3,132.0,4.9,,,,,yes, yes,no,good,no,no,ckd\\n31,73.0,90.0,1.015,3.0,0.0,,abnormal,present,notpresent,107.0,33.0,1.5,141.0,4.6,10.1,30,7800,4,no,no,no,poor,no,no,ckd\\n32,61.0,90.0,1.01,1.0,1.0,,normal,notpresent,notpresent,159.0,39.0,1.5,133.0,4.9,11.3,34,9600,4.0,yes,yes,no,poor,no,no,ckd\\n33,60.0,100.0,1.02,2.0,0.0,abnormal,abnormal,notpresent,notpresent,140.0,55.0,2.5,,,10.1,29,,,yes,no,no,poor,no,no,ckd\\n34,70.0,70.0,1.01,1.0,0.0,normal,,present,present,171.0,153.0,5.2,,,,,,,no,yes,no,poor,no,no,ckd\\n35,65.0,90.0,1.02,2.0,1.0,abnormal,normal,notpresent,notpresent,270.0,39.0,2.0,,,12.0,36,9800,4.9,yes,yes,no,poor,no,yes,ckd\\n36,76.0,70.0,1.015,1.0,0.0,normal,normal,notpresent,notpresent,92.0,29.0,1.8,133.0,3.9,10.3,32,,,yes,no,no,good,no,no,ckd\\n37,72.0,80.0,,,,,,notpresent,notpresent,137.0,65.0,3.4,141.0,4.7,9.7,28,6900,2.5,yes,yes,no,poor,no,yes,ckd\\t\\n38,69.0,80.0,1.02,3.0,0.0,abnormal,normal,notpresent,notpresent,,103.0,4.1,132.0,5.9,12.5,,,,yes,no,no,good,no,no,ckd\\n39,82.0,80.0,1.01,2.0,2.0,normal,,notpresent,notpresent,140.0,70.0,3.4,136.0,4.2,13.0,40,9800,4.2,yes,yes,no,good,no,no,ckd\\n40,46.0,90.0,1.01,2.0,0.0,normal,abnormal,notpresent,notpresent,99.0,80.0,2.1,,,11.1,32,9100,4.1,yes,no,\\tno,good,no,no,ckd\\n41,45.0,70.0,1.01,0.0,0.0,,normal,notpresent,notpresent,,20.0,0.7,,,,,,,no,no,no,good,yes,no,ckd\\n42,47.0,100.0,1.01,0.0,0.0,,normal,notpresent,notpresent,204.0,29.0,1.0,139.0,4.2,9.7,33,9200,4.5,yes,no,no,good,no,yes,ckd\\n43,35.0,80.0,1.01,1.0,0.0,abnormal,,notpresent,notpresent,79.0,202.0,10.8,134.0,3.4,7.9,24,7900,3.1,no,yes,no,good,no,no,ckd\\n44,54.0,80.0,1.01,3.0,0.0,abnormal,abnormal,notpresent,notpresent,207.0,77.0,6.3,134.0,4.8,9.7,28,,,yes,yes,no,poor,yes,no,ckd\\n45,54.0,80.0,1.02,3.0,0.0,,abnormal,notpresent,notpresent,208.0,89.0,5.9,130.0,4.9,9.3,,,,yes,yes,no,poor,yes,no,ckd\\n46,48.0,70.0,1.015,0.0,0.0,,normal,notpresent,notpresent,124.0,24.0,1.2,142.0,4.2,12.4,37,6400,4.7,no,yes,no,good,no,no,ckd\\n47,11.0,80.0,1.01,3.0,0.0,,normal,notpresent,notpresent,,17.0,0.8,,,15.0,45,8600,,no,no,no,good,no,no,ckd\\n48,73.0,70.0,1.005,0.0,0.0,normal,normal,notpresent,notpresent,70.0,32.0,0.9,125.0,4.0,10.0,29,18900,3.5,yes,yes,no,good,yes,no,ckd\\n49,60.0,70.0,1.01,2.0,0.0,normal,abnormal,present,notpresent,144.0,72.0,3.0,,,9.7,29,21600,3.5,yes,yes,no,poor,no,yes,ckd\\n50,53.0,60.0,,,,,,notpresent,notpresent,91.0,114.0,3.25,142.0,4.3,8.6,28,11000,3.8,yes,yes,no,poor,yes,yes,ckd\\n51,54.0,100.0,1.015,3.0,0.0,,normal,present,notpresent,162.0,66.0,1.6,136.0,4.4,10.3,33,,,yes,yes,no,poor,yes,no,ckd\\n52,53.0,90.0,1.015,0.0,0.0,,normal,notpresent,notpresent,,38.0,2.2,,,10.9,34,4300,3.7,no,no,no,poor,no,yes,ckd\\n53,62.0,80.0,1.015,0.0,5.0,,,notpresent,notpresent,246.0,24.0,1.0,,,13.6,40,8500,4.7,yes,yes,no,good,no,no,ckd\\n54,63.0,80.0,1.01,2.0,2.0,normal,,notpresent,notpresent,,,3.4,136.0,4.2,13.0,40,9800,4.2,yes,no,yes,good,no,no,ckd\\n55,35.0,80.0,1.005,3.0,0.0,abnormal,normal,notpresent,notpresent,,,,,,9.5,28,,,no,no,no,good,yes,no,ckd\\n56,76.0,70.0,1.015,3.0,4.0,normal,abnormal,present,notpresent,,164.0,9.7,131.0,4.4,10.2,30,11300,3.4,yes,yes,yes,poor,yes,no,ckd\\n57,76.0,90.0,,,,,normal,notpresent,notpresent,93.0,155.0,7.3,132.0,4.9,,,,,yes,yes,yes,poor,no,no,ckd\\n58,73.0,80.0,1.02,2.0,0.0,abnormal,abnormal,notpresent,notpresent,253.0,142.0,4.6,138.0,5.8,10.5,33,7200,4.3,yes,yes,yes,good,no,no,ckd\\n59,59.0,100.0,,,,,,notpresent,notpresent,,96.0,6.4,,,6.6,,,,yes,yes,no,good,no,yes,ckd\\n60,67.0,90.0,1.02,1.0,0.0,,abnormal,present,notpresent,141.0,66.0,3.2,138.0,6.6,,,,,yes,no,no,good,no,no,ckd\\n61,67.0,80.0,1.01,1.0,3.0,normal,abnormal,notpresent,notpresent,182.0,391.0,32.0,163.0,39.0,,,,,no,no,no,good,yes,no,ckd\\n62,15.0,60.0,1.02,3.0,0.0,,normal,notpresent,notpresent,86.0,15.0,0.6,138.0,4.0,11.0,33,7700,3.8,yes,yes,no,good,no,no,ckd\\n63,46.0,70.0,1.015,1.0,0.0,abnormal,normal,notpresent,notpresent,150.0,111.0,6.1,131.0,3.7,7.5,27,,,no,no,no,good,no,yes,ckd\\n64,55.0,80.0,1.01,0.0,0.0,,normal,notpresent,notpresent,146.0,,,,,9.8,,,,no,no,\\tno,good,no,no,ckd\\n65,44.0,90.0,1.01,1.0,0.0,,normal,notpresent,notpresent,,20.0,1.1,,,15.0,48,,,no,\\tno,no,good,no,no,ckd\\n66,67.0,70.0,1.02,2.0,0.0,abnormal,normal,notpresent,notpresent,150.0,55.0,1.6,131.0,4.8,,\\t?,,,yes,yes,no,good,yes,no,ckd\\n67,45.0,80.0,1.02,3.0,0.0,normal,abnormal,notpresent,notpresent,425.0,,,,,,,,,no,no,no,poor,no,no,ckd\\n68,65.0,70.0,1.01,2.0,0.0,,normal,present,notpresent,112.0,73.0,3.3,,,10.9,37,,,no,no,no,good,no,no,ckd\\n69,26.0,70.0,1.015,0.0,4.0,,normal,notpresent,notpresent,250.0,20.0,1.1,,,15.6,52,6900,6.0,no,yes,no,good,no,no,ckd\\n70,61.0,80.0,1.015,0.0,4.0,,normal,notpresent,notpresent,360.0,19.0,0.7,137.0,4.4,15.2,44,8300,5.2,yes,yes,no,good,no,no,ckd\\n71,46.0,60.0,1.01,1.0,0.0,normal,normal,notpresent,notpresent,163.0,92.0,3.3,141.0,4.0,9.8,28,14600,3.2,yes,yes,no,good,no,no,ckd\\n72,64.0,90.0,1.01,3.0,3.0,,abnormal,present,notpresent,,35.0,1.3,,,10.3,,,,yes,yes,no,good,yes,no,ckd\\n73,,100.0,1.015,2.0,0.0,abnormal,abnormal,notpresent,notpresent,129.0,107.0,6.7,132.0,4.4,4.8,14,6300,,yes,no,no,good,yes,yes,ckd\\n74,56.0,90.0,1.015,2.0,0.0,abnormal,abnormal,notpresent,notpresent,129.0,107.0,6.7,131.0,4.8,9.1,29,6400,3.4,yes,no,no,good,no,no,ckd\\n75,5.0,,1.015,1.0,0.0,,normal,notpresent,notpresent,,16.0,0.7,138.0,3.2,8.1,,,,no,no,no,good,no,yes,ckd\\n76,48.0,80.0,1.005,4.0,0.0,abnormal,abnormal,notpresent,present,133.0,139.0,8.5,132.0,5.5,10.3,36,\\t6200,4,no,yes,no,good,yes,no,ckd\\n77,67.0,70.0,1.01,1.0,0.0,,normal,notpresent,notpresent,102.0,48.0,3.2,137.0,5.0,11.9,34,7100,3.7,yes,yes,no,good,yes,no,ckd\\n78,70.0,80.0,,,,,,notpresent,notpresent,158.0,85.0,3.2,141.0,3.5,10.1,30,,,yes,no,no,good,yes,no,ckd\\n79,56.0,80.0,1.01,1.0,0.0,,normal,notpresent,notpresent,165.0,55.0,1.8,,,13.5,40,11800,5.0,yes,yes,no,poor,yes,no,ckd\\n80,74.0,80.0,1.01,0.0,0.0,,normal,notpresent,notpresent,132.0,98.0,2.8,133.0,5.0,10.8,31,9400,3.8,yes,yes,no,good,no,no,ckd\\n81,45.0,90.0,,,,,,notpresent,notpresent,360.0,45.0,2.4,128.0,4.4,8.3,29,5500,3.7,yes,yes,no,good,no,no,ckd\\n82,38.0,70.0,,,,,,notpresent,notpresent,104.0,77.0,1.9,140.0,3.9,,,,,yes,no,no,poor,yes,no,ckd\\n83,48.0,70.0,1.015,1.0,0.0,normal,normal,notpresent,notpresent,127.0,19.0,1.0,134.0,3.6,,,,,yes,yes,no,good,no,no,ckd\\n84,59.0,70.0,1.01,3.0,0.0,normal,abnormal,notpresent,notpresent,76.0,186.0,15.0,135.0,7.6,7.1,22,3800,2.1,yes,no,no,poor,yes,yes,ckd\\n85,70.0,70.0,1.015,2.0,,,,notpresent,notpresent,,46.0,1.5,,,9.9,,,,no,yes,no,poor,yes,no,ckd\\n86,56.0,80.0,,,,,,notpresent,notpresent,415.0,37.0,1.9,,,,,,,no,yes,no,good,no,no,ckd\\n87,70.0,100.0,1.005,1.0,0.0,normal,abnormal,present,notpresent,169.0,47.0,2.9,,,11.1,32,5800,5,yes,yes,no,poor,no,no,ckd\\n88,58.0,110.0,1.01,4.0,0.0,,normal,notpresent,notpresent,251.0,52.0,2.2,,,,,13200,4.7,yes,\\tyes,no,good,no,no,ckd\\n89,50.0,70.0,1.02,0.0,0.0,,normal,notpresent,notpresent,109.0,32.0,1.4,139.0,4.7,,,,,no,no,no,poor,no,no,ckd\\n90,63.0,100.0,1.01,2.0,2.0,normal,normal,notpresent,present,280.0,35.0,3.2,143.0,3.5,13.0,40,9800,4.2,yes,no,yes,good,no,no,ckd\\n91,56.0,70.0,1.015,4.0,1.0,abnormal,normal,notpresent,notpresent,210.0,26.0,1.7,136.0,3.8,16.1,52,12500,5.6,no,no,no,good,no,no,ckd\\n92,71.0,70.0,1.01,3.0,0.0,normal,abnormal,present,present,219.0,82.0,3.6,133.0,4.4,10.4,33,5600,3.6,yes,yes,yes,good,no,no,ckd\\n93,73.0,100.0,1.01,3.0,2.0,abnormal,abnormal,present,notpresent,295.0,90.0,5.6,140.0,2.9,9.2,30,7000,3.2,yes,yes,yes,poor,no,no,ckd\\n94,65.0,70.0,1.01,0.0,0.0,,normal,notpresent,notpresent,93.0,66.0,1.6,137.0,4.5,11.6,36,11900,3.9,no,yes,no,good,no,no,ckd\\n95,62.0,90.0,1.015,1.0,0.0,,normal,notpresent,notpresent,94.0,25.0,1.1,131.0,3.7,,,,,yes,no,no,good,yes,yes,ckd\\n96,60.0,80.0,1.01,1.0,1.0,,normal,notpresent,notpresent,172.0,32.0,2.7,,,11.2,36,,,no,yes,yes,poor,no,no,ckd\\n97,65.0,60.0,1.015,1.0,0.0,,normal,notpresent,notpresent,91.0,51.0,2.2,132.0,3.8,10.0,32,9100,4.0,yes,yes,no,poor,yes,no,ckd\\n98,50.0,140.0,,,,,,notpresent,notpresent,101.0,106.0,6.5,135.0,4.3,6.2,18,5800,2.3,yes,yes,no,poor,no,yes,ckd\\n99,56.0,180.0,,0.0,4.0,,abnormal,notpresent,notpresent,298.0,24.0,1.2,139.0,3.9,11.2,32,10400,4.2,yes,yes,no,poor,yes,no,ckd\\n100,34.0,70.0,1.015,4.0,0.0,abnormal,abnormal,notpresent,notpresent,153.0,22.0,0.9,133.0,3.8,,,,,no,no,no,good,yes,no,ckd\\n101,71.0,90.0,1.015,2.0,0.0,,abnormal,present,present,88.0,80.0,4.4,139.0,5.7,11.3,33,10700,3.9,no,no,no,good,no,no,ckd\\n102,17.0,60.0,1.01,0.0,0.0,,normal,notpresent,notpresent,92.0,32.0,2.1,141.0,4.2,13.9,52,7000,,no,no,no,good,no,no,ckd\\n103,76.0,70.0,1.015,2.0,0.0,normal,abnormal,present,notpresent,226.0,217.0,10.2,,,10.2,36,12700,4.2,yes,no,no,poor,yes,yes,ckd\\n104,55.0,90.0,,,,,,notpresent,notpresent,143.0,88.0,2.0,,,,,,,yes,yes,no,poor,yes,no,ckd\\n105,65.0,80.0,1.015,0.0,0.0,,normal,notpresent,notpresent,115.0,32.0,11.5,139.0,4.0,14.1,42,6800,5.2,no,no,no,good,no,no,ckd\\n106,50.0,90.0,,,,,,notpresent,notpresent,89.0,118.0,6.1,127.0,4.4,6.0,17,6500,,yes,yes,no,good,yes,yes,ckd\\n107,55.0,100.0,1.015,1.0,4.0,normal,,notpresent,notpresent,297.0,53.0,2.8,139.0,4.5,11.2,34,13600,4.4,yes,yes,no,good,no,no,ckd\\n108,45.0,80.0,1.015,0.0,0.0,,abnormal,notpresent,notpresent,107.0,15.0,1.0,141.0,4.2,11.8,37,10200,4.2,no,no,no,good,no,no,ckd\\n109,54.0,70.0,,,,,,notpresent,notpresent,233.0,50.1,1.9,,,11.7,,,,no,yes,no,good,no,no,ckd\\n110,63.0,90.0,1.015,0.0,0.0,,normal,notpresent,notpresent,123.0,19.0,2.0,142.0,3.8,11.7,34,11400,4.7,no,no,no,good,no,no,ckd\\n111,65.0,80.0,1.01,3.0,3.0,,normal,notpresent,notpresent,294.0,71.0,4.4,128.0,5.4,10.0,32,9000,3.9,yes,yes,yes,good,no,no,ckd\\n112,,60.0,1.015,3.0,0.0,abnormal,abnormal,notpresent,notpresent,,34.0,1.2,,,10.8,33,,,no,no,no,good,no,no,ckd\\n113,61.0,90.0,1.015,0.0,2.0,,normal,notpresent,notpresent,,,,,,,,9800,,no,yes,no,poor,no,yes,ckd\\n114,12.0,60.0,1.015,3.0,0.0,abnormal,abnormal,present,notpresent,,51.0,1.8,,,12.1,,10300,,no,no,no,good,no,no,ckd\\n115,47.0,80.0,1.01,0.0,0.0,,abnormal,notpresent,notpresent,,28.0,0.9,,,12.4,44,5600,4.3,no,no,no,good,no,yes,ckd\\n116,,70.0,1.015,4.0,0.0,abnormal,normal,notpresent,notpresent,104.0,16.0,0.5,,,,,,,no,no,no,good,yes,no,ckd\\n117,,70.0,1.02,0.0,0.0,,,notpresent,notpresent,219.0,36.0,1.3,139.0,3.7,12.5,37,9800,4.4,no,no,no,good,no,no,ckd\\n118,55.0,70.0,1.01,3.0,0.0,,normal,notpresent,notpresent,99.0,25.0,1.2,,,11.4,,,,no,no,no,poor,yes,no,ckd\\n119,60.0,70.0,1.01,0.0,0.0,,normal,notpresent,notpresent,140.0,27.0,1.2,,,,,,,no,no,no,good,no,no,ckd\\n120,72.0,90.0,1.025,1.0,3.0,,normal,notpresent,notpresent,323.0,40.0,2.2,137.0,5.3,12.6,,,,no,yes,yes,poor,no,no,ckd\\n121,54.0,60.0,,3.0,,,,notpresent,notpresent,125.0,21.0,1.3,137.0,3.4,15.0,46,,,yes,yes,no,good,yes,no,ckd\\n122,34.0,70.0,,,,,,notpresent,notpresent,,219.0,12.2,130.0,3.8,6.0,,,,yes,no,no,good,no,yes,ckd\\n123,43.0,80.0,1.015,2.0,3.0,,abnormal,present,present,,30.0,1.1,,,14.0,42,14900,,no,no,no,good,no,no,ckd\\n124,65.0,100.0,1.015,0.0,0.0,,normal,notpresent,notpresent,90.0,98.0,2.5,,,9.1,28,5500,3.6,yes,no,no,good,no,no,ckd\\n125,72.0,90.0,,,,,,notpresent,notpresent,308.0,36.0,2.5,131.0,4.3,,,,,yes,yes,no,poor,no,no,ckd\\n126,70.0,90.0,1.015,0.0,0.0,,normal,notpresent,notpresent,144.0,125.0,4.0,136.0,4.6,12.0,37,8200,4.5,yes,yes,no,poor,yes,no,ckd\\n127,71.0,60.0,1.015,4.0,0.0,normal,normal,notpresent,notpresent,118.0,125.0,5.3,136.0,4.9,11.4,35,15200,4.3,yes,yes,no,poor,yes,no,ckd\\n128,52.0,90.0,1.015,4.0,3.0,normal,abnormal,notpresent,notpresent,224.0,166.0,5.6,133.0,47.0,8.1,23,5000,2.9,yes,yes,no,good,no,yes,ckd\\n129,75.0,70.0,1.025,1.0,0.0,,normal,notpresent,notpresent,158.0,49.0,1.4,135.0,4.7,11.1,,,,yes,no,no,poor,yes,no,ckd\\n130,50.0,90.0,1.01,2.0,0.0,normal,abnormal,present,present,128.0,208.0,9.2,134.0,4.8,8.2,22,16300,2.7,no,no,no,poor,yes,yes,ckd\\n131,5.0,50.0,1.01,0.0,0.0,,normal,notpresent,notpresent,,25.0,0.6,,,11.8,36,12400,,no,no,no,good,no,no,ckd\\n132,50.0,,,,,normal,,notpresent,notpresent,219.0,176.0,13.8,136.0,4.5,8.6,24,13200,2.7,yes,no,no,good,yes,yes,ckd\\n133,70.0,100.0,1.015,4.0,0.0,normal,normal,notpresent,notpresent,118.0,125.0,5.3,136.0,4.9,12.0,37,\\t8400,8.0,yes,no,no,good,no,no,ckd\\n134,47.0,100.0,1.01,,,normal,,notpresent,notpresent,122.0,,16.9,138.0,5.2,10.8,33,10200,3.8,no,yes,no,good,no,no,ckd\\n135,48.0,80.0,1.015,0.0,2.0,,normal,notpresent,notpresent,214.0,24.0,1.3,140.0,4.0,13.2,39,,,no,yes,no,poor,no,no,ckd\\n136,46.0,90.0,1.02,,,,normal,notpresent,notpresent,213.0,68.0,2.8,146.0,6.3,9.3,,,,yes,yes,no,good,no,no,ckd\\n137,45.0,60.0,1.01,2.0,0.0,normal,abnormal,present,notpresent,268.0,86.0,4.0,134.0,5.1,10.0,29,9200,,yes,yes,no,good,no,no,ckd\\n138,73.0,,1.01,1.0,0.0,,,notpresent,notpresent,95.0,51.0,1.6,142.0,3.5,,,,,no,\\tno,no,good,no,no,ckd\\n139,41.0,70.0,1.015,2.0,0.0,,abnormal,notpresent,present,,68.0,2.8,132.0,4.1,11.1,33,,,yes,no,no,good,yes,yes,ckd\\n140,69.0,70.0,1.01,0.0,4.0,,normal,notpresent,notpresent,256.0,40.0,1.2,142.0,5.6,,,,,no,no,no,good,no,no,ckd\\n141,67.0,70.0,1.01,1.0,0.0,normal,normal,notpresent,notpresent,,106.0,6.0,137.0,4.9,6.1,19,6500,,yes,no,no,good,no,yes,ckd\\n142,72.0,90.0,,,,,,notpresent,notpresent,84.0,145.0,7.1,135.0,5.3,,,,,no,yes,no,good,no,no,ckd\\n143,41.0,80.0,1.015,1.0,4.0,abnormal,normal,notpresent,notpresent,210.0,165.0,18.0,135.0,4.7,,,,,no,yes,no,good,no,no,ckd\\n144,60.0,90.0,1.01,2.0,0.0,abnormal,normal,notpresent,notpresent,105.0,53.0,2.3,136.0,5.2,11.1,33,10500,4.1,no,no,no,good,no,no,ckd\\n145,57.0,90.0,1.015,5.0,0.0,abnormal,abnormal,notpresent,present,,322.0,13.0,126.0,4.8,8.0,24,4200,3.3,yes,yes,yes,poor,yes,yes,ckd\\n146,53.0,100.0,1.01,1.0,3.0,abnormal,normal,notpresent,notpresent,213.0,23.0,1.0,139.0,4.0,,,,,no,yes,no,good,no,no,ckd\\n147,60.0,60.0,1.01,3.0,1.0,normal,abnormal,present,notpresent,288.0,36.0,1.7,130.0,3.0,7.9,25,15200,3.0,yes,no,no,poor,no,yes,ckd\\n148,69.0,60.0,,,,,,notpresent,notpresent,171.0,26.0,48.1,,,,,,,yes,no,no,poor,no,no,ckd\\n149,65.0,70.0,1.02,1.0,0.0,abnormal,abnormal,notpresent,notpresent,139.0,29.0,1.0,,,10.5,32,,,yes,no,no,good,yes,no,ckd\\n150,8.0,60.0,1.025,3.0,0.0,normal,normal,notpresent,notpresent,78.0,27.0,0.9,,,12.3,41,6700,,no,no,no,poor,yes,no,ckd\\n151,76.0,90.0,,,,,,notpresent,notpresent,172.0,46.0,1.7,141.0,5.5,9.6,30,,,yes,yes,no,good,no,yes,ckd\\n152,39.0,70.0,1.01,0.0,0.0,,normal,notpresent,notpresent,121.0,20.0,0.8,133.0,3.5,10.9,32,,,no,yes,no,good,no,no,ckd\\n153,55.0,90.0,1.01,2.0,1.0,abnormal,abnormal,notpresent,notpresent,273.0,235.0,14.2,132.0,3.4,8.3,22,14600,2.9,yes,yes,no,poor,yes,yes,ckd\\n154,56.0,90.0,1.005,4.0,3.0,abnormal,abnormal,notpresent,notpresent,242.0,132.0,16.4,140.0,4.2,8.4,26,,3,yes,yes,no,poor,yes,yes,ckd\\n155,50.0,70.0,1.02,3.0,0.0,abnormal,normal,present,present,123.0,40.0,1.8,,,11.1,36,4700,,no,no,no,good,no,no,ckd\\n156,66.0,90.0,1.015,2.0,0.0,,normal,notpresent,present,153.0,76.0,3.3,,,,,,,no,no,no,poor,no,no,ckd\\n157,62.0,70.0,1.025,3.0,0.0,normal,abnormal,notpresent,notpresent,122.0,42.0,1.7,136.0,4.7,12.6,39,7900,3.9,yes,yes,no,good,no,no,ckd\\n158,71.0,60.0,1.02,3.0,2.0,normal,normal,present,notpresent,424.0,48.0,1.5,132.0,4.0,10.9,31,,,yes,yes,yes,good,no,no,ckd\\n159,59.0,80.0,1.01,1.0,0.0,abnormal,normal,notpresent,notpresent,303.0,35.0,1.3,122.0,3.5,10.4,35,10900,4.3,no,yes,no,poor,no,no,ckd\\n160,81.0,60.0,,,,,,notpresent,notpresent,148.0,39.0,2.1,147.0,4.2,10.9,35,9400,2.4,yes,yes,yes,poor,yes,no,ckd\\n161,62.0,,1.015,3.0,0.0,abnormal,,notpresent,notpresent,,,,,,14.3,42,10200,4.8,yes,yes,no,good,no,no,ckd\\n162,59.0,70.0,,,,,,notpresent,notpresent,204.0,34.0,1.5,124.0,4.1,9.8,37,6000,\\t?,no,yes,no,good,no,no,ckd\\n163,46.0,80.0,1.01,0.0,0.0,,normal,notpresent,notpresent,160.0,40.0,2.0,140.0,4.1,9.0,27,8100,3.2,yes,no,no,poor,no,yes,ckd\\n164,14.0,,1.015,0.0,0.0,,,notpresent,notpresent,192.0,15.0,0.8,137.0,4.2,14.3,40,9500,5.4,no,yes,no,poor,yes,no,ckd\\n165,60.0,80.0,1.02,0.0,2.0,,,notpresent,notpresent,,,,,,,,,,no,yes,no,good,no,no,ckd\\n166,27.0,60.0,,,,,,notpresent,notpresent,76.0,44.0,3.9,127.0,4.3,,,,,no,no,no,poor,yes,yes,ckd\\n167,34.0,70.0,1.02,0.0,0.0,abnormal,normal,notpresent,notpresent,139.0,19.0,0.9,,,12.7,42,2200,,no,no,no,poor,no,no,ckd\\n168,65.0,70.0,1.015,4.0,4.0,,normal,present,notpresent,307.0,28.0,1.5,,,11.0,39,6700,,yes,yes,no,good,no,no,ckd\\n169,,70.0,1.01,0.0,2.0,,normal,notpresent,notpresent,220.0,68.0,2.8,,,8.7,27,,,yes,yes,no,good,no,yes,ckd\\n170,66.0,70.0,1.015,2.0,5.0,,normal,notpresent,notpresent,447.0,41.0,1.7,131.0,3.9,12.5,33,9600,4.4,yes,yes,no,good,no,no,ckd\\n171,83.0,70.0,1.02,3.0,0.0,normal,normal,notpresent,notpresent,102.0,60.0,2.6,115.0,5.7,8.7,26,12800,3.1,yes,no,no,poor,no,yes,ckd\\n172,62.0,80.0,1.01,1.0,2.0,,,notpresent,notpresent,309.0,113.0,2.9,130.0,2.5,10.6,34,12800,4.9,no,no,no,good,no,no,ckd\\n173,17.0,70.0,1.015,1.0,0.0,abnormal,normal,notpresent,notpresent,22.0,1.5,7.3,145.0,2.8,13.1,41,11200,,no,no,no,good,no,no,ckd\\n174,54.0,70.0,,,,,,notpresent,notpresent,111.0,146.0,7.5,141.0,4.7,11.0,35,8600,4.6,no,no,no,good,no,no,ckd\\n175,60.0,50.0,1.01,0.0,0.0,,normal,notpresent,notpresent,261.0,58.0,2.2,113.0,3.0,,,4200,3.4,yes,no,no,good,no,no,ckd\\n176,21.0,90.0,1.01,4.0,0.0,normal,abnormal,present,present,107.0,40.0,1.7,125.0,3.5,8.3,23,12400,3.9,no,no,no,good,no,yes,ckd\\n177,65.0,80.0,1.015,2.0,1.0,normal,normal,present,notpresent,215.0,133.0,2.5,,,13.2,41,,,no,yes,no,good,no,no,ckd\\n178,42.0,90.0,1.02,2.0,0.0,abnormal,abnormal,present,notpresent,93.0,153.0,2.7,139.0,4.3,9.8,34,9800,,no,no,no,poor,yes,yes,ckd\\n179,72.0,90.0,1.01,2.0,0.0,,abnormal,present,notpresent,124.0,53.0,2.3,,,11.9,39,,,no,no,no,good,no,no,ckd\\n180,73.0,90.0,1.01,1.0,4.0,abnormal,abnormal,present,notpresent,234.0,56.0,1.9,,,10.3,28,,,no,yes,no,good,no,no,ckd\\n181,45.0,70.0,1.025,2.0,0.0,normal,abnormal,present,notpresent,117.0,52.0,2.2,136.0,3.8,10.0,30,19100,3.7,no,no,no,good,no,no,ckd\\n182,61.0,80.0,1.02,0.0,0.0,,normal,notpresent,notpresent,131.0,23.0,0.8,140.0,4.1,11.3,35,,,no,no,no,good,no,no,ckd\\n183,30.0,70.0,1.015,0.0,0.0,,normal,notpresent,notpresent,101.0,106.0,6.5,135.0,4.3,,,,,no,no,no,poor,no,no,ckd\\n184,54.0,60.0,1.015,3.0,2.0,,abnormal,notpresent,notpresent,352.0,137.0,3.3,133.0,4.5,11.3,31,5800,3.6,yes,yes,yes,poor,yes,no,ckd\\n185,4.0,,1.02,1.0,0.0,,normal,notpresent,notpresent,99.0,23.0,0.6,138.0,4.4,12.0,34,\\t?,,no,no,no,good,no,no,ckd\\n186,8.0,50.0,1.02,4.0,0.0,normal,normal,notpresent,notpresent,,46.0,1.0,135.0,3.8,,,,,no,no,no,good,yes,no,ckd\\n187,3.0,,1.01,2.0,0.0,normal,normal,notpresent,notpresent,,22.0,0.7,,,10.7,34,12300,,no,no,no,good,no,no,ckd\\n188,8.0,,,,,,,notpresent,notpresent,80.0,66.0,2.5,142.0,3.6,12.2,38,,,no,\\tno,no,good,no,no,ckd\\n189,64.0,60.0,1.01,4.0,1.0,abnormal,abnormal,notpresent,present,239.0,58.0,4.3,137.0,5.4,9.5,29,7500,3.4,yes,yes,no,poor,yes,no,ckd\\n190,6.0,60.0,1.01,4.0,0.0,abnormal,abnormal,notpresent,present,94.0,67.0,1.0,135.0,4.9,9.9,30,16700,4.8,no,no,no,poor,no,no,ckd\\n191,,70.0,1.01,3.0,0.0,normal,normal,notpresent,notpresent,110.0,115.0,6.0,134.0,2.7,9.1,26,9200,3.4,yes,yes,no,poor,no,no,ckd\\n192,46.0,110.0,1.015,0.0,0.0,,normal,notpresent,notpresent,130.0,16.0,0.9,,,,,,,no,no,no,good,no,no,ckd\\n193,32.0,90.0,1.025,1.0,0.0,abnormal,abnormal,notpresent,notpresent,,223.0,18.1,113.0,6.5,5.5,15,2600,2.8,yes,yes,no,poor,yes,yes,ckd\\n194,80.0,70.0,1.01,2.0,,,abnormal,notpresent,notpresent,,49.0,1.2,,,,,,,yes,\\tyes,no,good,no,no,ckd\\n195,70.0,90.0,1.02,2.0,1.0,abnormal,abnormal,notpresent,present,184.0,98.6,3.3,138.0,3.9,5.8,,,,yes,yes,yes,poor,no,no,ckd\\n196,49.0,100.0,1.01,3.0,0.0,abnormal,abnormal,notpresent,notpresent,129.0,158.0,11.8,122.0,3.2,8.1,24,9600,3.5,yes,yes,no,poor,yes,yes,ckd\\n197,57.0,80.0,,,,,,notpresent,notpresent,,111.0,9.3,124.0,5.3,6.8,,4300,3.0,yes,yes,no,good,no,yes,ckd\\n198,59.0,100.0,1.02,4.0,2.0,normal,normal,notpresent,notpresent,252.0,40.0,3.2,137.0,4.7,11.2,30,26400,3.9,yes,yes,no,poor,yes,no,ckd\\n199,65.0,80.0,1.015,0.0,0.0,,normal,notpresent,notpresent,92.0,37.0,1.5,140.0,5.2,8.8,25,10700,3.2,yes,no,yes,good,yes,no,ckd\\n200,90.0,90.0,1.025,1.0,0.0,,normal,notpresent,notpresent,139.0,89.0,3.0,140.0,4.1,12.0,37,7900,3.9,yes,yes,no,good,no,no,ckd\\n201,64.0,70.0,,,,,,notpresent,notpresent,113.0,94.0,7.3,137.0,4.3,7.9,21,,,yes,yes,yes,good,yes,yes,ckd\\n202,78.0,60.0,,,,,,notpresent,notpresent,114.0,74.0,2.9,135.0,5.9,8.0,24,,,no,yes,no,good,no,yes,ckd\\n203,,90.0,,,,,,notpresent,notpresent,207.0,80.0,6.8,142.0,5.5,8.5,,,,yes,yes,no,good,no,yes,ckd\\n204,65.0,90.0,1.01,4.0,2.0,normal,normal,notpresent,notpresent,172.0,82.0,13.5,145.0,6.3,8.8,31,,,yes,yes,no,good,yes,yes,ckd\\n205,61.0,70.0,,,,,,notpresent,notpresent,100.0,28.0,2.1,,,12.6,43,,,yes,yes,no,good,no,no,ckd\\n206,60.0,70.0,1.01,1.0,0.0,,normal,notpresent,notpresent,109.0,96.0,3.9,135.0,4.0,13.8,41,,,yes,no,no,good,no,no,ckd\\n207,50.0,70.0,1.01,0.0,0.0,,normal,notpresent,notpresent,230.0,50.0,2.2,,,12.0,41,10400,4.6,yes,yes,no,good,no,no,ckd\\n208,67.0,80.0,,,,,,notpresent,notpresent,341.0,37.0,1.5,,,12.3,41,6900,4.9,yes,yes,no,good,no,yes,ckd\\n209,19.0,70.0,1.02,0.0,0.0,,normal,notpresent,notpresent,,,,,,11.5,,6900,,no,no,no,good,no,no,ckd\\n210,59.0,100.0,1.015,4.0,2.0,normal,normal,notpresent,notpresent,255.0,132.0,12.8,135.0,5.7,7.3,20,9800,3.9,yes,yes,yes,good,no,yes,ckd\\n211,54.0,120.0,1.015,0.0,0.0,,normal,notpresent,notpresent,103.0,18.0,1.2,,,,,,,no,no,no,good,no,no,ckd\\n212,40.0,70.0,1.015,3.0,4.0,normal,normal,notpresent,notpresent,253.0,150.0,11.9,132.0,5.6,10.9,31,8800,3.4,yes,yes,no,poor,yes,no,ckd\\n213,55.0,80.0,1.01,3.0,1.0,normal,abnormal,present,present,214.0,73.0,3.9,137.0,4.9,10.9,34,7400,3.7,yes,yes,no,good,yes,no,ckd\\n214,68.0,80.0,1.015,0.0,0.0,,abnormal,notpresent,notpresent,171.0,30.0,1.0,,,13.7,\\t43,4900,5.2,no,yes,no,good,no,no,ckd\\n215,2.0,,1.01,3.0,0.0,normal,abnormal,notpresent,notpresent,,,,,,,,,,no,no,no,good,yes,no,ckd\\n216,64.0,70.0,1.01,0.0,0.0,,normal,notpresent,notpresent,107.0,15.0,,,,12.8,38,,,no,no,no,good,no,no,ckd\\n217,63.0,100.0,1.01,1.0,0.0,,normal,notpresent,notpresent,78.0,61.0,1.8,141.0,4.4,12.2,36,10500,4.3,no,yes,no,good,no,no,ckd\\n218,33.0,90.0,1.015,0.0,0.0,,normal,notpresent,notpresent,92.0,19.0,0.8,,,11.8,34,7000,,no,no,no,good,no,no,ckd\\n219,68.0,90.0,1.01,0.0,0.0,,normal,notpresent,notpresent,238.0,57.0,2.5,,,9.8,28,8000,3.3,yes,yes,no,poor,no,no,ckd\\n220,36.0,80.0,1.01,0.0,0.0,,normal,notpresent,notpresent,103.0,,,,,11.9,36,8800,,no,no,no,good,no,no,ckd\\n221,66.0,70.0,1.02,1.0,0.0,normal,,notpresent,notpresent,248.0,30.0,1.7,138.0,5.3,,,,,yes,yes,no,good,no,no,ckd\\n222,74.0,60.0,,,,,,notpresent,notpresent,108.0,68.0,1.8,,,,,,,yes,yes,no,good,no,no,ckd\\n223,71.0,90.0,1.01,0.0,3.0,,normal,notpresent,notpresent,303.0,30.0,1.3,136.0,4.1,13.0,38,9200,4.6,yes,yes,no,good,no,no,ckd\\n224,34.0,60.0,1.02,0.0,0.0,,normal,notpresent,notpresent,117.0,28.0,2.2,138.0,3.8,,,,,no,no,no,good,yes,no,ckd\\n225,60.0,90.0,1.01,3.0,5.0,abnormal,normal,notpresent,present,490.0,95.0,2.7,131.0,3.8,11.5,35,12000,4.5,yes,yes,no,good,no,no,ckd\\n226,64.0,100.0,1.015,4.0,2.0,abnormal,abnormal,notpresent,present,163.0,54.0,7.2,140.0,4.6,7.9,26,7500,3.4,yes,yes,no,good,yes,no,ckd\\n227,57.0,80.0,1.015,0.0,0.0,,normal,notpresent,notpresent,120.0,48.0,1.6,,,11.3,36,7200,3.8,yes,yes,no,good,no,no,ckd\\n228,60.0,70.0,,,,,,notpresent,notpresent,124.0,52.0,2.5,,,,,,,yes,no,no,good,no,no,ckd\\n229,59.0,50.0,1.01,3.0,0.0,normal,abnormal,notpresent,notpresent,241.0,191.0,12.0,114.0,2.9,9.6,31,15700,3.8,no,yes,no,good,yes,no,ckd\\n230,65.0,60.0,1.01,2.0,0.0,normal,abnormal,present,notpresent,192.0,17.0,1.7,130.0,4.3,,,9500,,yes,yes,no,poor,no,no,ckd\\t\\n231,60.0,90.0,,,,,,notpresent,notpresent,269.0,51.0,2.8,138.0,3.7,11.5,35,,,yes,yes,yes,good,yes,no,ckd\\n232,50.0,90.0,1.015,1.0,0.0,abnormal,abnormal,notpresent,notpresent,,,,,,,,,,no,no,no,good,yes,no,ckd\\n233,51.0,100.0,1.015,2.0,0.0,normal,normal,notpresent,present,93.0,20.0,1.6,146.0,4.5,,,,,no,no,no,poor,no,no,ckd\\n234,37.0,100.0,1.01,0.0,0.0,abnormal,normal,notpresent,notpresent,,19.0,1.3,,,15.0,44,4100,5.2,yes,no,no,good,no,no,ckd\\n235,45.0,70.0,1.01,2.0,0.0,,normal,notpresent,notpresent,113.0,93.0,2.3,,,7.9,26,5700,,no,no,yes,good,no,yes,ckd\\n236,65.0,80.0,,,,,,notpresent,notpresent,74.0,66.0,2.0,136.0,5.4,9.1,25,,,yes,yes,yes,good,yes,no,ckd\\n237,80.0,70.0,1.015,2.0,2.0,,normal,notpresent,notpresent,141.0,53.0,2.2,,,12.7,40,9600,,yes,yes,no,poor,yes,no,ckd\\n238,72.0,100.0,,,,,,notpresent,notpresent,201.0,241.0,13.4,127.0,4.8,9.4,28,,,yes,yes,no,good,no,yes,ckd\\n239,34.0,90.0,1.015,2.0,0.0,normal,normal,notpresent,notpresent,104.0,50.0,1.6,137.0,4.1,11.9,39,,,no,no,no,good,no,no,ckd\\n240,65.0,70.0,1.015,1.0,0.0,,normal,notpresent,notpresent,203.0,46.0,1.4,,,11.4,36,5000,4.1,yes,yes,no,poor,yes,no,ckd\\n241,57.0,70.0,1.015,1.0,0.0,,abnormal,notpresent,notpresent,165.0,45.0,1.5,140.0,3.3,10.4,31,4200,3.9,no,no,no,good,no,no,ckd\\n242,69.0,70.0,1.01,4.0,3.0,normal,abnormal,present,present,214.0,96.0,6.3,120.0,3.9,9.4,28,11500,3.3,yes,yes,yes,good,yes,yes,ckd\\n243,62.0,90.0,1.02,2.0,1.0,,normal,notpresent,notpresent,169.0,48.0,2.4,138.0,2.9,13.4,47,11000,6.1,yes,no,no,good,no,no,ckd\\n244,64.0,90.0,1.015,3.0,2.0,,abnormal,present,notpresent,463.0,64.0,2.8,135.0,4.1,12.2,40,9800,4.6,yes,yes,no,good,no,yes,ckd\\n245,48.0,100.0,,,,,,notpresent,notpresent,103.0,79.0,5.3,135.0,6.3,6.3,19,7200,2.6,yes,no,yes,poor,no,no,ckd\\n246,48.0,110.0,1.015,3.0,0.0,abnormal,normal,present,notpresent,106.0,215.0,15.2,120.0,5.7,8.6,26,5000,2.5,yes,no,yes,good,no,yes,ckd\\n247,54.0,90.0,1.025,1.0,0.0,normal,abnormal,notpresent,notpresent,150.0,18.0,1.2,140.0,4.2,,,,,no,no,no,poor,yes,yes,ckd\\n248,59.0,70.0,1.01,1.0,3.0,abnormal,abnormal,notpresent,notpresent,424.0,55.0,1.7,138.0,4.5,12.6,37,10200,4.1,yes,yes,yes,good,no,no,ckd\\n249,56.0,90.0,1.01,4.0,1.0,normal,abnormal,present,notpresent,176.0,309.0,13.3,124.0,6.5,3.1,9,5400,2.1,yes,yes,no,poor,yes,yes,ckd\\n250,40.0,80.0,1.025,0.0,0.0,normal,normal,notpresent,notpresent,140.0,10.0,1.2,135.0,5.0,15.0,48,10400,4.5,no,no,no,good,no,no,notckd\\n251,23.0,80.0,1.025,0.0,0.0,normal,normal,notpresent,notpresent,70.0,36.0,1.0,150.0,4.6,17.0,52,9800,5.0,no,no,no,good,no,no,notckd\\n252,45.0,80.0,1.025,0.0,0.0,normal,normal,notpresent,notpresent,82.0,49.0,0.6,147.0,4.4,15.9,46,9100,4.7,no,no,no,good,no,no,notckd\\n253,57.0,80.0,1.025,0.0,0.0,normal,normal,notpresent,notpresent,119.0,17.0,1.2,135.0,4.7,15.4,42,6200,6.2,no,no,no,good,no,no,notckd\\n254,51.0,60.0,1.025,0.0,0.0,normal,normal,notpresent,notpresent,99.0,38.0,0.8,135.0,3.7,13.0,49,8300,5.2,no,no,no,good,no,no,notckd\\n255,34.0,80.0,1.025,0.0,0.0,normal,normal,notpresent,notpresent,121.0,27.0,1.2,144.0,3.9,13.6,52,9200,6.3,no,no,no,good,no,no,notckd\\n256,60.0,80.0,1.025,0.0,0.0,normal,normal,notpresent,notpresent,131.0,10.0,0.5,146.0,5.0,14.5,41,10700,5.1,no,no,no,good,no,no,notckd\\n257,38.0,60.0,1.02,0.0,0.0,normal,normal,notpresent,notpresent,91.0,36.0,0.7,135.0,3.7,14.0,46,9100,5.8,no,no,no,good,no,no,notckd\\n258,42.0,80.0,1.02,0.0,0.0,normal,normal,notpresent,notpresent,98.0,20.0,0.5,140.0,3.5,13.9,44,8400,5.5,no,no,no,good,no,no,notckd\\n259,35.0,80.0,1.02,0.0,0.0,normal,normal,notpresent,notpresent,104.0,31.0,1.2,135.0,5.0,16.1,45,4300,5.2,no,no,no,good,no,no,notckd\\n260,30.0,80.0,1.02,0.0,0.0,normal,normal,notpresent,notpresent,131.0,38.0,1.0,147.0,3.8,14.1,45,9400,5.3,no,no,no,good,no,no,notckd\\n261,49.0,80.0,1.02,0.0,0.0,normal,normal,notpresent,notpresent,122.0,32.0,1.2,139.0,3.9,17.0,41,5600,4.9,no,no,no,good,no,no,notckd\\n262,55.0,80.0,1.02,0.0,0.0,normal,normal,notpresent,notpresent,118.0,18.0,0.9,135.0,3.6,15.5,43,7200,5.4,no,no,no,good,no,no,notckd\\n263,45.0,80.0,1.02,0.0,0.0,normal,normal,notpresent,notpresent,117.0,46.0,1.2,137.0,5.0,16.2,45,8600,5.2,no,no,no,good,no,no,notckd\\n264,42.0,80.0,1.02,0.0,0.0,normal,normal,notpresent,notpresent,132.0,24.0,0.7,140.0,4.1,14.4,50,5000,4.5,no,no,no,good,no,no,notckd\\n265,50.0,80.0,1.02,0.0,0.0,normal,normal,notpresent,notpresent,97.0,40.0,0.6,150.0,4.5,14.2,48,10500,5.0,no,no,no,good,no,no,notckd\\n266,55.0,80.0,1.02,0.0,0.0,normal,normal,notpresent,notpresent,133.0,17.0,1.2,135.0,4.8,13.2,41,6800,5.3,no,no,no,good,no,no,notckd\\n267,48.0,80.0,1.025,0.0,0.0,normal,normal,notpresent,notpresent,122.0,33.0,0.9,146.0,3.9,13.9,48,9500,4.8,no,no,no,good,no,no,notckd\\n268,,80.0,,,,,,notpresent,notpresent,100.0,49.0,1.0,140.0,5.0,16.3,53,8500,4.9,no,no,no,good,no,no,notckd\\n269,25.0,80.0,1.025,0.0,0.0,normal,normal,notpresent,notpresent,121.0,19.0,1.2,142.0,4.9,15.0,48,6900,5.3,no,no,no,good,no,no,notckd\\n270,23.0,80.0,1.025,0.0,0.0,normal,normal,notpresent,notpresent,111.0,34.0,1.1,145.0,4.0,14.3,41,7200,5.0,no,no,no,good,no,no,notckd\\n271,30.0,80.0,1.025,0.0,0.0,normal,normal,notpresent,notpresent,96.0,25.0,0.5,144.0,4.8,13.8,42,9000,4.5,no,no,no,good,no,no,notckd\\n272,56.0,80.0,1.025,0.0,0.0,normal,normal,notpresent,notpresent,139.0,15.0,1.2,135.0,5.0,14.8,42,5600,5.5,no,no,no,good,no,no,notckd\\n273,47.0,80.0,1.02,0.0,0.0,normal,normal,notpresent,notpresent,95.0,35.0,0.9,140.0,4.1,,,,,no,no,no,good,no,no,notckd\\n274,19.0,80.0,1.02,0.0,0.0,normal,normal,notpresent,notpresent,107.0,23.0,0.7,141.0,4.2,14.4,44,,,no,no,no,good,no,no,notckd\\n275,52.0,80.0,1.02,0.0,0.0,normal,normal,notpresent,notpresent,125.0,22.0,1.2,139.0,4.6,16.5,43,4700,4.6,no,no,no,good,no,no,notckd\\n276,20.0,60.0,1.025,0.0,0.0,normal,normal,notpresent,notpresent,,,,137.0,4.7,14.0,41,4500,5.5,no,no,no,good,no,no,notckd\\n277,46.0,60.0,1.025,0.0,0.0,normal,normal,notpresent,notpresent,123.0,46.0,1.0,135.0,5.0,15.7,50,6300,4.8,no,no,no,good,no,no,notckd\\n278,48.0,60.0,1.02,0.0,0.0,normal,normal,notpresent,notpresent,112.0,44.0,1.2,142.0,4.9,14.5,44,9400,6.4,no,no,no,good,no,no,notckd\\n279,24.0,70.0,1.025,0.0,0.0,normal,normal,notpresent,notpresent,140.0,23.0,0.6,140.0,4.7,16.3,48,5800,5.6,no,no,no,good,no,no,notckd\\n280,47.0,80.0,,,,,,notpresent,notpresent,93.0,33.0,0.9,144.0,4.5,13.3,52,8100,5.2,no,no,no,good,no,no,notckd\\n281,55.0,80.0,1.025,0.0,0.0,normal,normal,notpresent,notpresent,130.0,50.0,1.2,147.0,5.0,15.5,41,9100,6.0,no,no,no,good,no,no,notckd\\n282,20.0,70.0,1.02,0.0,0.0,normal,normal,notpresent,notpresent,123.0,44.0,1.0,135.0,3.8,14.6,44,5500,4.8,no,no,no,good,no,no,notckd\\n283,60.0,70.0,1.02,0.0,0.0,normal,normal,notpresent,notpresent,,,,,,16.4,43,10800,5.7,no,no,no,good,no,no,notckd\\n284,33.0,80.0,1.025,0.0,0.0,normal,normal,notpresent,notpresent,100.0,37.0,1.2,142.0,4.0,16.9,52,6700,6.0,no,no,no,good,no,no,notckd\\n285,66.0,70.0,1.02,0.0,0.0,normal,normal,notpresent,notpresent,94.0,19.0,0.7,135.0,3.9,16.0,41,5300,5.9,no,no,no,good,no,no,notckd\\n286,71.0,70.0,1.02,0.0,0.0,normal,normal,notpresent,notpresent,81.0,18.0,0.8,145.0,5.0,14.7,44,9800,6.0,no,no,no,good,no,no,notckd\\n287,39.0,70.0,1.025,0.0,0.0,normal,normal,notpresent,notpresent,124.0,22.0,0.6,137.0,3.8,13.4,43,,,no,no,no,good,no,no,notckd\\n288,56.0,70.0,1.025,0.0,0.0,normal,normal,notpresent,notpresent,70.0,46.0,1.2,135.0,4.9,15.9,50,11000,5.1,,,,good,no,no,notckd\\n289,42.0,70.0,1.02,0.0,0.0,normal,normal,notpresent,notpresent,93.0,32.0,0.9,143.0,4.7,16.6,43,7100,5.3,no,no,no,good,no,no,notckd\\n290,54.0,70.0,1.02,0.0,0.0,,,,,76.0,28.0,0.6,146.0,3.5,14.8,52,8400,5.9,no,no,no,good,no,no,notckd\\n291,47.0,80.0,1.025,0.0,0.0,normal,normal,notpresent,notpresent,124.0,44.0,1.0,140.0,4.9,14.9,41,7000,5.7,no,no,no,good,no,no,notckd\\n292,30.0,80.0,1.02,0.0,0.0,normal,normal,notpresent,notpresent,89.0,42.0,0.5,139.0,5.0,16.7,52,10200,5.0,no,no,no,good,no,no,notckd\\n293,50.0,,1.02,0.0,0.0,normal,normal,notpresent,notpresent,92.0,19.0,1.2,150.0,4.8,14.9,48,4700,5.4,no,no,no,good,no,no,notckd\\n294,75.0,60.0,1.02,0.0,0.0,normal,normal,notpresent,notpresent,110.0,50.0,0.7,135.0,5.0,14.3,40,8300,5.8,no,no,no,,,,notckd\\n295,44.0,70.0,,,,,,notpresent,notpresent,106.0,25.0,0.9,150.0,3.6,15.0,50,9600,6.5,no,no,no,good,no,no,notckd\\n296,41.0,70.0,1.02,0.0,0.0,normal,normal,notpresent,notpresent,125.0,38.0,0.6,140.0,5.0,16.8,41,6300,5.9,no,no,no,good,no,no,notckd\\n297,53.0,60.0,1.025,0.0,0.0,normal,normal,notpresent,notpresent,116.0,26.0,1.0,146.0,4.9,15.8,45,7700,5.2,,,,good,no,no,notckd\\n298,34.0,60.0,1.02,0.0,0.0,normal,normal,notpresent,notpresent,91.0,49.0,1.2,135.0,4.5,13.5,48,8600,4.9,no,no,no,good,no,no,notckd\\n299,73.0,60.0,1.02,0.0,0.0,normal,normal,notpresent,notpresent,127.0,48.0,0.5,150.0,3.5,15.1,52,11000,4.7,no,no,no,good,no,no,notckd\\n300,45.0,60.0,1.02,0.0,0.0,normal,normal,,,114.0,26.0,0.7,141.0,4.2,15.0,43,9200,5.8,no,no,no,good,no,no,notckd\\n301,44.0,60.0,1.025,0.0,0.0,normal,normal,notpresent,notpresent,96.0,33.0,0.9,147.0,4.5,16.9,41,7200,5.0,no,no,no,good,no,no,notckd\\n302,29.0,70.0,1.02,0.0,0.0,normal,normal,notpresent,notpresent,127.0,44.0,1.2,145.0,5.0,14.8,48,,,no,no,no,good,no,no,notckd\\n303,55.0,70.0,1.02,0.0,0.0,normal,normal,notpresent,notpresent,107.0,26.0,1.1,,,17.0,50,6700,6.1,no,no,no,good,no,no,notckd\\n304,33.0,80.0,1.025,0.0,0.0,normal,normal,notpresent,notpresent,128.0,38.0,0.6,135.0,3.9,13.1,45,6200,4.5,no,no,no,good,no,no,notckd\\n305,41.0,80.0,1.02,0.0,0.0,normal,normal,notpresent,notpresent,122.0,25.0,0.8,138.0,5.0,17.1,41,9100,5.2,no,no,no,good,no,no,notckd\\n306,52.0,80.0,1.02,0.0,0.0,normal,normal,notpresent,notpresent,128.0,30.0,1.2,140.0,4.5,15.2,52,4300,5.7,no,no,no,good,no,no,notckd\\n307,47.0,60.0,1.02,0.0,0.0,normal,normal,notpresent,notpresent,137.0,17.0,0.5,150.0,3.5,13.6,44,7900,4.5,no,no,no,good,no,no,notckd\\n308,43.0,80.0,1.025,0.0,0.0,normal,normal,notpresent,notpresent,81.0,46.0,0.6,135.0,4.9,13.9,48,6900,4.9,no,no,no,good,no,no,notckd\\n309,51.0,60.0,1.02,0.0,0.0,,,notpresent,notpresent,129.0,25.0,1.2,139.0,5.0,17.2,40,8100,5.9,no,no,no,good,no,no,notckd\\n310,46.0,60.0,1.02,0.0,0.0,normal,normal,notpresent,notpresent,102.0,27.0,0.7,142.0,4.9,13.2,44,11000,5.4,no,no,no,good,no,no,notckd\\n311,56.0,60.0,1.025,0.0,0.0,normal,normal,notpresent,notpresent,132.0,18.0,1.1,147.0,4.7,13.7,45,7500,5.6,no,no,no,good,no,no,notckd\\n312,80.0,70.0,1.02,0.0,0.0,normal,normal,notpresent,notpresent,,,,135.0,4.1,15.3,48,6300,6.1,no,no,no,good,no,no,notckd\\n313,55.0,80.0,1.02,0.0,0.0,normal,normal,notpresent,notpresent,104.0,28.0,0.9,142.0,4.8,17.3,52,8200,4.8,no,no,no,good,no,no,notckd\\n314,39.0,70.0,1.025,0.0,0.0,normal,normal,notpresent,notpresent,131.0,46.0,0.6,145.0,5.0,15.6,41,9400,4.7,no,no,no,good,no,no,notckd\\n315,44.0,70.0,1.025,0.0,0.0,normal,normal,notpresent,notpresent,,,,,,13.8,48,7800,4.4,no,no,no,good,no,no,notckd\\n316,35.0,,1.02,0.0,0.0,normal,normal,,,99.0,30.0,0.5,135.0,4.9,15.4,48,5000,5.2,no,no,no,good,no,no,notckd\\n317,58.0,70.0,1.02,0.0,0.0,normal,normal,notpresent,notpresent,102.0,48.0,1.2,139.0,4.3,15.0,40,8100,4.9,no,no,no,good,no,no,notckd\\n318,61.0,70.0,1.025,0.0,0.0,normal,normal,notpresent,notpresent,120.0,29.0,0.7,137.0,3.5,17.4,52,7000,5.3,no,no,no,good,no,no,notckd\\n319,30.0,60.0,1.02,0.0,0.0,normal,normal,notpresent,notpresent,138.0,15.0,1.1,135.0,4.4,,,,,no,no,no,good,no,no,notckd\\n320,57.0,60.0,1.02,0.0,0.0,normal,normal,notpresent,notpresent,105.0,49.0,1.2,150.0,4.7,15.7,44,10400,6.2,no,no,no,good,no,no,notckd\\n321,65.0,60.0,1.02,0.0,0.0,normal,normal,notpresent,notpresent,109.0,39.0,1.0,144.0,3.5,13.9,48,9600,4.8,no,no,no,good,no,no,notckd\\n322,70.0,60.0,,,,,,notpresent,notpresent,120.0,40.0,0.5,140.0,4.6,16.0,43,4500,4.9,no,no,no,good,no,no,notckd\\n323,43.0,80.0,1.025,0.0,0.0,normal,normal,notpresent,notpresent,130.0,30.0,1.1,143.0,5.0,15.9,45,7800,4.5,no,no,no,good,no,no,notckd\\n324,40.0,80.0,1.02,0.0,0.0,normal,normal,notpresent,notpresent,119.0,15.0,0.7,150.0,4.9,,,,,no,no,no,good,no,no,notckd\\n325,58.0,80.0,1.02,0.0,0.0,normal,normal,notpresent,notpresent,100.0,50.0,1.2,140.0,3.5,14.0,50,6700,6.5,no,no,no,good,no,no,notckd\\n326,47.0,60.0,1.02,0.0,0.0,normal,normal,notpresent,notpresent,109.0,25.0,1.1,141.0,4.7,15.8,41,8300,5.2,no,no,no,good,no,no,notckd\\n327,30.0,60.0,1.025,0.0,0.0,normal,normal,notpresent,notpresent,120.0,31.0,0.8,150.0,4.6,13.4,44,10700,5.8,no,no,no,good,no,no,notckd\\n328,28.0,70.0,1.02,0.0,0.0,normal,normal,,,131.0,29.0,0.6,145.0,4.9,,45,8600,6.5,no,no,no,good,no,no,notckd\\n329,33.0,60.0,1.025,0.0,0.0,normal,normal,notpresent,notpresent,80.0,25.0,0.9,146.0,3.5,14.1,48,7800,5.1,no,no,no,good,no,no,notckd\\n330,43.0,80.0,1.02,0.0,0.0,normal,normal,notpresent,notpresent,114.0,32.0,1.1,135.0,3.9,,42,,,no,no,no,good,no,no,notckd\\n331,59.0,70.0,1.025,0.0,0.0,normal,normal,notpresent,notpresent,130.0,39.0,0.7,147.0,4.7,13.5,46,6700,4.5,no,no,no,good,no,no,notckd\\n332,34.0,70.0,1.025,0.0,0.0,normal,normal,notpresent,notpresent,,33.0,1.0,150.0,5.0,15.3,44,10500,6.1,no,no,no,good,no,no,notckd\\n333,23.0,80.0,1.02,0.0,0.0,normal,normal,notpresent,notpresent,99.0,46.0,1.2,142.0,4.0,17.7,46,4300,5.5,no,no,no,good,no,no,notckd\\n334,24.0,80.0,1.025,0.0,0.0,normal,normal,notpresent,notpresent,125.0,,,136.0,3.5,15.4,43,5600,4.5,no,no,no,good,no,no,notckd\\n335,60.0,60.0,1.02,0.0,0.0,normal,normal,notpresent,notpresent,134.0,45.0,0.5,139.0,4.8,14.2,48,10700,5.6,no,no,no,good,no,no,notckd\\n336,25.0,60.0,1.02,0.0,0.0,normal,normal,notpresent,notpresent,119.0,27.0,0.5,,,15.2,40,9200,5.2,no,no,no,good,no,no,notckd\\n337,44.0,70.0,1.025,0.0,0.0,normal,normal,notpresent,notpresent,92.0,40.0,0.9,141.0,4.9,14.0,52,7500,6.2,no,no,no,good,no,no,notckd\\n338,62.0,80.0,1.02,0.0,0.0,normal,normal,notpresent,notpresent,132.0,34.0,0.8,147.0,3.5,17.8,44,4700,4.5,no,no,no,good,no,no,notckd\\n339,25.0,70.0,1.02,0.0,0.0,normal,normal,notpresent,notpresent,88.0,42.0,0.5,136.0,3.5,13.3,48,7000,4.9,no,no,no,good,no,no,notckd\\n340,32.0,70.0,1.025,0.0,0.0,normal,normal,notpresent,notpresent,100.0,29.0,1.1,142.0,4.5,14.3,43,6700,5.9,no,no,no,good,no,no,notckd\\n341,63.0,70.0,1.025,0.0,0.0,normal,normal,notpresent,notpresent,130.0,37.0,0.9,150.0,5.0,13.4,41,7300,4.7,no,no,no,good,no,no,notckd\\n342,44.0,60.0,1.02,0.0,0.0,normal,normal,notpresent,notpresent,95.0,46.0,0.5,138.0,4.2,15.0,50,7700,6.3,no,no,no,good,no,no,notckd\\n343,37.0,60.0,1.025,0.0,0.0,normal,normal,notpresent,notpresent,111.0,35.0,0.8,135.0,4.1,16.2,50,5500,5.7,no,no,no,good,no,no,notckd\\n344,64.0,60.0,1.02,0.0,0.0,normal,normal,notpresent,notpresent,106.0,27.0,0.7,150.0,3.3,14.4,42,8100,4.7,no,no,no,good,no,no,notckd\\n345,22.0,60.0,1.025,0.0,0.0,normal,normal,notpresent,notpresent,97.0,18.0,1.2,138.0,4.3,13.5,42,7900,6.4,no,no,no,good,no,no,notckd\\n346,33.0,60.0,,,,normal,normal,notpresent,notpresent,130.0,41.0,0.9,141.0,4.4,15.5,52,4300,5.8,no,no,no,good,no,no,notckd\\n347,43.0,60.0,1.025,0.0,0.0,normal,normal,notpresent,notpresent,108.0,25.0,1.0,144.0,5.0,17.8,43,7200,5.5,no,no,no,good,no,no,notckd\\n348,38.0,80.0,1.02,0.0,0.0,normal,normal,notpresent,notpresent,99.0,19.0,0.5,147.0,3.5,13.6,44,7300,6.4,no,no,no,good,no,no,notckd\\n349,35.0,70.0,1.025,0.0,0.0,,,notpresent,notpresent,82.0,36.0,1.1,150.0,3.5,14.5,52,9400,6.1,no,no,no,good,no,no,notckd\\n350,65.0,70.0,1.025,0.0,0.0,,,notpresent,notpresent,85.0,20.0,1.0,142.0,4.8,16.1,43,9600,4.5,no,no,no,good,no,no,notckd\\n351,29.0,80.0,1.02,0.0,0.0,normal,normal,notpresent,notpresent,83.0,49.0,0.9,139.0,3.3,17.5,40,9900,4.7,no,no,no,good,no,no,notckd\\n352,37.0,60.0,1.02,0.0,0.0,normal,normal,notpresent,notpresent,109.0,47.0,1.1,141.0,4.9,15.0,48,7000,5.2,no,no,no,good,no,no,notckd\\n353,39.0,60.0,1.02,0.0,0.0,normal,normal,notpresent,notpresent,86.0,37.0,0.6,150.0,5.0,13.6,51,5800,4.5,no,no,no,good,no,no,notckd\\n354,32.0,60.0,1.025,0.0,0.0,normal,normal,notpresent,notpresent,102.0,17.0,0.4,147.0,4.7,14.6,41,6800,5.1,no,no,no,good,no,no,notckd\\n355,23.0,60.0,1.02,0.0,0.0,normal,normal,notpresent,notpresent,95.0,24.0,0.8,145.0,5.0,15.0,52,6300,4.6,no,no,no,good,no,no,notckd\\n356,34.0,70.0,1.025,0.0,0.0,normal,normal,notpresent,notpresent,87.0,38.0,0.5,144.0,4.8,17.1,47,7400,6.1,no,no,no,good,no,no,notckd\\n357,66.0,70.0,1.025,0.0,0.0,normal,normal,notpresent,notpresent,107.0,16.0,1.1,140.0,3.6,13.6,42,11000,4.9,no,no,no,good,no,no,notckd\\n358,47.0,60.0,1.02,0.0,0.0,normal,normal,notpresent,notpresent,117.0,22.0,1.2,138.0,3.5,13.0,45,5200,5.6,no,no,no,good,no,no,notckd\\n359,74.0,60.0,1.02,0.0,0.0,normal,normal,notpresent,notpresent,88.0,50.0,0.6,147.0,3.7,17.2,53,6000,4.5,no,no,no,good,no,no,notckd\\n360,35.0,60.0,1.025,0.0,0.0,normal,normal,notpresent,notpresent,105.0,39.0,0.5,135.0,3.9,14.7,43,5800,6.2,no,no,no,good,no,no,notckd\\n361,29.0,80.0,1.02,0.0,0.0,normal,normal,notpresent,notpresent,70.0,16.0,0.7,138.0,3.5,13.7,54,5400,5.8,no,no,no,good,no,no,notckd\\n362,33.0,80.0,1.025,0.0,0.0,normal,normal,notpresent,notpresent,89.0,19.0,1.1,144.0,5.0,15.0,40,10300,4.8,no,no,no,good,no,no,notckd\\n363,67.0,80.0,1.025,0.0,0.0,normal,normal,notpresent,notpresent,99.0,40.0,0.5,,,17.8,44,5900,5.2,no,no,no,good,no,no,notckd\\n364,73.0,80.0,1.025,0.0,0.0,normal,normal,notpresent,notpresent,118.0,44.0,0.7,137.0,3.5,14.8,45,9300,4.7,no,no,no,good,no,no,notckd\\n365,24.0,80.0,1.02,0.0,0.0,normal,normal,notpresent,notpresent,93.0,46.0,1.0,145.0,3.5,,,10700,6.3,no,no,no,good,no,no,notckd\\n366,60.0,80.0,1.025,0.0,0.0,normal,normal,notpresent,notpresent,81.0,15.0,0.5,141.0,3.6,15.0,46,10500,5.3,no,no,no,good,no,no,notckd\\n367,68.0,60.0,1.025,0.0,0.0,normal,normal,notpresent,notpresent,125.0,41.0,1.1,139.0,3.8,17.4,50,6700,6.1,no,no,no,good,no,no,notckd\\n368,30.0,80.0,1.025,0.0,0.0,normal,normal,notpresent,notpresent,82.0,42.0,0.7,146.0,5.0,14.9,45,9400,5.9,no,no,no,good,no,no,notckd\\n369,75.0,70.0,1.02,0.0,0.0,normal,normal,notpresent,notpresent,107.0,48.0,0.8,144.0,3.5,13.6,46,10300,4.8,no,no,no,good,no,no,notckd\\n370,69.0,70.0,1.02,0.0,0.0,normal,normal,notpresent,notpresent,83.0,42.0,1.2,139.0,3.7,16.2,50,9300,5.4,no,no,no,good,no,no,notckd\\n371,28.0,60.0,1.025,0.0,0.0,normal,normal,notpresent,notpresent,79.0,50.0,0.5,145.0,5.0,17.6,51,6500,5.0,no,no,no,good,no,no,notckd\\n372,72.0,60.0,1.02,0.0,0.0,normal,normal,notpresent,notpresent,109.0,26.0,0.9,150.0,4.9,15.0,52,10500,5.5,no,no,no,good,no,no,notckd\\n373,61.0,70.0,1.025,0.0,0.0,normal,normal,notpresent,notpresent,133.0,38.0,1.0,142.0,3.6,13.7,47,9200,4.9,no,no,no,good,no,no,notckd\\n374,79.0,80.0,1.025,0.0,0.0,normal,normal,notpresent,notpresent,111.0,44.0,1.2,146.0,3.6,16.3,40,8000,6.4,no,no,no,good,no,no,notckd\\n375,70.0,80.0,1.02,0.0,0.0,normal,normal,notpresent,notpresent,74.0,41.0,0.5,143.0,4.5,15.1,48,9700,5.6,no,no,no,good,no,no,notckd\\n376,58.0,70.0,1.025,0.0,0.0,normal,normal,notpresent,notpresent,88.0,16.0,1.1,147.0,3.5,16.4,53,9100,5.2,no,no,no,good,no,no,notckd\\n377,64.0,70.0,1.02,0.0,0.0,normal,normal,notpresent,notpresent,97.0,27.0,0.7,145.0,4.8,13.8,49,6400,4.8,no,no,no,good,no,no,notckd\\n378,71.0,60.0,1.025,0.0,0.0,normal,normal,notpresent,notpresent,,,0.9,140.0,4.8,15.2,42,7700,5.5,no,no,no,good,no,no,notckd\\n379,62.0,80.0,1.025,0.0,0.0,normal,normal,notpresent,notpresent,78.0,45.0,0.6,138.0,3.5,16.1,50,5400,5.7,no,no,no,good,no,no,notckd\\n380,59.0,60.0,1.02,0.0,0.0,normal,normal,notpresent,notpresent,113.0,23.0,1.1,139.0,3.5,15.3,54,6500,4.9,no,no,no,good,no,no,notckd\\n381,71.0,70.0,1.025,0.0,0.0,,,notpresent,notpresent,79.0,47.0,0.5,142.0,4.8,16.6,40,5800,5.9,no,no,no,good,no,no,notckd\\n382,48.0,80.0,1.025,0.0,0.0,normal,normal,notpresent,notpresent,75.0,22.0,0.8,137.0,5.0,16.8,51,6000,6.5,no,no,no,good,no,no,notckd\\n383,80.0,80.0,1.025,0.0,0.0,normal,normal,notpresent,notpresent,119.0,46.0,0.7,141.0,4.9,13.9,49,5100,5.0,no,no,no,good,no,no,notckd\\n384,57.0,60.0,1.02,0.0,0.0,normal,normal,notpresent,notpresent,132.0,18.0,1.1,150.0,4.7,15.4,42,11000,4.5,no,no,no,good,no,no,notckd\\n385,63.0,70.0,1.02,0.0,0.0,normal,normal,notpresent,notpresent,113.0,25.0,0.6,146.0,4.9,16.5,52,8000,5.1,no,no,no,good,no,no,notckd\\n386,46.0,70.0,1.025,0.0,0.0,normal,normal,notpresent,notpresent,100.0,47.0,0.5,142.0,3.5,16.4,43,5700,6.5,no,no,no,good,no,no,notckd\\n387,15.0,80.0,1.025,0.0,0.0,normal,normal,notpresent,notpresent,93.0,17.0,0.9,136.0,3.9,16.7,50,6200,5.2,no,no,no,good,no,no,notckd\\n388,51.0,80.0,1.02,0.0,0.0,normal,normal,notpresent,notpresent,94.0,15.0,1.2,144.0,3.7,15.5,46,9500,6.4,no,no,no,good,no,no,notckd\\n389,41.0,80.0,1.025,0.0,0.0,normal,normal,notpresent,notpresent,112.0,48.0,0.7,140.0,5.0,17.0,52,7200,5.8,no,no,no,good,no,no,notckd\\n390,52.0,80.0,1.025,0.0,0.0,normal,normal,notpresent,notpresent,99.0,25.0,0.8,135.0,3.7,15.0,52,6300,5.3,no,no,no,good,no,no,notckd\\n391,36.0,80.0,1.025,0.0,0.0,normal,normal,notpresent,notpresent,85.0,16.0,1.1,142.0,4.1,15.6,44,5800,6.3,no,no,no,good,no,no,notckd\\n392,57.0,80.0,1.02,0.0,0.0,normal,normal,notpresent,notpresent,133.0,48.0,1.2,147.0,4.3,14.8,46,6600,5.5,no,no,no,good,no,no,notckd\\n393,43.0,60.0,1.025,0.0,0.0,normal,normal,notpresent,notpresent,117.0,45.0,0.7,141.0,4.4,13.0,54,7400,5.4,no,no,no,good,no,no,notckd\\n394,50.0,80.0,1.02,0.0,0.0,normal,normal,notpresent,notpresent,137.0,46.0,0.8,139.0,5.0,14.1,45,9500,4.6,no,no,no,good,no,no,notckd\\n395,55.0,80.0,1.02,0.0,0.0,normal,normal,notpresent,notpresent,140.0,49.0,0.5,150.0,4.9,15.7,47,6700,4.9,no,no,no,good,no,no,notckd\\n396,42.0,70.0,1.025,0.0,0.0,normal,normal,notpresent,notpresent,75.0,31.0,1.2,141.0,3.5,16.5,54,7800,6.2,no,no,no,good,no,no,notckd\\n397,12.0,80.0,1.02,0.0,0.0,normal,normal,notpresent,notpresent,100.0,26.0,0.6,137.0,4.4,15.8,49,6600,5.4,no,no,no,good,no,no,notckd\\n398,17.0,60.0,1.025,0.0,0.0,normal,normal,notpresent,notpresent,114.0,50.0,1.0,135.0,4.9,14.2,51,7200,5.9,no,no,no,good,no,no,notckd\\n399,58.0,80.0,1.025,0.0,0.0,normal,normal,notpresent,notpresent,131.0,18.0,1.1,141.0,3.5,15.8,53,6800,6.1,no,no,no,good,no,no,notckd\\n'}"
            ]
          },
          "metadata": {
            "tags": []
          },
          "execution_count": 2
        }
      ]
    },
    {
      "cell_type": "code",
      "metadata": {
        "colab": {
          "base_uri": "https://localhost:8080/",
          "height": 216
        },
        "id": "ULXGzJJYZtjY",
        "outputId": "93603be9-0b26-458a-f184-ac5891c24b8a"
      },
      "source": [
        "# คำสั่งอ่านค่าไฟล์ CSV ที่ได้ทำการ upload ขึ้นระบบ\n",
        "df = pd.read_csv('kidney_disease.csv')\n",
        "df.head()"
      ],
      "execution_count": null,
      "outputs": [
        {
          "output_type": "execute_result",
          "data": {
            "text/html": [
              "<div>\n",
              "<style scoped>\n",
              "    .dataframe tbody tr th:only-of-type {\n",
              "        vertical-align: middle;\n",
              "    }\n",
              "\n",
              "    .dataframe tbody tr th {\n",
              "        vertical-align: top;\n",
              "    }\n",
              "\n",
              "    .dataframe thead th {\n",
              "        text-align: right;\n",
              "    }\n",
              "</style>\n",
              "<table border=\"1\" class=\"dataframe\">\n",
              "  <thead>\n",
              "    <tr style=\"text-align: right;\">\n",
              "      <th></th>\n",
              "      <th>id</th>\n",
              "      <th>age</th>\n",
              "      <th>bp</th>\n",
              "      <th>sg</th>\n",
              "      <th>al</th>\n",
              "      <th>su</th>\n",
              "      <th>rbc</th>\n",
              "      <th>pc</th>\n",
              "      <th>pcc</th>\n",
              "      <th>ba</th>\n",
              "      <th>bgr</th>\n",
              "      <th>bu</th>\n",
              "      <th>sc</th>\n",
              "      <th>sod</th>\n",
              "      <th>pot</th>\n",
              "      <th>hemo</th>\n",
              "      <th>pcv</th>\n",
              "      <th>wc</th>\n",
              "      <th>rc</th>\n",
              "      <th>htn</th>\n",
              "      <th>dm</th>\n",
              "      <th>cad</th>\n",
              "      <th>appet</th>\n",
              "      <th>pe</th>\n",
              "      <th>ane</th>\n",
              "      <th>classification</th>\n",
              "    </tr>\n",
              "  </thead>\n",
              "  <tbody>\n",
              "    <tr>\n",
              "      <th>0</th>\n",
              "      <td>0</td>\n",
              "      <td>48.0</td>\n",
              "      <td>80.0</td>\n",
              "      <td>1.020</td>\n",
              "      <td>1.0</td>\n",
              "      <td>0.0</td>\n",
              "      <td>NaN</td>\n",
              "      <td>normal</td>\n",
              "      <td>notpresent</td>\n",
              "      <td>notpresent</td>\n",
              "      <td>121.0</td>\n",
              "      <td>36.0</td>\n",
              "      <td>1.2</td>\n",
              "      <td>NaN</td>\n",
              "      <td>NaN</td>\n",
              "      <td>15.4</td>\n",
              "      <td>44</td>\n",
              "      <td>7800</td>\n",
              "      <td>5.2</td>\n",
              "      <td>yes</td>\n",
              "      <td>yes</td>\n",
              "      <td>no</td>\n",
              "      <td>good</td>\n",
              "      <td>no</td>\n",
              "      <td>no</td>\n",
              "      <td>ckd</td>\n",
              "    </tr>\n",
              "    <tr>\n",
              "      <th>1</th>\n",
              "      <td>1</td>\n",
              "      <td>7.0</td>\n",
              "      <td>50.0</td>\n",
              "      <td>1.020</td>\n",
              "      <td>4.0</td>\n",
              "      <td>0.0</td>\n",
              "      <td>NaN</td>\n",
              "      <td>normal</td>\n",
              "      <td>notpresent</td>\n",
              "      <td>notpresent</td>\n",
              "      <td>NaN</td>\n",
              "      <td>18.0</td>\n",
              "      <td>0.8</td>\n",
              "      <td>NaN</td>\n",
              "      <td>NaN</td>\n",
              "      <td>11.3</td>\n",
              "      <td>38</td>\n",
              "      <td>6000</td>\n",
              "      <td>NaN</td>\n",
              "      <td>no</td>\n",
              "      <td>no</td>\n",
              "      <td>no</td>\n",
              "      <td>good</td>\n",
              "      <td>no</td>\n",
              "      <td>no</td>\n",
              "      <td>ckd</td>\n",
              "    </tr>\n",
              "    <tr>\n",
              "      <th>2</th>\n",
              "      <td>2</td>\n",
              "      <td>62.0</td>\n",
              "      <td>80.0</td>\n",
              "      <td>1.010</td>\n",
              "      <td>2.0</td>\n",
              "      <td>3.0</td>\n",
              "      <td>normal</td>\n",
              "      <td>normal</td>\n",
              "      <td>notpresent</td>\n",
              "      <td>notpresent</td>\n",
              "      <td>423.0</td>\n",
              "      <td>53.0</td>\n",
              "      <td>1.8</td>\n",
              "      <td>NaN</td>\n",
              "      <td>NaN</td>\n",
              "      <td>9.6</td>\n",
              "      <td>31</td>\n",
              "      <td>7500</td>\n",
              "      <td>NaN</td>\n",
              "      <td>no</td>\n",
              "      <td>yes</td>\n",
              "      <td>no</td>\n",
              "      <td>poor</td>\n",
              "      <td>no</td>\n",
              "      <td>yes</td>\n",
              "      <td>ckd</td>\n",
              "    </tr>\n",
              "    <tr>\n",
              "      <th>3</th>\n",
              "      <td>3</td>\n",
              "      <td>48.0</td>\n",
              "      <td>70.0</td>\n",
              "      <td>1.005</td>\n",
              "      <td>4.0</td>\n",
              "      <td>0.0</td>\n",
              "      <td>normal</td>\n",
              "      <td>abnormal</td>\n",
              "      <td>present</td>\n",
              "      <td>notpresent</td>\n",
              "      <td>117.0</td>\n",
              "      <td>56.0</td>\n",
              "      <td>3.8</td>\n",
              "      <td>111.0</td>\n",
              "      <td>2.5</td>\n",
              "      <td>11.2</td>\n",
              "      <td>32</td>\n",
              "      <td>6700</td>\n",
              "      <td>3.9</td>\n",
              "      <td>yes</td>\n",
              "      <td>no</td>\n",
              "      <td>no</td>\n",
              "      <td>poor</td>\n",
              "      <td>yes</td>\n",
              "      <td>yes</td>\n",
              "      <td>ckd</td>\n",
              "    </tr>\n",
              "    <tr>\n",
              "      <th>4</th>\n",
              "      <td>4</td>\n",
              "      <td>51.0</td>\n",
              "      <td>80.0</td>\n",
              "      <td>1.010</td>\n",
              "      <td>2.0</td>\n",
              "      <td>0.0</td>\n",
              "      <td>normal</td>\n",
              "      <td>normal</td>\n",
              "      <td>notpresent</td>\n",
              "      <td>notpresent</td>\n",
              "      <td>106.0</td>\n",
              "      <td>26.0</td>\n",
              "      <td>1.4</td>\n",
              "      <td>NaN</td>\n",
              "      <td>NaN</td>\n",
              "      <td>11.6</td>\n",
              "      <td>35</td>\n",
              "      <td>7300</td>\n",
              "      <td>4.6</td>\n",
              "      <td>no</td>\n",
              "      <td>no</td>\n",
              "      <td>no</td>\n",
              "      <td>good</td>\n",
              "      <td>no</td>\n",
              "      <td>no</td>\n",
              "      <td>ckd</td>\n",
              "    </tr>\n",
              "  </tbody>\n",
              "</table>\n",
              "</div>"
            ],
            "text/plain": [
              "   id   age    bp     sg   al   su  ...   dm cad appet   pe  ane  classification\n",
              "0   0  48.0  80.0  1.020  1.0  0.0  ...  yes  no  good   no   no             ckd\n",
              "1   1   7.0  50.0  1.020  4.0  0.0  ...   no  no  good   no   no             ckd\n",
              "2   2  62.0  80.0  1.010  2.0  3.0  ...  yes  no  poor   no  yes             ckd\n",
              "3   3  48.0  70.0  1.005  4.0  0.0  ...   no  no  poor  yes  yes             ckd\n",
              "4   4  51.0  80.0  1.010  2.0  0.0  ...   no  no  good   no   no             ckd\n",
              "\n",
              "[5 rows x 26 columns]"
            ]
          },
          "metadata": {
            "tags": []
          },
          "execution_count": 338
        }
      ]
    },
    {
      "cell_type": "markdown",
      "metadata": {
        "id": "1I-ST_ao2JFk"
      },
      "source": [
        "หมายเหตุ : NaN ในตารางคือช่องที่ไม่มีข้อมูล\n",
        "\n",
        "reference : [kaggle.com/database](https://www.kaggle.com/mansoordaku/ckdisease)"
      ]
    },
    {
      "cell_type": "markdown",
      "metadata": {
        "id": "xg4D4lKcZ9u5"
      },
      "source": [
        "**คำอธิบาย features :** \n",
        "*   age - age\n",
        "*   bp - blood pressure\n",
        "*   sg - specific gravity\n",
        "*   al - albumin\n",
        "*   su - sugar\n",
        "*   rbc - red blood cells\n",
        "*   pc - pus cell\n",
        "*   pcc - pus cell clumps\n",
        "*   ba - bacteria\n",
        "*   bgr - blood glucose random\n",
        "*   bu - blood urea\n",
        "*   sc - serum creatinine\n",
        "*   sod - sodium\n",
        "*   pot - potassium\n",
        "*   hemo - hemoglobin\n",
        "*   pcv - packed cell volume\n",
        "*   wc - white blood cell count\n",
        "*   rc - red blood cell count\n",
        "*   htn - hypertension\n",
        "*   dm - diabetes mellitus\n",
        "*   cad - coronary artery disease\n",
        "*   appet - appetite\n",
        "*   pe - pedal edema\n",
        "*   ane - anemia"
      ]
    },
    {
      "cell_type": "code",
      "metadata": {
        "colab": {
          "base_uri": "https://localhost:8080/"
        },
        "id": "c_sui_s_eNpv",
        "outputId": "17fda095-003c-403f-df7a-c0416a3c2a88"
      },
      "source": [
        "# แสดงจำนวนข้อมูลทั้งหมด\n",
        "len(df)"
      ],
      "execution_count": null,
      "outputs": [
        {
          "output_type": "execute_result",
          "data": {
            "text/plain": [
              "400"
            ]
          },
          "metadata": {
            "tags": []
          },
          "execution_count": 192
        }
      ]
    },
    {
      "cell_type": "markdown",
      "metadata": {
        "id": "fyNp2K4gd1TW"
      },
      "source": [
        "### Data processing\n",
        "ในส่วนนี้จะเป็นการเตรียมข้อมูลให้พร้อมสำหรับการนำไปวิเคราะห์ เช่น เราจะทำการแปลงข้อมูลที่เป็นตัวอักษรให้เป็นตัวเลข เป็นต้น"
      ]
    },
    {
      "cell_type": "code",
      "metadata": {
        "colab": {
          "base_uri": "https://localhost:8080/",
          "height": 196
        },
        "id": "kaEOAQ4sgZbK",
        "outputId": "5b12e4c1-c50a-482c-a60c-e96d51946331"
      },
      "source": [
        "# แปลงคำว่า normal, abnormal ในตารางเป็นค่า 0 และ 1\n",
        "df = df.replace(to_replace =\"normal\", value =0)\n",
        "df = df.replace(to_replace =\"abnormal\", value =1)\n",
        "df.head()"
      ],
      "execution_count": null,
      "outputs": [
        {
          "output_type": "execute_result",
          "data": {
            "text/html": [
              "<div>\n",
              "<style scoped>\n",
              "    .dataframe tbody tr th:only-of-type {\n",
              "        vertical-align: middle;\n",
              "    }\n",
              "\n",
              "    .dataframe tbody tr th {\n",
              "        vertical-align: top;\n",
              "    }\n",
              "\n",
              "    .dataframe thead th {\n",
              "        text-align: right;\n",
              "    }\n",
              "</style>\n",
              "<table border=\"1\" class=\"dataframe\">\n",
              "  <thead>\n",
              "    <tr style=\"text-align: right;\">\n",
              "      <th></th>\n",
              "      <th>id</th>\n",
              "      <th>age</th>\n",
              "      <th>bp</th>\n",
              "      <th>sg</th>\n",
              "      <th>al</th>\n",
              "      <th>su</th>\n",
              "      <th>rbc</th>\n",
              "      <th>pc</th>\n",
              "      <th>pcc</th>\n",
              "      <th>ba</th>\n",
              "      <th>bgr</th>\n",
              "      <th>bu</th>\n",
              "      <th>sc</th>\n",
              "      <th>sod</th>\n",
              "      <th>pot</th>\n",
              "      <th>hemo</th>\n",
              "      <th>pcv</th>\n",
              "      <th>wc</th>\n",
              "      <th>rc</th>\n",
              "      <th>htn</th>\n",
              "      <th>dm</th>\n",
              "      <th>cad</th>\n",
              "      <th>appet</th>\n",
              "      <th>pe</th>\n",
              "      <th>ane</th>\n",
              "      <th>classification</th>\n",
              "    </tr>\n",
              "  </thead>\n",
              "  <tbody>\n",
              "    <tr>\n",
              "      <th>0</th>\n",
              "      <td>0</td>\n",
              "      <td>48.0</td>\n",
              "      <td>80.0</td>\n",
              "      <td>1.020</td>\n",
              "      <td>1.0</td>\n",
              "      <td>0.0</td>\n",
              "      <td>NaN</td>\n",
              "      <td>0.0</td>\n",
              "      <td>notpresent</td>\n",
              "      <td>notpresent</td>\n",
              "      <td>121.0</td>\n",
              "      <td>36.0</td>\n",
              "      <td>1.2</td>\n",
              "      <td>NaN</td>\n",
              "      <td>NaN</td>\n",
              "      <td>15.4</td>\n",
              "      <td>44</td>\n",
              "      <td>7800</td>\n",
              "      <td>5.2</td>\n",
              "      <td>yes</td>\n",
              "      <td>yes</td>\n",
              "      <td>no</td>\n",
              "      <td>good</td>\n",
              "      <td>no</td>\n",
              "      <td>no</td>\n",
              "      <td>ckd</td>\n",
              "    </tr>\n",
              "    <tr>\n",
              "      <th>1</th>\n",
              "      <td>1</td>\n",
              "      <td>7.0</td>\n",
              "      <td>50.0</td>\n",
              "      <td>1.020</td>\n",
              "      <td>4.0</td>\n",
              "      <td>0.0</td>\n",
              "      <td>NaN</td>\n",
              "      <td>0.0</td>\n",
              "      <td>notpresent</td>\n",
              "      <td>notpresent</td>\n",
              "      <td>NaN</td>\n",
              "      <td>18.0</td>\n",
              "      <td>0.8</td>\n",
              "      <td>NaN</td>\n",
              "      <td>NaN</td>\n",
              "      <td>11.3</td>\n",
              "      <td>38</td>\n",
              "      <td>6000</td>\n",
              "      <td>NaN</td>\n",
              "      <td>no</td>\n",
              "      <td>no</td>\n",
              "      <td>no</td>\n",
              "      <td>good</td>\n",
              "      <td>no</td>\n",
              "      <td>no</td>\n",
              "      <td>ckd</td>\n",
              "    </tr>\n",
              "    <tr>\n",
              "      <th>2</th>\n",
              "      <td>2</td>\n",
              "      <td>62.0</td>\n",
              "      <td>80.0</td>\n",
              "      <td>1.010</td>\n",
              "      <td>2.0</td>\n",
              "      <td>3.0</td>\n",
              "      <td>0.0</td>\n",
              "      <td>0.0</td>\n",
              "      <td>notpresent</td>\n",
              "      <td>notpresent</td>\n",
              "      <td>423.0</td>\n",
              "      <td>53.0</td>\n",
              "      <td>1.8</td>\n",
              "      <td>NaN</td>\n",
              "      <td>NaN</td>\n",
              "      <td>9.6</td>\n",
              "      <td>31</td>\n",
              "      <td>7500</td>\n",
              "      <td>NaN</td>\n",
              "      <td>no</td>\n",
              "      <td>yes</td>\n",
              "      <td>no</td>\n",
              "      <td>poor</td>\n",
              "      <td>no</td>\n",
              "      <td>yes</td>\n",
              "      <td>ckd</td>\n",
              "    </tr>\n",
              "    <tr>\n",
              "      <th>3</th>\n",
              "      <td>3</td>\n",
              "      <td>48.0</td>\n",
              "      <td>70.0</td>\n",
              "      <td>1.005</td>\n",
              "      <td>4.0</td>\n",
              "      <td>0.0</td>\n",
              "      <td>0.0</td>\n",
              "      <td>1.0</td>\n",
              "      <td>present</td>\n",
              "      <td>notpresent</td>\n",
              "      <td>117.0</td>\n",
              "      <td>56.0</td>\n",
              "      <td>3.8</td>\n",
              "      <td>111.0</td>\n",
              "      <td>2.5</td>\n",
              "      <td>11.2</td>\n",
              "      <td>32</td>\n",
              "      <td>6700</td>\n",
              "      <td>3.9</td>\n",
              "      <td>yes</td>\n",
              "      <td>no</td>\n",
              "      <td>no</td>\n",
              "      <td>poor</td>\n",
              "      <td>yes</td>\n",
              "      <td>yes</td>\n",
              "      <td>ckd</td>\n",
              "    </tr>\n",
              "    <tr>\n",
              "      <th>4</th>\n",
              "      <td>4</td>\n",
              "      <td>51.0</td>\n",
              "      <td>80.0</td>\n",
              "      <td>1.010</td>\n",
              "      <td>2.0</td>\n",
              "      <td>0.0</td>\n",
              "      <td>0.0</td>\n",
              "      <td>0.0</td>\n",
              "      <td>notpresent</td>\n",
              "      <td>notpresent</td>\n",
              "      <td>106.0</td>\n",
              "      <td>26.0</td>\n",
              "      <td>1.4</td>\n",
              "      <td>NaN</td>\n",
              "      <td>NaN</td>\n",
              "      <td>11.6</td>\n",
              "      <td>35</td>\n",
              "      <td>7300</td>\n",
              "      <td>4.6</td>\n",
              "      <td>no</td>\n",
              "      <td>no</td>\n",
              "      <td>no</td>\n",
              "      <td>good</td>\n",
              "      <td>no</td>\n",
              "      <td>no</td>\n",
              "      <td>ckd</td>\n",
              "    </tr>\n",
              "  </tbody>\n",
              "</table>\n",
              "</div>"
            ],
            "text/plain": [
              "   id   age    bp     sg   al   su  ...   dm  cad appet   pe  ane  classification\n",
              "0   0  48.0  80.0  1.020  1.0  0.0  ...  yes   no  good   no   no             ckd\n",
              "1   1   7.0  50.0  1.020  4.0  0.0  ...   no   no  good   no   no             ckd\n",
              "2   2  62.0  80.0  1.010  2.0  3.0  ...  yes   no  poor   no  yes             ckd\n",
              "3   3  48.0  70.0  1.005  4.0  0.0  ...   no   no  poor  yes  yes             ckd\n",
              "4   4  51.0  80.0  1.010  2.0  0.0  ...   no   no  good   no   no             ckd\n",
              "\n",
              "[5 rows x 26 columns]"
            ]
          },
          "metadata": {
            "tags": []
          },
          "execution_count": 339
        }
      ]
    },
    {
      "cell_type": "code",
      "metadata": {
        "colab": {
          "base_uri": "https://localhost:8080/",
          "height": 196
        },
        "id": "z0bNlbW6gZiY",
        "outputId": "1c4e62cd-f4f0-42bd-9337-e87f6e846c92"
      },
      "source": [
        "# แปลงคำว่า notpresent, present ในตารางเป็นค่า 0 และ 1\n",
        "df = df.replace(to_replace =\"notpresent\", value =0)\n",
        "df = df.replace(to_replace =\"present\", value =1)\n",
        "df.head()"
      ],
      "execution_count": null,
      "outputs": [
        {
          "output_type": "execute_result",
          "data": {
            "text/html": [
              "<div>\n",
              "<style scoped>\n",
              "    .dataframe tbody tr th:only-of-type {\n",
              "        vertical-align: middle;\n",
              "    }\n",
              "\n",
              "    .dataframe tbody tr th {\n",
              "        vertical-align: top;\n",
              "    }\n",
              "\n",
              "    .dataframe thead th {\n",
              "        text-align: right;\n",
              "    }\n",
              "</style>\n",
              "<table border=\"1\" class=\"dataframe\">\n",
              "  <thead>\n",
              "    <tr style=\"text-align: right;\">\n",
              "      <th></th>\n",
              "      <th>id</th>\n",
              "      <th>age</th>\n",
              "      <th>bp</th>\n",
              "      <th>sg</th>\n",
              "      <th>al</th>\n",
              "      <th>su</th>\n",
              "      <th>rbc</th>\n",
              "      <th>pc</th>\n",
              "      <th>pcc</th>\n",
              "      <th>ba</th>\n",
              "      <th>bgr</th>\n",
              "      <th>bu</th>\n",
              "      <th>sc</th>\n",
              "      <th>sod</th>\n",
              "      <th>pot</th>\n",
              "      <th>hemo</th>\n",
              "      <th>pcv</th>\n",
              "      <th>wc</th>\n",
              "      <th>rc</th>\n",
              "      <th>htn</th>\n",
              "      <th>dm</th>\n",
              "      <th>cad</th>\n",
              "      <th>appet</th>\n",
              "      <th>pe</th>\n",
              "      <th>ane</th>\n",
              "      <th>classification</th>\n",
              "    </tr>\n",
              "  </thead>\n",
              "  <tbody>\n",
              "    <tr>\n",
              "      <th>0</th>\n",
              "      <td>0</td>\n",
              "      <td>48.0</td>\n",
              "      <td>80.0</td>\n",
              "      <td>1.020</td>\n",
              "      <td>1.0</td>\n",
              "      <td>0.0</td>\n",
              "      <td>NaN</td>\n",
              "      <td>0.0</td>\n",
              "      <td>0.0</td>\n",
              "      <td>0.0</td>\n",
              "      <td>121.0</td>\n",
              "      <td>36.0</td>\n",
              "      <td>1.2</td>\n",
              "      <td>NaN</td>\n",
              "      <td>NaN</td>\n",
              "      <td>15.4</td>\n",
              "      <td>44</td>\n",
              "      <td>7800</td>\n",
              "      <td>5.2</td>\n",
              "      <td>yes</td>\n",
              "      <td>yes</td>\n",
              "      <td>no</td>\n",
              "      <td>good</td>\n",
              "      <td>no</td>\n",
              "      <td>no</td>\n",
              "      <td>ckd</td>\n",
              "    </tr>\n",
              "    <tr>\n",
              "      <th>1</th>\n",
              "      <td>1</td>\n",
              "      <td>7.0</td>\n",
              "      <td>50.0</td>\n",
              "      <td>1.020</td>\n",
              "      <td>4.0</td>\n",
              "      <td>0.0</td>\n",
              "      <td>NaN</td>\n",
              "      <td>0.0</td>\n",
              "      <td>0.0</td>\n",
              "      <td>0.0</td>\n",
              "      <td>NaN</td>\n",
              "      <td>18.0</td>\n",
              "      <td>0.8</td>\n",
              "      <td>NaN</td>\n",
              "      <td>NaN</td>\n",
              "      <td>11.3</td>\n",
              "      <td>38</td>\n",
              "      <td>6000</td>\n",
              "      <td>NaN</td>\n",
              "      <td>no</td>\n",
              "      <td>no</td>\n",
              "      <td>no</td>\n",
              "      <td>good</td>\n",
              "      <td>no</td>\n",
              "      <td>no</td>\n",
              "      <td>ckd</td>\n",
              "    </tr>\n",
              "    <tr>\n",
              "      <th>2</th>\n",
              "      <td>2</td>\n",
              "      <td>62.0</td>\n",
              "      <td>80.0</td>\n",
              "      <td>1.010</td>\n",
              "      <td>2.0</td>\n",
              "      <td>3.0</td>\n",
              "      <td>0.0</td>\n",
              "      <td>0.0</td>\n",
              "      <td>0.0</td>\n",
              "      <td>0.0</td>\n",
              "      <td>423.0</td>\n",
              "      <td>53.0</td>\n",
              "      <td>1.8</td>\n",
              "      <td>NaN</td>\n",
              "      <td>NaN</td>\n",
              "      <td>9.6</td>\n",
              "      <td>31</td>\n",
              "      <td>7500</td>\n",
              "      <td>NaN</td>\n",
              "      <td>no</td>\n",
              "      <td>yes</td>\n",
              "      <td>no</td>\n",
              "      <td>poor</td>\n",
              "      <td>no</td>\n",
              "      <td>yes</td>\n",
              "      <td>ckd</td>\n",
              "    </tr>\n",
              "    <tr>\n",
              "      <th>3</th>\n",
              "      <td>3</td>\n",
              "      <td>48.0</td>\n",
              "      <td>70.0</td>\n",
              "      <td>1.005</td>\n",
              "      <td>4.0</td>\n",
              "      <td>0.0</td>\n",
              "      <td>0.0</td>\n",
              "      <td>1.0</td>\n",
              "      <td>1.0</td>\n",
              "      <td>0.0</td>\n",
              "      <td>117.0</td>\n",
              "      <td>56.0</td>\n",
              "      <td>3.8</td>\n",
              "      <td>111.0</td>\n",
              "      <td>2.5</td>\n",
              "      <td>11.2</td>\n",
              "      <td>32</td>\n",
              "      <td>6700</td>\n",
              "      <td>3.9</td>\n",
              "      <td>yes</td>\n",
              "      <td>no</td>\n",
              "      <td>no</td>\n",
              "      <td>poor</td>\n",
              "      <td>yes</td>\n",
              "      <td>yes</td>\n",
              "      <td>ckd</td>\n",
              "    </tr>\n",
              "    <tr>\n",
              "      <th>4</th>\n",
              "      <td>4</td>\n",
              "      <td>51.0</td>\n",
              "      <td>80.0</td>\n",
              "      <td>1.010</td>\n",
              "      <td>2.0</td>\n",
              "      <td>0.0</td>\n",
              "      <td>0.0</td>\n",
              "      <td>0.0</td>\n",
              "      <td>0.0</td>\n",
              "      <td>0.0</td>\n",
              "      <td>106.0</td>\n",
              "      <td>26.0</td>\n",
              "      <td>1.4</td>\n",
              "      <td>NaN</td>\n",
              "      <td>NaN</td>\n",
              "      <td>11.6</td>\n",
              "      <td>35</td>\n",
              "      <td>7300</td>\n",
              "      <td>4.6</td>\n",
              "      <td>no</td>\n",
              "      <td>no</td>\n",
              "      <td>no</td>\n",
              "      <td>good</td>\n",
              "      <td>no</td>\n",
              "      <td>no</td>\n",
              "      <td>ckd</td>\n",
              "    </tr>\n",
              "  </tbody>\n",
              "</table>\n",
              "</div>"
            ],
            "text/plain": [
              "   id   age    bp     sg   al   su  ...   dm  cad  appet   pe  ane  classification\n",
              "0   0  48.0  80.0  1.020  1.0  0.0  ...  yes   no   good   no   no             ckd\n",
              "1   1   7.0  50.0  1.020  4.0  0.0  ...   no   no   good   no   no             ckd\n",
              "2   2  62.0  80.0  1.010  2.0  3.0  ...  yes   no   poor   no  yes             ckd\n",
              "3   3  48.0  70.0  1.005  4.0  0.0  ...   no   no   poor  yes  yes             ckd\n",
              "4   4  51.0  80.0  1.010  2.0  0.0  ...   no   no   good   no   no             ckd\n",
              "\n",
              "[5 rows x 26 columns]"
            ]
          },
          "metadata": {
            "tags": []
          },
          "execution_count": 340
        }
      ]
    },
    {
      "cell_type": "code",
      "metadata": {
        "colab": {
          "base_uri": "https://localhost:8080/",
          "height": 196
        },
        "id": "SZvJykhPioXH",
        "outputId": "9bd23af1-d39e-4589-e9ca-293cd520c27f"
      },
      "source": [
        "# แปลงคำว่า no, yes ในตารางเป็นค่า 0 และ 1\n",
        "df = df.replace(to_replace =\"no\", value =0)\n",
        "df = df.replace(to_replace =\"\\tno\", value =1)\n",
        "df = df.replace(to_replace =\"yes\", value =1)\n",
        "df = df.replace(to_replace =\"\\tyes\", value =1)\n",
        "df = df.replace(to_replace =\" yes\", value =1)\n",
        "\n",
        "df.head()"
      ],
      "execution_count": null,
      "outputs": [
        {
          "output_type": "execute_result",
          "data": {
            "text/html": [
              "<div>\n",
              "<style scoped>\n",
              "    .dataframe tbody tr th:only-of-type {\n",
              "        vertical-align: middle;\n",
              "    }\n",
              "\n",
              "    .dataframe tbody tr th {\n",
              "        vertical-align: top;\n",
              "    }\n",
              "\n",
              "    .dataframe thead th {\n",
              "        text-align: right;\n",
              "    }\n",
              "</style>\n",
              "<table border=\"1\" class=\"dataframe\">\n",
              "  <thead>\n",
              "    <tr style=\"text-align: right;\">\n",
              "      <th></th>\n",
              "      <th>id</th>\n",
              "      <th>age</th>\n",
              "      <th>bp</th>\n",
              "      <th>sg</th>\n",
              "      <th>al</th>\n",
              "      <th>su</th>\n",
              "      <th>rbc</th>\n",
              "      <th>pc</th>\n",
              "      <th>pcc</th>\n",
              "      <th>ba</th>\n",
              "      <th>bgr</th>\n",
              "      <th>bu</th>\n",
              "      <th>sc</th>\n",
              "      <th>sod</th>\n",
              "      <th>pot</th>\n",
              "      <th>hemo</th>\n",
              "      <th>pcv</th>\n",
              "      <th>wc</th>\n",
              "      <th>rc</th>\n",
              "      <th>htn</th>\n",
              "      <th>dm</th>\n",
              "      <th>cad</th>\n",
              "      <th>appet</th>\n",
              "      <th>pe</th>\n",
              "      <th>ane</th>\n",
              "      <th>classification</th>\n",
              "    </tr>\n",
              "  </thead>\n",
              "  <tbody>\n",
              "    <tr>\n",
              "      <th>0</th>\n",
              "      <td>0</td>\n",
              "      <td>48.0</td>\n",
              "      <td>80.0</td>\n",
              "      <td>1.020</td>\n",
              "      <td>1.0</td>\n",
              "      <td>0.0</td>\n",
              "      <td>NaN</td>\n",
              "      <td>0.0</td>\n",
              "      <td>0.0</td>\n",
              "      <td>0.0</td>\n",
              "      <td>121.0</td>\n",
              "      <td>36.0</td>\n",
              "      <td>1.2</td>\n",
              "      <td>NaN</td>\n",
              "      <td>NaN</td>\n",
              "      <td>15.4</td>\n",
              "      <td>44</td>\n",
              "      <td>7800</td>\n",
              "      <td>5.2</td>\n",
              "      <td>1.0</td>\n",
              "      <td>1.0</td>\n",
              "      <td>0.0</td>\n",
              "      <td>good</td>\n",
              "      <td>0.0</td>\n",
              "      <td>0.0</td>\n",
              "      <td>ckd</td>\n",
              "    </tr>\n",
              "    <tr>\n",
              "      <th>1</th>\n",
              "      <td>1</td>\n",
              "      <td>7.0</td>\n",
              "      <td>50.0</td>\n",
              "      <td>1.020</td>\n",
              "      <td>4.0</td>\n",
              "      <td>0.0</td>\n",
              "      <td>NaN</td>\n",
              "      <td>0.0</td>\n",
              "      <td>0.0</td>\n",
              "      <td>0.0</td>\n",
              "      <td>NaN</td>\n",
              "      <td>18.0</td>\n",
              "      <td>0.8</td>\n",
              "      <td>NaN</td>\n",
              "      <td>NaN</td>\n",
              "      <td>11.3</td>\n",
              "      <td>38</td>\n",
              "      <td>6000</td>\n",
              "      <td>NaN</td>\n",
              "      <td>0.0</td>\n",
              "      <td>0.0</td>\n",
              "      <td>0.0</td>\n",
              "      <td>good</td>\n",
              "      <td>0.0</td>\n",
              "      <td>0.0</td>\n",
              "      <td>ckd</td>\n",
              "    </tr>\n",
              "    <tr>\n",
              "      <th>2</th>\n",
              "      <td>2</td>\n",
              "      <td>62.0</td>\n",
              "      <td>80.0</td>\n",
              "      <td>1.010</td>\n",
              "      <td>2.0</td>\n",
              "      <td>3.0</td>\n",
              "      <td>0.0</td>\n",
              "      <td>0.0</td>\n",
              "      <td>0.0</td>\n",
              "      <td>0.0</td>\n",
              "      <td>423.0</td>\n",
              "      <td>53.0</td>\n",
              "      <td>1.8</td>\n",
              "      <td>NaN</td>\n",
              "      <td>NaN</td>\n",
              "      <td>9.6</td>\n",
              "      <td>31</td>\n",
              "      <td>7500</td>\n",
              "      <td>NaN</td>\n",
              "      <td>0.0</td>\n",
              "      <td>1.0</td>\n",
              "      <td>0.0</td>\n",
              "      <td>poor</td>\n",
              "      <td>0.0</td>\n",
              "      <td>1.0</td>\n",
              "      <td>ckd</td>\n",
              "    </tr>\n",
              "    <tr>\n",
              "      <th>3</th>\n",
              "      <td>3</td>\n",
              "      <td>48.0</td>\n",
              "      <td>70.0</td>\n",
              "      <td>1.005</td>\n",
              "      <td>4.0</td>\n",
              "      <td>0.0</td>\n",
              "      <td>0.0</td>\n",
              "      <td>1.0</td>\n",
              "      <td>1.0</td>\n",
              "      <td>0.0</td>\n",
              "      <td>117.0</td>\n",
              "      <td>56.0</td>\n",
              "      <td>3.8</td>\n",
              "      <td>111.0</td>\n",
              "      <td>2.5</td>\n",
              "      <td>11.2</td>\n",
              "      <td>32</td>\n",
              "      <td>6700</td>\n",
              "      <td>3.9</td>\n",
              "      <td>1.0</td>\n",
              "      <td>0.0</td>\n",
              "      <td>0.0</td>\n",
              "      <td>poor</td>\n",
              "      <td>1.0</td>\n",
              "      <td>1.0</td>\n",
              "      <td>ckd</td>\n",
              "    </tr>\n",
              "    <tr>\n",
              "      <th>4</th>\n",
              "      <td>4</td>\n",
              "      <td>51.0</td>\n",
              "      <td>80.0</td>\n",
              "      <td>1.010</td>\n",
              "      <td>2.0</td>\n",
              "      <td>0.0</td>\n",
              "      <td>0.0</td>\n",
              "      <td>0.0</td>\n",
              "      <td>0.0</td>\n",
              "      <td>0.0</td>\n",
              "      <td>106.0</td>\n",
              "      <td>26.0</td>\n",
              "      <td>1.4</td>\n",
              "      <td>NaN</td>\n",
              "      <td>NaN</td>\n",
              "      <td>11.6</td>\n",
              "      <td>35</td>\n",
              "      <td>7300</td>\n",
              "      <td>4.6</td>\n",
              "      <td>0.0</td>\n",
              "      <td>0.0</td>\n",
              "      <td>0.0</td>\n",
              "      <td>good</td>\n",
              "      <td>0.0</td>\n",
              "      <td>0.0</td>\n",
              "      <td>ckd</td>\n",
              "    </tr>\n",
              "  </tbody>\n",
              "</table>\n",
              "</div>"
            ],
            "text/plain": [
              "   id   age    bp     sg   al   su  ...   dm  cad  appet   pe  ane  classification\n",
              "0   0  48.0  80.0  1.020  1.0  0.0  ...  1.0  0.0   good  0.0  0.0             ckd\n",
              "1   1   7.0  50.0  1.020  4.0  0.0  ...  0.0  0.0   good  0.0  0.0             ckd\n",
              "2   2  62.0  80.0  1.010  2.0  3.0  ...  1.0  0.0   poor  0.0  1.0             ckd\n",
              "3   3  48.0  70.0  1.005  4.0  0.0  ...  0.0  0.0   poor  1.0  1.0             ckd\n",
              "4   4  51.0  80.0  1.010  2.0  0.0  ...  0.0  0.0   good  0.0  0.0             ckd\n",
              "\n",
              "[5 rows x 26 columns]"
            ]
          },
          "metadata": {
            "tags": []
          },
          "execution_count": 341
        }
      ]
    },
    {
      "cell_type": "code",
      "metadata": {
        "colab": {
          "base_uri": "https://localhost:8080/",
          "height": 196
        },
        "id": "Y1c9bNKdjJSB",
        "outputId": "99f45954-2219-41af-883d-08525d31ace1"
      },
      "source": [
        "# แปลงคำว่า good, poor ในตารางเป็นค่า 0 และ 1\n",
        "df = df.replace(to_replace =\"good\", value =0)\n",
        "df = df.replace(to_replace =\"poor\", value =1)\n",
        "df.head()"
      ],
      "execution_count": null,
      "outputs": [
        {
          "output_type": "execute_result",
          "data": {
            "text/html": [
              "<div>\n",
              "<style scoped>\n",
              "    .dataframe tbody tr th:only-of-type {\n",
              "        vertical-align: middle;\n",
              "    }\n",
              "\n",
              "    .dataframe tbody tr th {\n",
              "        vertical-align: top;\n",
              "    }\n",
              "\n",
              "    .dataframe thead th {\n",
              "        text-align: right;\n",
              "    }\n",
              "</style>\n",
              "<table border=\"1\" class=\"dataframe\">\n",
              "  <thead>\n",
              "    <tr style=\"text-align: right;\">\n",
              "      <th></th>\n",
              "      <th>id</th>\n",
              "      <th>age</th>\n",
              "      <th>bp</th>\n",
              "      <th>sg</th>\n",
              "      <th>al</th>\n",
              "      <th>su</th>\n",
              "      <th>rbc</th>\n",
              "      <th>pc</th>\n",
              "      <th>pcc</th>\n",
              "      <th>ba</th>\n",
              "      <th>bgr</th>\n",
              "      <th>bu</th>\n",
              "      <th>sc</th>\n",
              "      <th>sod</th>\n",
              "      <th>pot</th>\n",
              "      <th>hemo</th>\n",
              "      <th>pcv</th>\n",
              "      <th>wc</th>\n",
              "      <th>rc</th>\n",
              "      <th>htn</th>\n",
              "      <th>dm</th>\n",
              "      <th>cad</th>\n",
              "      <th>appet</th>\n",
              "      <th>pe</th>\n",
              "      <th>ane</th>\n",
              "      <th>classification</th>\n",
              "    </tr>\n",
              "  </thead>\n",
              "  <tbody>\n",
              "    <tr>\n",
              "      <th>0</th>\n",
              "      <td>0</td>\n",
              "      <td>48.0</td>\n",
              "      <td>80.0</td>\n",
              "      <td>1.020</td>\n",
              "      <td>1.0</td>\n",
              "      <td>0.0</td>\n",
              "      <td>NaN</td>\n",
              "      <td>0.0</td>\n",
              "      <td>0.0</td>\n",
              "      <td>0.0</td>\n",
              "      <td>121.0</td>\n",
              "      <td>36.0</td>\n",
              "      <td>1.2</td>\n",
              "      <td>NaN</td>\n",
              "      <td>NaN</td>\n",
              "      <td>15.4</td>\n",
              "      <td>44</td>\n",
              "      <td>7800</td>\n",
              "      <td>5.2</td>\n",
              "      <td>1.0</td>\n",
              "      <td>1.0</td>\n",
              "      <td>0.0</td>\n",
              "      <td>0.0</td>\n",
              "      <td>0.0</td>\n",
              "      <td>0.0</td>\n",
              "      <td>ckd</td>\n",
              "    </tr>\n",
              "    <tr>\n",
              "      <th>1</th>\n",
              "      <td>1</td>\n",
              "      <td>7.0</td>\n",
              "      <td>50.0</td>\n",
              "      <td>1.020</td>\n",
              "      <td>4.0</td>\n",
              "      <td>0.0</td>\n",
              "      <td>NaN</td>\n",
              "      <td>0.0</td>\n",
              "      <td>0.0</td>\n",
              "      <td>0.0</td>\n",
              "      <td>NaN</td>\n",
              "      <td>18.0</td>\n",
              "      <td>0.8</td>\n",
              "      <td>NaN</td>\n",
              "      <td>NaN</td>\n",
              "      <td>11.3</td>\n",
              "      <td>38</td>\n",
              "      <td>6000</td>\n",
              "      <td>NaN</td>\n",
              "      <td>0.0</td>\n",
              "      <td>0.0</td>\n",
              "      <td>0.0</td>\n",
              "      <td>0.0</td>\n",
              "      <td>0.0</td>\n",
              "      <td>0.0</td>\n",
              "      <td>ckd</td>\n",
              "    </tr>\n",
              "    <tr>\n",
              "      <th>2</th>\n",
              "      <td>2</td>\n",
              "      <td>62.0</td>\n",
              "      <td>80.0</td>\n",
              "      <td>1.010</td>\n",
              "      <td>2.0</td>\n",
              "      <td>3.0</td>\n",
              "      <td>0.0</td>\n",
              "      <td>0.0</td>\n",
              "      <td>0.0</td>\n",
              "      <td>0.0</td>\n",
              "      <td>423.0</td>\n",
              "      <td>53.0</td>\n",
              "      <td>1.8</td>\n",
              "      <td>NaN</td>\n",
              "      <td>NaN</td>\n",
              "      <td>9.6</td>\n",
              "      <td>31</td>\n",
              "      <td>7500</td>\n",
              "      <td>NaN</td>\n",
              "      <td>0.0</td>\n",
              "      <td>1.0</td>\n",
              "      <td>0.0</td>\n",
              "      <td>1.0</td>\n",
              "      <td>0.0</td>\n",
              "      <td>1.0</td>\n",
              "      <td>ckd</td>\n",
              "    </tr>\n",
              "    <tr>\n",
              "      <th>3</th>\n",
              "      <td>3</td>\n",
              "      <td>48.0</td>\n",
              "      <td>70.0</td>\n",
              "      <td>1.005</td>\n",
              "      <td>4.0</td>\n",
              "      <td>0.0</td>\n",
              "      <td>0.0</td>\n",
              "      <td>1.0</td>\n",
              "      <td>1.0</td>\n",
              "      <td>0.0</td>\n",
              "      <td>117.0</td>\n",
              "      <td>56.0</td>\n",
              "      <td>3.8</td>\n",
              "      <td>111.0</td>\n",
              "      <td>2.5</td>\n",
              "      <td>11.2</td>\n",
              "      <td>32</td>\n",
              "      <td>6700</td>\n",
              "      <td>3.9</td>\n",
              "      <td>1.0</td>\n",
              "      <td>0.0</td>\n",
              "      <td>0.0</td>\n",
              "      <td>1.0</td>\n",
              "      <td>1.0</td>\n",
              "      <td>1.0</td>\n",
              "      <td>ckd</td>\n",
              "    </tr>\n",
              "    <tr>\n",
              "      <th>4</th>\n",
              "      <td>4</td>\n",
              "      <td>51.0</td>\n",
              "      <td>80.0</td>\n",
              "      <td>1.010</td>\n",
              "      <td>2.0</td>\n",
              "      <td>0.0</td>\n",
              "      <td>0.0</td>\n",
              "      <td>0.0</td>\n",
              "      <td>0.0</td>\n",
              "      <td>0.0</td>\n",
              "      <td>106.0</td>\n",
              "      <td>26.0</td>\n",
              "      <td>1.4</td>\n",
              "      <td>NaN</td>\n",
              "      <td>NaN</td>\n",
              "      <td>11.6</td>\n",
              "      <td>35</td>\n",
              "      <td>7300</td>\n",
              "      <td>4.6</td>\n",
              "      <td>0.0</td>\n",
              "      <td>0.0</td>\n",
              "      <td>0.0</td>\n",
              "      <td>0.0</td>\n",
              "      <td>0.0</td>\n",
              "      <td>0.0</td>\n",
              "      <td>ckd</td>\n",
              "    </tr>\n",
              "  </tbody>\n",
              "</table>\n",
              "</div>"
            ],
            "text/plain": [
              "   id   age    bp     sg   al   su  ...   dm  cad  appet   pe  ane  classification\n",
              "0   0  48.0  80.0  1.020  1.0  0.0  ...  1.0  0.0    0.0  0.0  0.0             ckd\n",
              "1   1   7.0  50.0  1.020  4.0  0.0  ...  0.0  0.0    0.0  0.0  0.0             ckd\n",
              "2   2  62.0  80.0  1.010  2.0  3.0  ...  1.0  0.0    1.0  0.0  1.0             ckd\n",
              "3   3  48.0  70.0  1.005  4.0  0.0  ...  0.0  0.0    1.0  1.0  1.0             ckd\n",
              "4   4  51.0  80.0  1.010  2.0  0.0  ...  0.0  0.0    0.0  0.0  0.0             ckd\n",
              "\n",
              "[5 rows x 26 columns]"
            ]
          },
          "metadata": {
            "tags": []
          },
          "execution_count": 342
        }
      ]
    },
    {
      "cell_type": "code",
      "metadata": {
        "colab": {
          "base_uri": "https://localhost:8080/",
          "height": 196
        },
        "id": "igrl3LmnjSzd",
        "outputId": "b6df7806-783d-4284-ca92-909e32eb8101"
      },
      "source": [
        "# แปลงคำว่า nonckd, ckd ในตารางเป็นค่า 0 และ 1\n",
        "df = df.replace(to_replace =\"notckd\", value =0)\n",
        "df = df.replace(to_replace =\"ckd\", value =1)\n",
        "df = df.replace(to_replace =\"ckd\\t\", value =1)\n",
        "df.head()"
      ],
      "execution_count": null,
      "outputs": [
        {
          "output_type": "execute_result",
          "data": {
            "text/html": [
              "<div>\n",
              "<style scoped>\n",
              "    .dataframe tbody tr th:only-of-type {\n",
              "        vertical-align: middle;\n",
              "    }\n",
              "\n",
              "    .dataframe tbody tr th {\n",
              "        vertical-align: top;\n",
              "    }\n",
              "\n",
              "    .dataframe thead th {\n",
              "        text-align: right;\n",
              "    }\n",
              "</style>\n",
              "<table border=\"1\" class=\"dataframe\">\n",
              "  <thead>\n",
              "    <tr style=\"text-align: right;\">\n",
              "      <th></th>\n",
              "      <th>id</th>\n",
              "      <th>age</th>\n",
              "      <th>bp</th>\n",
              "      <th>sg</th>\n",
              "      <th>al</th>\n",
              "      <th>su</th>\n",
              "      <th>rbc</th>\n",
              "      <th>pc</th>\n",
              "      <th>pcc</th>\n",
              "      <th>ba</th>\n",
              "      <th>bgr</th>\n",
              "      <th>bu</th>\n",
              "      <th>sc</th>\n",
              "      <th>sod</th>\n",
              "      <th>pot</th>\n",
              "      <th>hemo</th>\n",
              "      <th>pcv</th>\n",
              "      <th>wc</th>\n",
              "      <th>rc</th>\n",
              "      <th>htn</th>\n",
              "      <th>dm</th>\n",
              "      <th>cad</th>\n",
              "      <th>appet</th>\n",
              "      <th>pe</th>\n",
              "      <th>ane</th>\n",
              "      <th>classification</th>\n",
              "    </tr>\n",
              "  </thead>\n",
              "  <tbody>\n",
              "    <tr>\n",
              "      <th>0</th>\n",
              "      <td>0</td>\n",
              "      <td>48.0</td>\n",
              "      <td>80.0</td>\n",
              "      <td>1.020</td>\n",
              "      <td>1.0</td>\n",
              "      <td>0.0</td>\n",
              "      <td>NaN</td>\n",
              "      <td>0.0</td>\n",
              "      <td>0.0</td>\n",
              "      <td>0.0</td>\n",
              "      <td>121.0</td>\n",
              "      <td>36.0</td>\n",
              "      <td>1.2</td>\n",
              "      <td>NaN</td>\n",
              "      <td>NaN</td>\n",
              "      <td>15.4</td>\n",
              "      <td>44</td>\n",
              "      <td>7800</td>\n",
              "      <td>5.2</td>\n",
              "      <td>1.0</td>\n",
              "      <td>1.0</td>\n",
              "      <td>0.0</td>\n",
              "      <td>0.0</td>\n",
              "      <td>0.0</td>\n",
              "      <td>0.0</td>\n",
              "      <td>1</td>\n",
              "    </tr>\n",
              "    <tr>\n",
              "      <th>1</th>\n",
              "      <td>1</td>\n",
              "      <td>7.0</td>\n",
              "      <td>50.0</td>\n",
              "      <td>1.020</td>\n",
              "      <td>4.0</td>\n",
              "      <td>0.0</td>\n",
              "      <td>NaN</td>\n",
              "      <td>0.0</td>\n",
              "      <td>0.0</td>\n",
              "      <td>0.0</td>\n",
              "      <td>NaN</td>\n",
              "      <td>18.0</td>\n",
              "      <td>0.8</td>\n",
              "      <td>NaN</td>\n",
              "      <td>NaN</td>\n",
              "      <td>11.3</td>\n",
              "      <td>38</td>\n",
              "      <td>6000</td>\n",
              "      <td>NaN</td>\n",
              "      <td>0.0</td>\n",
              "      <td>0.0</td>\n",
              "      <td>0.0</td>\n",
              "      <td>0.0</td>\n",
              "      <td>0.0</td>\n",
              "      <td>0.0</td>\n",
              "      <td>1</td>\n",
              "    </tr>\n",
              "    <tr>\n",
              "      <th>2</th>\n",
              "      <td>2</td>\n",
              "      <td>62.0</td>\n",
              "      <td>80.0</td>\n",
              "      <td>1.010</td>\n",
              "      <td>2.0</td>\n",
              "      <td>3.0</td>\n",
              "      <td>0.0</td>\n",
              "      <td>0.0</td>\n",
              "      <td>0.0</td>\n",
              "      <td>0.0</td>\n",
              "      <td>423.0</td>\n",
              "      <td>53.0</td>\n",
              "      <td>1.8</td>\n",
              "      <td>NaN</td>\n",
              "      <td>NaN</td>\n",
              "      <td>9.6</td>\n",
              "      <td>31</td>\n",
              "      <td>7500</td>\n",
              "      <td>NaN</td>\n",
              "      <td>0.0</td>\n",
              "      <td>1.0</td>\n",
              "      <td>0.0</td>\n",
              "      <td>1.0</td>\n",
              "      <td>0.0</td>\n",
              "      <td>1.0</td>\n",
              "      <td>1</td>\n",
              "    </tr>\n",
              "    <tr>\n",
              "      <th>3</th>\n",
              "      <td>3</td>\n",
              "      <td>48.0</td>\n",
              "      <td>70.0</td>\n",
              "      <td>1.005</td>\n",
              "      <td>4.0</td>\n",
              "      <td>0.0</td>\n",
              "      <td>0.0</td>\n",
              "      <td>1.0</td>\n",
              "      <td>1.0</td>\n",
              "      <td>0.0</td>\n",
              "      <td>117.0</td>\n",
              "      <td>56.0</td>\n",
              "      <td>3.8</td>\n",
              "      <td>111.0</td>\n",
              "      <td>2.5</td>\n",
              "      <td>11.2</td>\n",
              "      <td>32</td>\n",
              "      <td>6700</td>\n",
              "      <td>3.9</td>\n",
              "      <td>1.0</td>\n",
              "      <td>0.0</td>\n",
              "      <td>0.0</td>\n",
              "      <td>1.0</td>\n",
              "      <td>1.0</td>\n",
              "      <td>1.0</td>\n",
              "      <td>1</td>\n",
              "    </tr>\n",
              "    <tr>\n",
              "      <th>4</th>\n",
              "      <td>4</td>\n",
              "      <td>51.0</td>\n",
              "      <td>80.0</td>\n",
              "      <td>1.010</td>\n",
              "      <td>2.0</td>\n",
              "      <td>0.0</td>\n",
              "      <td>0.0</td>\n",
              "      <td>0.0</td>\n",
              "      <td>0.0</td>\n",
              "      <td>0.0</td>\n",
              "      <td>106.0</td>\n",
              "      <td>26.0</td>\n",
              "      <td>1.4</td>\n",
              "      <td>NaN</td>\n",
              "      <td>NaN</td>\n",
              "      <td>11.6</td>\n",
              "      <td>35</td>\n",
              "      <td>7300</td>\n",
              "      <td>4.6</td>\n",
              "      <td>0.0</td>\n",
              "      <td>0.0</td>\n",
              "      <td>0.0</td>\n",
              "      <td>0.0</td>\n",
              "      <td>0.0</td>\n",
              "      <td>0.0</td>\n",
              "      <td>1</td>\n",
              "    </tr>\n",
              "  </tbody>\n",
              "</table>\n",
              "</div>"
            ],
            "text/plain": [
              "   id   age    bp     sg   al   su  ...   dm  cad  appet   pe  ane  classification\n",
              "0   0  48.0  80.0  1.020  1.0  0.0  ...  1.0  0.0    0.0  0.0  0.0               1\n",
              "1   1   7.0  50.0  1.020  4.0  0.0  ...  0.0  0.0    0.0  0.0  0.0               1\n",
              "2   2  62.0  80.0  1.010  2.0  3.0  ...  1.0  0.0    1.0  0.0  1.0               1\n",
              "3   3  48.0  70.0  1.005  4.0  0.0  ...  0.0  0.0    1.0  1.0  1.0               1\n",
              "4   4  51.0  80.0  1.010  2.0  0.0  ...  0.0  0.0    0.0  0.0  0.0               1\n",
              "\n",
              "[5 rows x 26 columns]"
            ]
          },
          "metadata": {
            "tags": []
          },
          "execution_count": 343
        }
      ]
    },
    {
      "cell_type": "code",
      "metadata": {
        "colab": {
          "base_uri": "https://localhost:8080/",
          "height": 196
        },
        "id": "uo5wpSK4jrsj",
        "outputId": "e1908f53-1d0d-4ea3-8a32-e96f37ce6555"
      },
      "source": [
        "# ทำการลบ column ที่เป็น id ของผู้ป่วยออกจาก data frame\n",
        "df = df.drop(columns=['id'])\n",
        "df.head()"
      ],
      "execution_count": null,
      "outputs": [
        {
          "output_type": "execute_result",
          "data": {
            "text/html": [
              "<div>\n",
              "<style scoped>\n",
              "    .dataframe tbody tr th:only-of-type {\n",
              "        vertical-align: middle;\n",
              "    }\n",
              "\n",
              "    .dataframe tbody tr th {\n",
              "        vertical-align: top;\n",
              "    }\n",
              "\n",
              "    .dataframe thead th {\n",
              "        text-align: right;\n",
              "    }\n",
              "</style>\n",
              "<table border=\"1\" class=\"dataframe\">\n",
              "  <thead>\n",
              "    <tr style=\"text-align: right;\">\n",
              "      <th></th>\n",
              "      <th>age</th>\n",
              "      <th>bp</th>\n",
              "      <th>sg</th>\n",
              "      <th>al</th>\n",
              "      <th>su</th>\n",
              "      <th>rbc</th>\n",
              "      <th>pc</th>\n",
              "      <th>pcc</th>\n",
              "      <th>ba</th>\n",
              "      <th>bgr</th>\n",
              "      <th>bu</th>\n",
              "      <th>sc</th>\n",
              "      <th>sod</th>\n",
              "      <th>pot</th>\n",
              "      <th>hemo</th>\n",
              "      <th>pcv</th>\n",
              "      <th>wc</th>\n",
              "      <th>rc</th>\n",
              "      <th>htn</th>\n",
              "      <th>dm</th>\n",
              "      <th>cad</th>\n",
              "      <th>appet</th>\n",
              "      <th>pe</th>\n",
              "      <th>ane</th>\n",
              "      <th>classification</th>\n",
              "    </tr>\n",
              "  </thead>\n",
              "  <tbody>\n",
              "    <tr>\n",
              "      <th>0</th>\n",
              "      <td>48.0</td>\n",
              "      <td>80.0</td>\n",
              "      <td>1.020</td>\n",
              "      <td>1.0</td>\n",
              "      <td>0.0</td>\n",
              "      <td>NaN</td>\n",
              "      <td>0.0</td>\n",
              "      <td>0.0</td>\n",
              "      <td>0.0</td>\n",
              "      <td>121.0</td>\n",
              "      <td>36.0</td>\n",
              "      <td>1.2</td>\n",
              "      <td>NaN</td>\n",
              "      <td>NaN</td>\n",
              "      <td>15.4</td>\n",
              "      <td>44</td>\n",
              "      <td>7800</td>\n",
              "      <td>5.2</td>\n",
              "      <td>1.0</td>\n",
              "      <td>1.0</td>\n",
              "      <td>0.0</td>\n",
              "      <td>0.0</td>\n",
              "      <td>0.0</td>\n",
              "      <td>0.0</td>\n",
              "      <td>1</td>\n",
              "    </tr>\n",
              "    <tr>\n",
              "      <th>1</th>\n",
              "      <td>7.0</td>\n",
              "      <td>50.0</td>\n",
              "      <td>1.020</td>\n",
              "      <td>4.0</td>\n",
              "      <td>0.0</td>\n",
              "      <td>NaN</td>\n",
              "      <td>0.0</td>\n",
              "      <td>0.0</td>\n",
              "      <td>0.0</td>\n",
              "      <td>NaN</td>\n",
              "      <td>18.0</td>\n",
              "      <td>0.8</td>\n",
              "      <td>NaN</td>\n",
              "      <td>NaN</td>\n",
              "      <td>11.3</td>\n",
              "      <td>38</td>\n",
              "      <td>6000</td>\n",
              "      <td>NaN</td>\n",
              "      <td>0.0</td>\n",
              "      <td>0.0</td>\n",
              "      <td>0.0</td>\n",
              "      <td>0.0</td>\n",
              "      <td>0.0</td>\n",
              "      <td>0.0</td>\n",
              "      <td>1</td>\n",
              "    </tr>\n",
              "    <tr>\n",
              "      <th>2</th>\n",
              "      <td>62.0</td>\n",
              "      <td>80.0</td>\n",
              "      <td>1.010</td>\n",
              "      <td>2.0</td>\n",
              "      <td>3.0</td>\n",
              "      <td>0.0</td>\n",
              "      <td>0.0</td>\n",
              "      <td>0.0</td>\n",
              "      <td>0.0</td>\n",
              "      <td>423.0</td>\n",
              "      <td>53.0</td>\n",
              "      <td>1.8</td>\n",
              "      <td>NaN</td>\n",
              "      <td>NaN</td>\n",
              "      <td>9.6</td>\n",
              "      <td>31</td>\n",
              "      <td>7500</td>\n",
              "      <td>NaN</td>\n",
              "      <td>0.0</td>\n",
              "      <td>1.0</td>\n",
              "      <td>0.0</td>\n",
              "      <td>1.0</td>\n",
              "      <td>0.0</td>\n",
              "      <td>1.0</td>\n",
              "      <td>1</td>\n",
              "    </tr>\n",
              "    <tr>\n",
              "      <th>3</th>\n",
              "      <td>48.0</td>\n",
              "      <td>70.0</td>\n",
              "      <td>1.005</td>\n",
              "      <td>4.0</td>\n",
              "      <td>0.0</td>\n",
              "      <td>0.0</td>\n",
              "      <td>1.0</td>\n",
              "      <td>1.0</td>\n",
              "      <td>0.0</td>\n",
              "      <td>117.0</td>\n",
              "      <td>56.0</td>\n",
              "      <td>3.8</td>\n",
              "      <td>111.0</td>\n",
              "      <td>2.5</td>\n",
              "      <td>11.2</td>\n",
              "      <td>32</td>\n",
              "      <td>6700</td>\n",
              "      <td>3.9</td>\n",
              "      <td>1.0</td>\n",
              "      <td>0.0</td>\n",
              "      <td>0.0</td>\n",
              "      <td>1.0</td>\n",
              "      <td>1.0</td>\n",
              "      <td>1.0</td>\n",
              "      <td>1</td>\n",
              "    </tr>\n",
              "    <tr>\n",
              "      <th>4</th>\n",
              "      <td>51.0</td>\n",
              "      <td>80.0</td>\n",
              "      <td>1.010</td>\n",
              "      <td>2.0</td>\n",
              "      <td>0.0</td>\n",
              "      <td>0.0</td>\n",
              "      <td>0.0</td>\n",
              "      <td>0.0</td>\n",
              "      <td>0.0</td>\n",
              "      <td>106.0</td>\n",
              "      <td>26.0</td>\n",
              "      <td>1.4</td>\n",
              "      <td>NaN</td>\n",
              "      <td>NaN</td>\n",
              "      <td>11.6</td>\n",
              "      <td>35</td>\n",
              "      <td>7300</td>\n",
              "      <td>4.6</td>\n",
              "      <td>0.0</td>\n",
              "      <td>0.0</td>\n",
              "      <td>0.0</td>\n",
              "      <td>0.0</td>\n",
              "      <td>0.0</td>\n",
              "      <td>0.0</td>\n",
              "      <td>1</td>\n",
              "    </tr>\n",
              "  </tbody>\n",
              "</table>\n",
              "</div>"
            ],
            "text/plain": [
              "    age    bp     sg   al   su  rbc  ...   dm  cad  appet   pe  ane  classification\n",
              "0  48.0  80.0  1.020  1.0  0.0  NaN  ...  1.0  0.0    0.0  0.0  0.0               1\n",
              "1   7.0  50.0  1.020  4.0  0.0  NaN  ...  0.0  0.0    0.0  0.0  0.0               1\n",
              "2  62.0  80.0  1.010  2.0  3.0  0.0  ...  1.0  0.0    1.0  0.0  1.0               1\n",
              "3  48.0  70.0  1.005  4.0  0.0  0.0  ...  0.0  0.0    1.0  1.0  1.0               1\n",
              "4  51.0  80.0  1.010  2.0  0.0  0.0  ...  0.0  0.0    0.0  0.0  0.0               1\n",
              "\n",
              "[5 rows x 25 columns]"
            ]
          },
          "metadata": {
            "tags": []
          },
          "execution_count": 344
        }
      ]
    },
    {
      "cell_type": "code",
      "metadata": {
        "colab": {
          "base_uri": "https://localhost:8080/",
          "height": 196
        },
        "id": "yTvWqAK82fqL",
        "outputId": "3e273fe6-284b-43d0-a5a8-f076c8bb5ae0"
      },
      "source": [
        "# ทำการแยก Data frame ส่วนของผู้ป่วย ckd ออกจาก data ทั้งหมด\n",
        "df_ckd = df[df['classification'] != 0]\n",
        "\n",
        "# ทำการลบ row ทั้งหมดที่มีค่าเป็น NaN ออกจาก data frame\n",
        "# df_ckd = df_ckd.dropna()\n",
        "\n",
        "df_ckd.head()"
      ],
      "execution_count": null,
      "outputs": [
        {
          "output_type": "execute_result",
          "data": {
            "text/html": [
              "<div>\n",
              "<style scoped>\n",
              "    .dataframe tbody tr th:only-of-type {\n",
              "        vertical-align: middle;\n",
              "    }\n",
              "\n",
              "    .dataframe tbody tr th {\n",
              "        vertical-align: top;\n",
              "    }\n",
              "\n",
              "    .dataframe thead th {\n",
              "        text-align: right;\n",
              "    }\n",
              "</style>\n",
              "<table border=\"1\" class=\"dataframe\">\n",
              "  <thead>\n",
              "    <tr style=\"text-align: right;\">\n",
              "      <th></th>\n",
              "      <th>age</th>\n",
              "      <th>bp</th>\n",
              "      <th>sg</th>\n",
              "      <th>al</th>\n",
              "      <th>su</th>\n",
              "      <th>rbc</th>\n",
              "      <th>pc</th>\n",
              "      <th>pcc</th>\n",
              "      <th>ba</th>\n",
              "      <th>bgr</th>\n",
              "      <th>bu</th>\n",
              "      <th>sc</th>\n",
              "      <th>sod</th>\n",
              "      <th>pot</th>\n",
              "      <th>hemo</th>\n",
              "      <th>pcv</th>\n",
              "      <th>wc</th>\n",
              "      <th>rc</th>\n",
              "      <th>htn</th>\n",
              "      <th>dm</th>\n",
              "      <th>cad</th>\n",
              "      <th>appet</th>\n",
              "      <th>pe</th>\n",
              "      <th>ane</th>\n",
              "      <th>classification</th>\n",
              "    </tr>\n",
              "  </thead>\n",
              "  <tbody>\n",
              "    <tr>\n",
              "      <th>0</th>\n",
              "      <td>48.0</td>\n",
              "      <td>80.0</td>\n",
              "      <td>1.020</td>\n",
              "      <td>1.0</td>\n",
              "      <td>0.0</td>\n",
              "      <td>NaN</td>\n",
              "      <td>0.0</td>\n",
              "      <td>0.0</td>\n",
              "      <td>0.0</td>\n",
              "      <td>121.0</td>\n",
              "      <td>36.0</td>\n",
              "      <td>1.2</td>\n",
              "      <td>NaN</td>\n",
              "      <td>NaN</td>\n",
              "      <td>15.4</td>\n",
              "      <td>44</td>\n",
              "      <td>7800</td>\n",
              "      <td>5.2</td>\n",
              "      <td>1.0</td>\n",
              "      <td>1.0</td>\n",
              "      <td>0.0</td>\n",
              "      <td>0.0</td>\n",
              "      <td>0.0</td>\n",
              "      <td>0.0</td>\n",
              "      <td>1</td>\n",
              "    </tr>\n",
              "    <tr>\n",
              "      <th>1</th>\n",
              "      <td>7.0</td>\n",
              "      <td>50.0</td>\n",
              "      <td>1.020</td>\n",
              "      <td>4.0</td>\n",
              "      <td>0.0</td>\n",
              "      <td>NaN</td>\n",
              "      <td>0.0</td>\n",
              "      <td>0.0</td>\n",
              "      <td>0.0</td>\n",
              "      <td>NaN</td>\n",
              "      <td>18.0</td>\n",
              "      <td>0.8</td>\n",
              "      <td>NaN</td>\n",
              "      <td>NaN</td>\n",
              "      <td>11.3</td>\n",
              "      <td>38</td>\n",
              "      <td>6000</td>\n",
              "      <td>NaN</td>\n",
              "      <td>0.0</td>\n",
              "      <td>0.0</td>\n",
              "      <td>0.0</td>\n",
              "      <td>0.0</td>\n",
              "      <td>0.0</td>\n",
              "      <td>0.0</td>\n",
              "      <td>1</td>\n",
              "    </tr>\n",
              "    <tr>\n",
              "      <th>2</th>\n",
              "      <td>62.0</td>\n",
              "      <td>80.0</td>\n",
              "      <td>1.010</td>\n",
              "      <td>2.0</td>\n",
              "      <td>3.0</td>\n",
              "      <td>0.0</td>\n",
              "      <td>0.0</td>\n",
              "      <td>0.0</td>\n",
              "      <td>0.0</td>\n",
              "      <td>423.0</td>\n",
              "      <td>53.0</td>\n",
              "      <td>1.8</td>\n",
              "      <td>NaN</td>\n",
              "      <td>NaN</td>\n",
              "      <td>9.6</td>\n",
              "      <td>31</td>\n",
              "      <td>7500</td>\n",
              "      <td>NaN</td>\n",
              "      <td>0.0</td>\n",
              "      <td>1.0</td>\n",
              "      <td>0.0</td>\n",
              "      <td>1.0</td>\n",
              "      <td>0.0</td>\n",
              "      <td>1.0</td>\n",
              "      <td>1</td>\n",
              "    </tr>\n",
              "    <tr>\n",
              "      <th>3</th>\n",
              "      <td>48.0</td>\n",
              "      <td>70.0</td>\n",
              "      <td>1.005</td>\n",
              "      <td>4.0</td>\n",
              "      <td>0.0</td>\n",
              "      <td>0.0</td>\n",
              "      <td>1.0</td>\n",
              "      <td>1.0</td>\n",
              "      <td>0.0</td>\n",
              "      <td>117.0</td>\n",
              "      <td>56.0</td>\n",
              "      <td>3.8</td>\n",
              "      <td>111.0</td>\n",
              "      <td>2.5</td>\n",
              "      <td>11.2</td>\n",
              "      <td>32</td>\n",
              "      <td>6700</td>\n",
              "      <td>3.9</td>\n",
              "      <td>1.0</td>\n",
              "      <td>0.0</td>\n",
              "      <td>0.0</td>\n",
              "      <td>1.0</td>\n",
              "      <td>1.0</td>\n",
              "      <td>1.0</td>\n",
              "      <td>1</td>\n",
              "    </tr>\n",
              "    <tr>\n",
              "      <th>4</th>\n",
              "      <td>51.0</td>\n",
              "      <td>80.0</td>\n",
              "      <td>1.010</td>\n",
              "      <td>2.0</td>\n",
              "      <td>0.0</td>\n",
              "      <td>0.0</td>\n",
              "      <td>0.0</td>\n",
              "      <td>0.0</td>\n",
              "      <td>0.0</td>\n",
              "      <td>106.0</td>\n",
              "      <td>26.0</td>\n",
              "      <td>1.4</td>\n",
              "      <td>NaN</td>\n",
              "      <td>NaN</td>\n",
              "      <td>11.6</td>\n",
              "      <td>35</td>\n",
              "      <td>7300</td>\n",
              "      <td>4.6</td>\n",
              "      <td>0.0</td>\n",
              "      <td>0.0</td>\n",
              "      <td>0.0</td>\n",
              "      <td>0.0</td>\n",
              "      <td>0.0</td>\n",
              "      <td>0.0</td>\n",
              "      <td>1</td>\n",
              "    </tr>\n",
              "  </tbody>\n",
              "</table>\n",
              "</div>"
            ],
            "text/plain": [
              "    age    bp     sg   al   su  rbc  ...   dm  cad  appet   pe  ane  classification\n",
              "0  48.0  80.0  1.020  1.0  0.0  NaN  ...  1.0  0.0    0.0  0.0  0.0               1\n",
              "1   7.0  50.0  1.020  4.0  0.0  NaN  ...  0.0  0.0    0.0  0.0  0.0               1\n",
              "2  62.0  80.0  1.010  2.0  3.0  0.0  ...  1.0  0.0    1.0  0.0  1.0               1\n",
              "3  48.0  70.0  1.005  4.0  0.0  0.0  ...  0.0  0.0    1.0  1.0  1.0               1\n",
              "4  51.0  80.0  1.010  2.0  0.0  0.0  ...  0.0  0.0    0.0  0.0  0.0               1\n",
              "\n",
              "[5 rows x 25 columns]"
            ]
          },
          "metadata": {
            "tags": []
          },
          "execution_count": 345
        }
      ]
    },
    {
      "cell_type": "code",
      "metadata": {
        "colab": {
          "base_uri": "https://localhost:8080/",
          "height": 196
        },
        "id": "zqWrdTMR20Ps",
        "outputId": "dab0251a-a82c-490d-953d-553ee9302b1b"
      },
      "source": [
        "# ทำการแยก Data frame ส่วนของ nonckd ออกจาก data ทั้งหมด\n",
        "df_nonckd = df[df['classification'] != 1]\n",
        "\n",
        "# ทำการลบ row ทั้งหมดที่มีค่าเป็น NaN ออกจาก data frame\n",
        "# df_nonckd = df_nonckd.dropna()\n",
        "\n",
        "df_nonckd.head()"
      ],
      "execution_count": null,
      "outputs": [
        {
          "output_type": "execute_result",
          "data": {
            "text/html": [
              "<div>\n",
              "<style scoped>\n",
              "    .dataframe tbody tr th:only-of-type {\n",
              "        vertical-align: middle;\n",
              "    }\n",
              "\n",
              "    .dataframe tbody tr th {\n",
              "        vertical-align: top;\n",
              "    }\n",
              "\n",
              "    .dataframe thead th {\n",
              "        text-align: right;\n",
              "    }\n",
              "</style>\n",
              "<table border=\"1\" class=\"dataframe\">\n",
              "  <thead>\n",
              "    <tr style=\"text-align: right;\">\n",
              "      <th></th>\n",
              "      <th>age</th>\n",
              "      <th>bp</th>\n",
              "      <th>sg</th>\n",
              "      <th>al</th>\n",
              "      <th>su</th>\n",
              "      <th>rbc</th>\n",
              "      <th>pc</th>\n",
              "      <th>pcc</th>\n",
              "      <th>ba</th>\n",
              "      <th>bgr</th>\n",
              "      <th>bu</th>\n",
              "      <th>sc</th>\n",
              "      <th>sod</th>\n",
              "      <th>pot</th>\n",
              "      <th>hemo</th>\n",
              "      <th>pcv</th>\n",
              "      <th>wc</th>\n",
              "      <th>rc</th>\n",
              "      <th>htn</th>\n",
              "      <th>dm</th>\n",
              "      <th>cad</th>\n",
              "      <th>appet</th>\n",
              "      <th>pe</th>\n",
              "      <th>ane</th>\n",
              "      <th>classification</th>\n",
              "    </tr>\n",
              "  </thead>\n",
              "  <tbody>\n",
              "    <tr>\n",
              "      <th>250</th>\n",
              "      <td>40.0</td>\n",
              "      <td>80.0</td>\n",
              "      <td>1.025</td>\n",
              "      <td>0.0</td>\n",
              "      <td>0.0</td>\n",
              "      <td>0.0</td>\n",
              "      <td>0.0</td>\n",
              "      <td>0.0</td>\n",
              "      <td>0.0</td>\n",
              "      <td>140.0</td>\n",
              "      <td>10.0</td>\n",
              "      <td>1.2</td>\n",
              "      <td>135.0</td>\n",
              "      <td>5.0</td>\n",
              "      <td>15.0</td>\n",
              "      <td>48</td>\n",
              "      <td>10400</td>\n",
              "      <td>4.5</td>\n",
              "      <td>0.0</td>\n",
              "      <td>0.0</td>\n",
              "      <td>0.0</td>\n",
              "      <td>0.0</td>\n",
              "      <td>0.0</td>\n",
              "      <td>0.0</td>\n",
              "      <td>0</td>\n",
              "    </tr>\n",
              "    <tr>\n",
              "      <th>251</th>\n",
              "      <td>23.0</td>\n",
              "      <td>80.0</td>\n",
              "      <td>1.025</td>\n",
              "      <td>0.0</td>\n",
              "      <td>0.0</td>\n",
              "      <td>0.0</td>\n",
              "      <td>0.0</td>\n",
              "      <td>0.0</td>\n",
              "      <td>0.0</td>\n",
              "      <td>70.0</td>\n",
              "      <td>36.0</td>\n",
              "      <td>1.0</td>\n",
              "      <td>150.0</td>\n",
              "      <td>4.6</td>\n",
              "      <td>17.0</td>\n",
              "      <td>52</td>\n",
              "      <td>9800</td>\n",
              "      <td>5.0</td>\n",
              "      <td>0.0</td>\n",
              "      <td>0.0</td>\n",
              "      <td>0.0</td>\n",
              "      <td>0.0</td>\n",
              "      <td>0.0</td>\n",
              "      <td>0.0</td>\n",
              "      <td>0</td>\n",
              "    </tr>\n",
              "    <tr>\n",
              "      <th>252</th>\n",
              "      <td>45.0</td>\n",
              "      <td>80.0</td>\n",
              "      <td>1.025</td>\n",
              "      <td>0.0</td>\n",
              "      <td>0.0</td>\n",
              "      <td>0.0</td>\n",
              "      <td>0.0</td>\n",
              "      <td>0.0</td>\n",
              "      <td>0.0</td>\n",
              "      <td>82.0</td>\n",
              "      <td>49.0</td>\n",
              "      <td>0.6</td>\n",
              "      <td>147.0</td>\n",
              "      <td>4.4</td>\n",
              "      <td>15.9</td>\n",
              "      <td>46</td>\n",
              "      <td>9100</td>\n",
              "      <td>4.7</td>\n",
              "      <td>0.0</td>\n",
              "      <td>0.0</td>\n",
              "      <td>0.0</td>\n",
              "      <td>0.0</td>\n",
              "      <td>0.0</td>\n",
              "      <td>0.0</td>\n",
              "      <td>0</td>\n",
              "    </tr>\n",
              "    <tr>\n",
              "      <th>253</th>\n",
              "      <td>57.0</td>\n",
              "      <td>80.0</td>\n",
              "      <td>1.025</td>\n",
              "      <td>0.0</td>\n",
              "      <td>0.0</td>\n",
              "      <td>0.0</td>\n",
              "      <td>0.0</td>\n",
              "      <td>0.0</td>\n",
              "      <td>0.0</td>\n",
              "      <td>119.0</td>\n",
              "      <td>17.0</td>\n",
              "      <td>1.2</td>\n",
              "      <td>135.0</td>\n",
              "      <td>4.7</td>\n",
              "      <td>15.4</td>\n",
              "      <td>42</td>\n",
              "      <td>6200</td>\n",
              "      <td>6.2</td>\n",
              "      <td>0.0</td>\n",
              "      <td>0.0</td>\n",
              "      <td>0.0</td>\n",
              "      <td>0.0</td>\n",
              "      <td>0.0</td>\n",
              "      <td>0.0</td>\n",
              "      <td>0</td>\n",
              "    </tr>\n",
              "    <tr>\n",
              "      <th>254</th>\n",
              "      <td>51.0</td>\n",
              "      <td>60.0</td>\n",
              "      <td>1.025</td>\n",
              "      <td>0.0</td>\n",
              "      <td>0.0</td>\n",
              "      <td>0.0</td>\n",
              "      <td>0.0</td>\n",
              "      <td>0.0</td>\n",
              "      <td>0.0</td>\n",
              "      <td>99.0</td>\n",
              "      <td>38.0</td>\n",
              "      <td>0.8</td>\n",
              "      <td>135.0</td>\n",
              "      <td>3.7</td>\n",
              "      <td>13.0</td>\n",
              "      <td>49</td>\n",
              "      <td>8300</td>\n",
              "      <td>5.2</td>\n",
              "      <td>0.0</td>\n",
              "      <td>0.0</td>\n",
              "      <td>0.0</td>\n",
              "      <td>0.0</td>\n",
              "      <td>0.0</td>\n",
              "      <td>0.0</td>\n",
              "      <td>0</td>\n",
              "    </tr>\n",
              "  </tbody>\n",
              "</table>\n",
              "</div>"
            ],
            "text/plain": [
              "      age    bp     sg   al   su  ...  cad  appet   pe  ane  classification\n",
              "250  40.0  80.0  1.025  0.0  0.0  ...  0.0    0.0  0.0  0.0               0\n",
              "251  23.0  80.0  1.025  0.0  0.0  ...  0.0    0.0  0.0  0.0               0\n",
              "252  45.0  80.0  1.025  0.0  0.0  ...  0.0    0.0  0.0  0.0               0\n",
              "253  57.0  80.0  1.025  0.0  0.0  ...  0.0    0.0  0.0  0.0               0\n",
              "254  51.0  60.0  1.025  0.0  0.0  ...  0.0    0.0  0.0  0.0               0\n",
              "\n",
              "[5 rows x 25 columns]"
            ]
          },
          "metadata": {
            "tags": []
          },
          "execution_count": 346
        }
      ]
    },
    {
      "cell_type": "code",
      "metadata": {
        "colab": {
          "base_uri": "https://localhost:8080/"
        },
        "id": "xZE9f1Wp2_Ux",
        "outputId": "dd3cc5ce-8a4d-47af-9d24-4d5ded133166"
      },
      "source": [
        "# แสดงจำนวน\n",
        "print(\"จำนวนผู้ป่วย ckd = \"+ str(len(df_ckd))+ \" คน\")\n",
        "print(\"จำนวน nonckd = \"+ str(len(df_nonckd))+ \" คน\")"
      ],
      "execution_count": null,
      "outputs": [
        {
          "output_type": "stream",
          "text": [
            "จำนวนผู้ป่วย ckd = 250 คน\n",
            "จำนวน nonckd = 150 คน\n"
          ],
          "name": "stdout"
        }
      ]
    },
    {
      "cell_type": "markdown",
      "metadata": {
        "id": "6GMZybR46ZeU"
      },
      "source": [
        "### Correlation coefficient analysis"
      ]
    },
    {
      "cell_type": "code",
      "metadata": {
        "colab": {
          "base_uri": "https://localhost:8080/"
        },
        "id": "XC7Mfrgwej5n",
        "outputId": "23a1cae4-012d-428f-afda-08b5e9aef440"
      },
      "source": [
        "# คำนวณ Correlation ของ features ทั้งหมด\n",
        "correlations = df.corr()\n",
        "plt.figure(figsize = (15, 15))\n",
        "sns.heatmap(correlations_,cmap = plt.cm.RdYlBu_r, vmin = -1, annot = True, vmax = 1)\n",
        "plt.title('Correlation Heatmap');"
      ],
      "execution_count": null,
      "outputs": [
        {
          "output_type": "display_data",
          "data": {
            "image/png": "[encoded data removed]",
            "text/plain": [
              "<Figure size 1080x1080 with 2 Axes>"
            ]
          },
          "metadata": {
            "tags": [],
            "needs_background": "light"
          }
        }
      ]
    },
    {
      "cell_type": "markdown",
      "metadata": {
        "id": "0IXgtjpL796-"
      },
      "source": [
        "**Correlation coefficient (r) หรือ ค่าสัมประสิทธิ์สหสัมพันธ์** คือ ตัวบ่งชี้ถึงความสัมพันธ์ของข้อมูลซึ่งค่าสัมประสิทธิ์สหสัมพันธ์นี้จะมีค่าอยู่ระหว่าง -1.0 ถึง +1.0 ซึ่งหากมีค่าใกล้ -1.0 นั้นหมายความว่าตัวแปรทั้งสองตัวมีความสัมพันธ์กันอย่างมากในเชิงตรงกันข้าม หากมีค่าใกล้ +1.0 นั้นหมายความว่า ตัวแปรทั้งสองมีความสัมพันธ์กันโดยตรงอย่างมาก และหากมีค่าเป็น 0 นั้นหมายความว่า ตัวแปรทั้งสองตัวไม่มีความสัมพันธ์ต่อกัน [1]\n",
        "\n",
        "[1] [reference](https://medium.com/@info_46914/%E0%B8%AA%E0%B8%96%E0%B8%B4%E0%B8%95%E0%B8%B4%E0%B9%80%E0%B8%9A%E0%B8%B7%E0%B9%89%E0%B8%AD%E0%B8%87%E0%B8%95%E0%B9%89%E0%B8%99%E0%B8%87%E0%B9%88%E0%B8%B2%E0%B8%A2%E0%B9%86-%E0%B8%97%E0%B8%B5%E0%B9%88%E0%B8%88%E0%B8%B0%E0%B8%97%E0%B8%B3%E0%B9%83%E0%B8%AB%E0%B9%89%E0%B8%84%E0%B8%B8%E0%B8%93%E0%B9%80%E0%B8%82%E0%B9%89%E0%B8%B2%E0%B9%83%E0%B8%88%E0%B8%81%E0%B8%B2%E0%B8%A3%E0%B8%A7%E0%B8%B4%E0%B9%80%E0%B8%84%E0%B8%A3%E0%B8%B2%E0%B8%B0%E0%B8%AB%E0%B9%8C%E0%B8%A1%E0%B8%B2%E0%B8%81%E0%B8%82%E0%B8%B6%E0%B9%89%E0%B8%99-%E0%B8%95%E0%B8%AD%E0%B8%99%E0%B8%97%E0%B8%B5%E0%B9%88-2-1f94b6664ede)"
      ]
    },
    {
      "cell_type": "markdown",
      "metadata": {
        "id": "ARVsq6I-8sWi"
      },
      "source": [
        "ในกรณีนี้เราจะสนใจแค่ Correlation coefficient ระหว่าง features ต่างๆ กับ Classification เท่านั้น **หรือพูดอีกแบบหนึ่งก็คือ ค่าดังกล่าวจะเป็นค่าที่บ่งชี้ถึงความเกี่ยวข้องระหว่าง features ต่างๆ กับภาวะโรคไตเรื้อรัง (ckd)**\n",
        "\n",
        "*   เราจะเห็นค่า Correlation coefficient ระหว่าง al-albumin กับ classification เป็น 0.93 สามารถอนุมานได้ว่า ผู้ป่วยที่มีค่า albumin ในปัสสาวะสูง มีแนวโน้มที่จะเป็นโรคไตเรื้อรัง (ckd)\n",
        "*   เราจะเห็นค่า Correlation coefficient ระหว่าง sg-specific gravity กับ classification เป็น -0.79 สามารถอนุมานได้ว่า ผู้ป่วยที่มีค่า specific gravity ในปัสสาวะต่ำ มีแนวโน้มที่จะเป็นโรคไตเรื้อรัง (ckd) \n",
        "\n"
      ]
    },
    {
      "cell_type": "markdown",
      "metadata": {
        "id": "0hthlMDDQrbT"
      },
      "source": [
        "**ในส่วนนี้จะนำ Features ที่มีค่า |Correlation| > 0.7 ไปทำการวิเคราะห์ต่อ**"
      ]
    },
    {
      "cell_type": "markdown",
      "metadata": {
        "id": "HxQDL0dwQo3y"
      },
      "source": [
        "### Data analysis"
      ]
    },
    {
      "cell_type": "code",
      "metadata": {
        "colab": {
          "base_uri": "https://localhost:8080/"
        },
        "id": "JPgK74AXq93m",
        "outputId": "63f65eab-ee05-4d25-96a9-2286cd68ce66"
      },
      "source": [
        "# เปรียบเทียบค่า Specific gravity (sg) ในปัสสาวะ ของผู้ป่วย ckd และ nonckd\n",
        "\n",
        "f, axes = plt.subplots(1, 2,figsize=(10,3),sharex=True)\n",
        "sns.despine(left=True)\n",
        "\n",
        "sns.distplot(df_ckd['sg'],ax=axes[0]).set(title='CKD')\n",
        "sns.distplot(df_nonckd['sg'],ax=axes[1]).set(title='nonCKD')"
      ],
      "execution_count": null,
      "outputs": [
        {
          "output_type": "stream",
          "text": [
            "/usr/local/lib/python3.7/dist-packages/seaborn/distributions.py:2557: FutureWarning: `distplot` is a deprecated function and will be removed in a future version. Please adapt your code to use either `displot` (a figure-level function with similar flexibility) or `histplot` (an axes-level function for histograms).\n",
            "  warnings.warn(msg, FutureWarning)\n",
            "/usr/local/lib/python3.7/dist-packages/seaborn/distributions.py:2557: FutureWarning: `distplot` is a deprecated function and will be removed in a future version. Please adapt your code to use either `displot` (a figure-level function with similar flexibility) or `histplot` (an axes-level function for histograms).\n",
            "  warnings.warn(msg, FutureWarning)\n"
          ],
          "name": "stderr"
        },
        {
          "output_type": "execute_result",
          "data": {
            "text/plain": [
              "[Text(0.5, 1.0, 'nonCKD')]"
            ]
          },
          "metadata": {
            "tags": []
          },
          "execution_count": 349
        },
        {
          "output_type": "display_data",
          "data": {
            "image/png": "[encoded data removed]",
            "text/plain": [
              "<Figure size 720x216 with 2 Axes>"
            ]
          },
          "metadata": {
            "tags": [],
            "needs_background": "light"
          }
        }
      ]
    },
    {
      "cell_type": "code",
      "metadata": {
        "colab": {
          "base_uri": "https://localhost:8080/"
        },
        "id": "HhxNHsMeB37X",
        "outputId": "6360030f-20cc-49fd-c6ae-fe3762aa2f92"
      },
      "source": [
        "# เปรียบเทียบค่า Albumin (al) ในปัสสาวะ ของผู้ป่วย ckd และ nonckd\n",
        "\n",
        "f, axes = plt.subplots(1, 2,figsize=(10,3))\n",
        "sns.despine(left=True)\n",
        "\n",
        "sns.distplot(df_ckd['al'],ax=axes[0]).set(title='CKD')\n",
        "sns.distplot(df_nonckd['al'],ax=axes[1]).set(title='nonCKD')"
      ],
      "execution_count": null,
      "outputs": [
        {
          "output_type": "stream",
          "text": [
            "/usr/local/lib/python3.7/dist-packages/seaborn/distributions.py:2557: FutureWarning: `distplot` is a deprecated function and will be removed in a future version. Please adapt your code to use either `displot` (a figure-level function with similar flexibility) or `histplot` (an axes-level function for histograms).\n",
            "  warnings.warn(msg, FutureWarning)\n",
            "/usr/local/lib/python3.7/dist-packages/seaborn/distributions.py:2557: FutureWarning: `distplot` is a deprecated function and will be removed in a future version. Please adapt your code to use either `displot` (a figure-level function with similar flexibility) or `histplot` (an axes-level function for histograms).\n",
            "  warnings.warn(msg, FutureWarning)\n",
            "/usr/local/lib/python3.7/dist-packages/seaborn/distributions.py:306: UserWarning: Dataset has 0 variance; skipping density estimate.\n",
            "  warnings.warn(msg, UserWarning)\n"
          ],
          "name": "stderr"
        },
        {
          "output_type": "execute_result",
          "data": {
            "text/plain": [
              "[Text(0.5, 1.0, 'nonCKD')]"
            ]
          },
          "metadata": {
            "tags": []
          },
          "execution_count": 350
        },
        {
          "output_type": "display_data",
          "data": {
            "image/png": "[encoded data removed]",
            "text/plain": [
              "<Figure size 720x216 with 2 Axes>"
            ]
          },
          "metadata": {
            "tags": [],
            "needs_background": "light"
          }
        }
      ]
    },
    {
      "cell_type": "markdown",
      "metadata": {
        "id": "52RvWvy2Rmh3"
      },
      "source": [
        "ผู้ป่วย ckd มีแนวโน้มที่จะมีค่า Albumin > 0 \n",
        "\n",
        "\n"
      ]
    },
    {
      "cell_type": "code",
      "metadata": {
        "colab": {
          "base_uri": "https://localhost:8080/"
        },
        "id": "bLAubTtJEhw5",
        "outputId": "11fd640c-8181-4ed6-c7b1-fbbd594fb8b8"
      },
      "source": [
        "# เปรียบเทียบค่า Pus cell (pc) ของผู้ป่วย ckd และ nonckd\n",
        "f, axes = plt.subplots(1, 2,figsize=(10,3),sharex=True)\n",
        "sns.despine(left=True)\n",
        "\n",
        "sns.distplot(df_ckd['pc'],ax=axes[0]).set(title='CKD')\n",
        "sns.distplot(df_nonckd['pc'],ax=axes[1]).set(title='nonCKD')"
      ],
      "execution_count": null,
      "outputs": [
        {
          "output_type": "stream",
          "text": [
            "/usr/local/lib/python3.7/dist-packages/seaborn/distributions.py:2557: FutureWarning: `distplot` is a deprecated function and will be removed in a future version. Please adapt your code to use either `displot` (a figure-level function with similar flexibility) or `histplot` (an axes-level function for histograms).\n",
            "  warnings.warn(msg, FutureWarning)\n",
            "/usr/local/lib/python3.7/dist-packages/seaborn/distributions.py:2557: FutureWarning: `distplot` is a deprecated function and will be removed in a future version. Please adapt your code to use either `displot` (a figure-level function with similar flexibility) or `histplot` (an axes-level function for histograms).\n",
            "  warnings.warn(msg, FutureWarning)\n",
            "/usr/local/lib/python3.7/dist-packages/seaborn/distributions.py:306: UserWarning: Dataset has 0 variance; skipping density estimate.\n",
            "  warnings.warn(msg, UserWarning)\n"
          ],
          "name": "stderr"
        },
        {
          "output_type": "execute_result",
          "data": {
            "text/plain": [
              "[Text(0.5, 1.0, 'nonCKD')]"
            ]
          },
          "metadata": {
            "tags": []
          },
          "execution_count": 351
        },
        {
          "output_type": "display_data",
          "data": {
            "image/png": "[encoded data removed]",
            "text/plain": [
              "<Figure size 720x216 with 2 Axes>"
            ]
          },
          "metadata": {
            "tags": [],
            "needs_background": "light"
          }
        }
      ]
    },
    {
      "cell_type": "code",
      "metadata": {
        "colab": {
          "base_uri": "https://localhost:8080/"
        },
        "id": "MQFzTSMcEuZu",
        "outputId": "c9edb7bb-a7e0-411c-898f-b0c2ee315f04"
      },
      "source": [
        "# เปรียบเทียบค่า blood urea (bu) ของผู้ป่วย ckd และ nonckd\n",
        "\n",
        "f, axes = plt.subplots(1, 2,figsize=(10,3),sharex=True)\n",
        "sns.despine(left=True)\n",
        "\n",
        "sns.distplot(df_ckd['bu'],ax=axes[0]).set(title='CKD')\n",
        "sns.distplot(df_nonckd['bu'],ax=axes[1]).set(title='nonCKD')"
      ],
      "execution_count": null,
      "outputs": [
        {
          "output_type": "stream",
          "text": [
            "/usr/local/lib/python3.7/dist-packages/seaborn/distributions.py:2557: FutureWarning: `distplot` is a deprecated function and will be removed in a future version. Please adapt your code to use either `displot` (a figure-level function with similar flexibility) or `histplot` (an axes-level function for histograms).\n",
            "  warnings.warn(msg, FutureWarning)\n",
            "/usr/local/lib/python3.7/dist-packages/seaborn/distributions.py:2557: FutureWarning: `distplot` is a deprecated function and will be removed in a future version. Please adapt your code to use either `displot` (a figure-level function with similar flexibility) or `histplot` (an axes-level function for histograms).\n",
            "  warnings.warn(msg, FutureWarning)\n"
          ],
          "name": "stderr"
        },
        {
          "output_type": "execute_result",
          "data": {
            "text/plain": [
              "[Text(0.5, 1.0, 'nonCKD')]"
            ]
          },
          "metadata": {
            "tags": []
          },
          "execution_count": 352
        },
        {
          "output_type": "display_data",
          "data": {
            "image/png": "[encoded data removed]",
            "text/plain": [
              "<Figure size 720x216 with 2 Axes>"
            ]
          },
          "metadata": {
            "tags": [],
            "needs_background": "light"
          }
        }
      ]
    },
    {
      "cell_type": "code",
      "metadata": {
        "colab": {
          "base_uri": "https://localhost:8080/"
        },
        "id": "ac2F0XDoE27b",
        "outputId": "e308e88e-44ec-40b7-834e-69940deb59e5"
      },
      "source": [
        "# เปรียบเทียบค่า serum creatinine (sc) ของผู้ป่วย ckd และ nonckd\n",
        "\n",
        "f, axes = plt.subplots(1, 2,figsize=(10,3),sharex=True)\n",
        "sns.despine(left=True)\n",
        "\n",
        "sns.distplot(df_ckd['sc'],ax=axes[0]).set(title='CKD')\n",
        "sns.distplot(df_nonckd['sc'],ax=axes[1]).set(title='nonCKD')"
      ],
      "execution_count": null,
      "outputs": [
        {
          "output_type": "stream",
          "text": [
            "/usr/local/lib/python3.7/dist-packages/seaborn/distributions.py:2557: FutureWarning: `distplot` is a deprecated function and will be removed in a future version. Please adapt your code to use either `displot` (a figure-level function with similar flexibility) or `histplot` (an axes-level function for histograms).\n",
            "  warnings.warn(msg, FutureWarning)\n",
            "/usr/local/lib/python3.7/dist-packages/seaborn/distributions.py:2557: FutureWarning: `distplot` is a deprecated function and will be removed in a future version. Please adapt your code to use either `displot` (a figure-level function with similar flexibility) or `histplot` (an axes-level function for histograms).\n",
            "  warnings.warn(msg, FutureWarning)\n"
          ],
          "name": "stderr"
        },
        {
          "output_type": "execute_result",
          "data": {
            "text/plain": [
              "[Text(0.5, 1.0, 'nonCKD')]"
            ]
          },
          "metadata": {
            "tags": []
          },
          "execution_count": 353
        },
        {
          "output_type": "display_data",
          "data": {
            "image/png": "[encoded data removed]",
            "text/plain": [
              "<Figure size 720x216 with 2 Axes>"
            ]
          },
          "metadata": {
            "tags": [],
            "needs_background": "light"
          }
        }
      ]
    },
    {
      "cell_type": "code",
      "metadata": {
        "colab": {
          "base_uri": "https://localhost:8080/"
        },
        "id": "E0ej_37BFTZa",
        "outputId": "1747a51f-2fd1-4065-b421-4ed10ca7be9b"
      },
      "source": [
        "# เปรียบเทียบค่า hemoglobin (hemo) ในเลือด ของผู้ป่วย ckd และ nonckd\n",
        "\n",
        "f, axes = plt.subplots(1, 2,figsize=(10,3),sharex=True)\n",
        "sns.despine(left=True)\n",
        "\n",
        "sns.distplot(df_ckd['hemo'],ax=axes[0]).set(title='CKD')\n",
        "sns.distplot(df_nonckd['hemo'],ax=axes[1]).set(title='nonCKD')"
      ],
      "execution_count": null,
      "outputs": [
        {
          "output_type": "stream",
          "text": [
            "/usr/local/lib/python3.7/dist-packages/seaborn/distributions.py:2557: FutureWarning: `distplot` is a deprecated function and will be removed in a future version. Please adapt your code to use either `displot` (a figure-level function with similar flexibility) or `histplot` (an axes-level function for histograms).\n",
            "  warnings.warn(msg, FutureWarning)\n",
            "/usr/local/lib/python3.7/dist-packages/seaborn/distributions.py:2557: FutureWarning: `distplot` is a deprecated function and will be removed in a future version. Please adapt your code to use either `displot` (a figure-level function with similar flexibility) or `histplot` (an axes-level function for histograms).\n",
            "  warnings.warn(msg, FutureWarning)\n"
          ],
          "name": "stderr"
        },
        {
          "output_type": "execute_result",
          "data": {
            "text/plain": [
              "[Text(0.5, 1.0, 'nonCKD')]"
            ]
          },
          "metadata": {
            "tags": []
          },
          "execution_count": 354
        },
        {
          "output_type": "display_data",
          "data": {
            "image/png": "[encoded data removed]",
            "text/plain": [
              "<Figure size 720x216 with 2 Axes>"
            ]
          },
          "metadata": {
            "tags": [],
            "needs_background": "light"
          }
        }
      ]
    },
    {
      "cell_type": "code",
      "metadata": {
        "colab": {
          "base_uri": "https://localhost:8080/"
        },
        "id": "l3zmcXFFPj73",
        "outputId": "8e0f3ce3-0c2b-4e05-a3f5-a30d7227cfe7"
      },
      "source": [
        "# เปรียบเทียบค่า hypertension (htn, ภาวะโรคความดันโลหิตสูง) ของผู้ป่วย ckd และ nonckd\n",
        "\n",
        "fig, ax = plt.subplots(1,2,figsize=(10,3))\n",
        "sns.countplot(df_ckd['htn'], ax=ax[0]).set(title='CKD')\n",
        "sns.countplot(df_nonckd['htn'], ax=ax[1]).set(title='nonCKD')\n",
        "fig.show()"
      ],
      "execution_count": null,
      "outputs": [
        {
          "output_type": "stream",
          "text": [
            "/usr/local/lib/python3.7/dist-packages/seaborn/_decorators.py:43: FutureWarning: Pass the following variable as a keyword arg: x. From version 0.12, the only valid positional argument will be `data`, and passing other arguments without an explicit keyword will result in an error or misinterpretation.\n",
            "  FutureWarning\n",
            "/usr/local/lib/python3.7/dist-packages/seaborn/_decorators.py:43: FutureWarning: Pass the following variable as a keyword arg: x. From version 0.12, the only valid positional argument will be `data`, and passing other arguments without an explicit keyword will result in an error or misinterpretation.\n",
            "  FutureWarning\n"
          ],
          "name": "stderr"
        },
        {
          "output_type": "display_data",
          "data": {
            "image/png": "[encoded data removed]",
            "text/plain": [
              "<Figure size 720x216 with 2 Axes>"
            ]
          },
          "metadata": {
            "tags": [],
            "needs_background": "light"
          }
        }
      ]
    },
    {
      "cell_type": "code",
      "metadata": {
        "colab": {
          "base_uri": "https://localhost:8080/"
        },
        "id": "y5ZVdzvmFrCt",
        "outputId": "0fd977fc-4174-4e5e-82a1-5a6bc369821f"
      },
      "source": [
        "# เปรียบเทียบค่า  diabetes mellitus (dm, ภาวะโรคเบาหวาน) ของผู้ป่วย ckd และ nonckd\n",
        "\n",
        "fig, ax = plt.subplots(1,2,figsize=(10,3))\n",
        "sns.countplot(df_ckd['dm'], ax=ax[0]).set(title='CKD')\n",
        "sns.countplot(df_nonckd['dm'], ax=ax[1]).set(title='nonCKD')\n",
        "fig.show()"
      ],
      "execution_count": null,
      "outputs": [
        {
          "output_type": "stream",
          "text": [
            "/usr/local/lib/python3.7/dist-packages/seaborn/_decorators.py:43: FutureWarning: Pass the following variable as a keyword arg: x. From version 0.12, the only valid positional argument will be `data`, and passing other arguments without an explicit keyword will result in an error or misinterpretation.\n",
            "  FutureWarning\n",
            "/usr/local/lib/python3.7/dist-packages/seaborn/_decorators.py:43: FutureWarning: Pass the following variable as a keyword arg: x. From version 0.12, the only valid positional argument will be `data`, and passing other arguments without an explicit keyword will result in an error or misinterpretation.\n",
            "  FutureWarning\n"
          ],
          "name": "stderr"
        },
        {
          "output_type": "display_data",
          "data": {
            "image/png": "[encoded data removed]",
            "text/plain": [
              "<Figure size 720x216 with 2 Axes>"
            ]
          },
          "metadata": {
            "tags": [],
            "needs_background": "light"
          }
        }
      ]
    },
    {
      "cell_type": "code",
      "metadata": {
        "colab": {
          "base_uri": "https://localhost:8080/"
        },
        "id": "kTI-3fk2GPVR",
        "outputId": "1553d937-24a2-45e8-f9f2-8942c0f2b9ee"
      },
      "source": [
        "# อายุของผู้ป่วย ckd\n",
        "sns.distplot(df_ckd['age']).set(title='CKD')"
      ],
      "execution_count": null,
      "outputs": [
        {
          "output_type": "stream",
          "text": [
            "/usr/local/lib/python3.7/dist-packages/seaborn/distributions.py:2557: FutureWarning: `distplot` is a deprecated function and will be removed in a future version. Please adapt your code to use either `displot` (a figure-level function with similar flexibility) or `histplot` (an axes-level function for histograms).\n",
            "  warnings.warn(msg, FutureWarning)\n"
          ],
          "name": "stderr"
        },
        {
          "output_type": "execute_result",
          "data": {
            "text/plain": [
              "[Text(0.5, 1.0, 'CKD')]"
            ]
          },
          "metadata": {
            "tags": []
          },
          "execution_count": 357
        },
        {
          "output_type": "display_data",
          "data": {
            "image/png": "[encoded data removed]",
            "text/plain": [
              "<Figure size 432x288 with 1 Axes>"
            ]
          },
          "metadata": {
            "tags": [],
            "needs_background": "light"
          }
        }
      ]
    },
    {
      "cell_type": "markdown",
      "metadata": {
        "id": "jaT3eMEtWAfN"
      },
      "source": [
        "### สรุปผล"
      ]
    },
    {
      "cell_type": "markdown",
      "metadata": {
        "id": "HyUHquLZWETc"
      },
      "source": [
        "*   ความผิดปกติของ  urine specific gravity (ค่าความถ่วงจำเพาะของปัสสาวะ) ที่น้อยกว่าปกติ มีแนวโน้มที่จะเป็นผู้ป่วย ckd\n",
        "*   การตรวจพบ  Albumin (โปรตีนชนิดหนึ่ง), Pus Cell (PC), blood urea (bu, เม็ดเลือดแดง) ในปัสสาวะ เป็นหนึ่งในข้อบ่งชี้ถึงกลุ่มอาการ ckd\n",
        "*   การตรวจพบค่า serum creatinine หรือ creatinine ในเลือด มากกว่า 1 เป็นหนึ่งในข้อบ่งชี้ถึงกลุ่มอาการ ckd\n",
        "*   การตรวจพบค่า Hemoglobin ในเลือดน้อยกว่าปกติ เป็นหนึ่งในข้อบ่งชี้ถึงกลุ่มอาการ ckd\n",
        "*   ภาวะความดันโลหิตสูงและเบาหวาน มีความเป็นไปได้ที่จะก่อให้เกิดโรค ckd ด้วย\n",
        "\n",
        "*   ไม่จำเป็นต้องเป็นผู้ที่มีอายุมากเท่านั้นถึงจะเสี่ยงกับการเป็นโรคไตเรื้อรัง หรือ ckd อายุของผู้ป่วยมีการกระจายตัวเป็นช่วงกว้าง สามารถพบผู้ป่วย ckd ได้ตั้งแต่เกิด (อาจจะเกิดจากความผิดปกติทางพันธุกรรมหรืออื่นๆ) ผู้ป่วยส่วนมากจะมีอายุอยู่ในช่วง 50-60 ปี"
      ]
    },
    {
      "cell_type": "markdown",
      "metadata": {
        "id": "vSuJ_DErZ8ci"
      },
      "source": [
        "**หมายเหตุ** การวิเคราะห์ข้อมูลทั้งหมดเป็นส่วนหนึ่งของการเรียน Data analytic เท่านั้น และเป็นการวิเคราะห์จากข้อมูลผู้ป่วยโดยใช้หลักสถิติ โดยผู้ที่ไม่ได้มีความเชี่ยงชาญในด้านวิทยาศาสตร์การแพทย์ ดังนั้น **ข้อมูลข้างต้นไม่สามารถนำไปใช้อ้างอิงในทางการแพทย์ได้**"
      ]
    },
    {
      "cell_type": "code",
      "metadata": {
        "id": "7Yf6xDtqaY4q"
      },
      "source": [
        ""
      ],
      "execution_count": null,
      "outputs": []
    }
  ]
}