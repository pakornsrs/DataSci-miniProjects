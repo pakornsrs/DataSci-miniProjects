{
  "nbformat": 4,
  "nbformat_minor": 0,
  "metadata": {
    "colab": {
      "name": "Churn_analysis.ipynb",
      "provenance": [],
      "authorship_tag": "ABX9TyPy/K+3zmHhoflwM96+8+2c"
    },
    "kernelspec": {
      "name": "python3",
      "display_name": "Python 3"
    },
    "language_info": {
      "name": "python"
    }
  },
  "cells": [
    {
      "cell_type": "markdown",
      "metadata": {
        "id": "jT1mMsf-DBho"
      },
      "source": [
        "# Chern analysis and prediction\n",
        "\n",
        "This Colab is to create model for predicting behavior to retain customers of telecom company.\n",
        "\n",
        "Reference data : https://www.kaggle.com/blastchar/telco-customer-churn\n"
      ]
    },
    {
      "cell_type": "code",
      "metadata": {
        "colab": {
          "base_uri": "https://localhost:8080/"
        },
        "id": "jHTXPajW57xP",
        "outputId": "6998aa0e-df81-420f-e71f-4fae47a43648"
      },
      "source": [
        "from google.colab import drive\n",
        "drive.mount('/content/drive')"
      ],
      "execution_count": null,
      "outputs": [
        {
          "output_type": "stream",
          "text": [
            "Mounted at /content/drive\n"
          ],
          "name": "stdout"
        }
      ]
    },
    {
      "cell_type": "markdown",
      "metadata": {
        "id": "WcOk8jlxC3GP"
      },
      "source": [
        "# Libraries"
      ]
    },
    {
      "cell_type": "code",
      "metadata": {
        "id": "MU83NyVn5CMb"
      },
      "source": [
        "import numpy as np\n",
        "import pandas as pd\n",
        "import tensorflow as tf\n",
        "import seaborn as sns\n",
        "import matplotlib.pyplot as plt\n",
        "from sklearn.model_selection import train_test_split\n",
        "from sklearn.metrics import confusion_matrix, accuracy_score\n",
        "from sklearn.preprocessing import LabelEncoder"
      ],
      "execution_count": null,
      "outputs": []
    },
    {
      "cell_type": "markdown",
      "metadata": {
        "id": "YCgBSMrLKUZB"
      },
      "source": [
        "# Data import and processing"
      ]
    },
    {
      "cell_type": "code",
      "metadata": {
        "colab": {
          "base_uri": "https://localhost:8080/",
          "height": 309
        },
        "id": "udJQiWbp53zs",
        "outputId": "10ab4569-77b9-4a13-cf78-89ae223f29c9"
      },
      "source": [
        "df = pd.read_csv('/content/drive/MyDrive/Colab Notebooks/Dataset/Churn_telecom/Telco-Customer-Churn.csv')\n",
        "df = df.drop(['TotalCharges'],axis=1)\n",
        "df.head()"
      ],
      "execution_count": null,
      "outputs": [
        {
          "output_type": "execute_result",
          "data": {
            "text/html": [
              "<div>\n",
              "<style scoped>\n",
              "    .dataframe tbody tr th:only-of-type {\n",
              "        vertical-align: middle;\n",
              "    }\n",
              "\n",
              "    .dataframe tbody tr th {\n",
              "        vertical-align: top;\n",
              "    }\n",
              "\n",
              "    .dataframe thead th {\n",
              "        text-align: right;\n",
              "    }\n",
              "</style>\n",
              "<table border=\"1\" class=\"dataframe\">\n",
              "  <thead>\n",
              "    <tr style=\"text-align: right;\">\n",
              "      <th></th>\n",
              "      <th>customerID</th>\n",
              "      <th>gender</th>\n",
              "      <th>SeniorCitizen</th>\n",
              "      <th>Partner</th>\n",
              "      <th>Dependents</th>\n",
              "      <th>tenure</th>\n",
              "      <th>PhoneService</th>\n",
              "      <th>MultipleLines</th>\n",
              "      <th>InternetService</th>\n",
              "      <th>OnlineSecurity</th>\n",
              "      <th>OnlineBackup</th>\n",
              "      <th>DeviceProtection</th>\n",
              "      <th>TechSupport</th>\n",
              "      <th>StreamingTV</th>\n",
              "      <th>StreamingMovies</th>\n",
              "      <th>Contract</th>\n",
              "      <th>PaperlessBilling</th>\n",
              "      <th>PaymentMethod</th>\n",
              "      <th>MonthlyCharges</th>\n",
              "      <th>Churn</th>\n",
              "    </tr>\n",
              "  </thead>\n",
              "  <tbody>\n",
              "    <tr>\n",
              "      <th>0</th>\n",
              "      <td>7590-VHVEG</td>\n",
              "      <td>Female</td>\n",
              "      <td>0</td>\n",
              "      <td>Yes</td>\n",
              "      <td>No</td>\n",
              "      <td>1</td>\n",
              "      <td>No</td>\n",
              "      <td>No phone service</td>\n",
              "      <td>DSL</td>\n",
              "      <td>No</td>\n",
              "      <td>Yes</td>\n",
              "      <td>No</td>\n",
              "      <td>No</td>\n",
              "      <td>No</td>\n",
              "      <td>No</td>\n",
              "      <td>Month-to-month</td>\n",
              "      <td>Yes</td>\n",
              "      <td>Electronic check</td>\n",
              "      <td>29.85</td>\n",
              "      <td>No</td>\n",
              "    </tr>\n",
              "    <tr>\n",
              "      <th>1</th>\n",
              "      <td>5575-GNVDE</td>\n",
              "      <td>Male</td>\n",
              "      <td>0</td>\n",
              "      <td>No</td>\n",
              "      <td>No</td>\n",
              "      <td>34</td>\n",
              "      <td>Yes</td>\n",
              "      <td>No</td>\n",
              "      <td>DSL</td>\n",
              "      <td>Yes</td>\n",
              "      <td>No</td>\n",
              "      <td>Yes</td>\n",
              "      <td>No</td>\n",
              "      <td>No</td>\n",
              "      <td>No</td>\n",
              "      <td>One year</td>\n",
              "      <td>No</td>\n",
              "      <td>Mailed check</td>\n",
              "      <td>56.95</td>\n",
              "      <td>No</td>\n",
              "    </tr>\n",
              "    <tr>\n",
              "      <th>2</th>\n",
              "      <td>3668-QPYBK</td>\n",
              "      <td>Male</td>\n",
              "      <td>0</td>\n",
              "      <td>No</td>\n",
              "      <td>No</td>\n",
              "      <td>2</td>\n",
              "      <td>Yes</td>\n",
              "      <td>No</td>\n",
              "      <td>DSL</td>\n",
              "      <td>Yes</td>\n",
              "      <td>Yes</td>\n",
              "      <td>No</td>\n",
              "      <td>No</td>\n",
              "      <td>No</td>\n",
              "      <td>No</td>\n",
              "      <td>Month-to-month</td>\n",
              "      <td>Yes</td>\n",
              "      <td>Mailed check</td>\n",
              "      <td>53.85</td>\n",
              "      <td>Yes</td>\n",
              "    </tr>\n",
              "    <tr>\n",
              "      <th>3</th>\n",
              "      <td>7795-CFOCW</td>\n",
              "      <td>Male</td>\n",
              "      <td>0</td>\n",
              "      <td>No</td>\n",
              "      <td>No</td>\n",
              "      <td>45</td>\n",
              "      <td>No</td>\n",
              "      <td>No phone service</td>\n",
              "      <td>DSL</td>\n",
              "      <td>Yes</td>\n",
              "      <td>No</td>\n",
              "      <td>Yes</td>\n",
              "      <td>Yes</td>\n",
              "      <td>No</td>\n",
              "      <td>No</td>\n",
              "      <td>One year</td>\n",
              "      <td>No</td>\n",
              "      <td>Bank transfer (automatic)</td>\n",
              "      <td>42.30</td>\n",
              "      <td>No</td>\n",
              "    </tr>\n",
              "    <tr>\n",
              "      <th>4</th>\n",
              "      <td>9237-HQITU</td>\n",
              "      <td>Female</td>\n",
              "      <td>0</td>\n",
              "      <td>No</td>\n",
              "      <td>No</td>\n",
              "      <td>2</td>\n",
              "      <td>Yes</td>\n",
              "      <td>No</td>\n",
              "      <td>Fiber optic</td>\n",
              "      <td>No</td>\n",
              "      <td>No</td>\n",
              "      <td>No</td>\n",
              "      <td>No</td>\n",
              "      <td>No</td>\n",
              "      <td>No</td>\n",
              "      <td>Month-to-month</td>\n",
              "      <td>Yes</td>\n",
              "      <td>Electronic check</td>\n",
              "      <td>70.70</td>\n",
              "      <td>Yes</td>\n",
              "    </tr>\n",
              "  </tbody>\n",
              "</table>\n",
              "</div>"
            ],
            "text/plain": [
              "   customerID  gender  ...  MonthlyCharges Churn\n",
              "0  7590-VHVEG  Female  ...           29.85    No\n",
              "1  5575-GNVDE    Male  ...           56.95    No\n",
              "2  3668-QPYBK    Male  ...           53.85   Yes\n",
              "3  7795-CFOCW    Male  ...           42.30    No\n",
              "4  9237-HQITU  Female  ...           70.70   Yes\n",
              "\n",
              "[5 rows x 20 columns]"
            ]
          },
          "metadata": {
            "tags": []
          },
          "execution_count": 76
        }
      ]
    },
    {
      "cell_type": "markdown",
      "metadata": {
        "id": "bgjmwVw3icI-"
      },
      "source": [
        "ดูรายละเอียดต่างๆใน Data set เช่น มี missing data ไหม data เป็นชนิดอะไรบ้าง เป็นต้น"
      ]
    },
    {
      "cell_type": "code",
      "metadata": {
        "colab": {
          "base_uri": "https://localhost:8080/"
        },
        "id": "-hbeTVtG6Rem",
        "outputId": "8e3cb759-59fb-4d10-ab6f-8d2ef2706f41"
      },
      "source": [
        "df.isna().sum()"
      ],
      "execution_count": null,
      "outputs": [
        {
          "output_type": "execute_result",
          "data": {
            "text/plain": [
              "customerID          0\n",
              "gender              0\n",
              "SeniorCitizen       0\n",
              "Partner             0\n",
              "Dependents          0\n",
              "tenure              0\n",
              "PhoneService        0\n",
              "MultipleLines       0\n",
              "InternetService     0\n",
              "OnlineSecurity      0\n",
              "OnlineBackup        0\n",
              "DeviceProtection    0\n",
              "TechSupport         0\n",
              "StreamingTV         0\n",
              "StreamingMovies     0\n",
              "Contract            0\n",
              "PaperlessBilling    0\n",
              "PaymentMethod       0\n",
              "MonthlyCharges      0\n",
              "Churn               0\n",
              "dtype: int64"
            ]
          },
          "metadata": {
            "tags": []
          },
          "execution_count": 77
        }
      ]
    },
    {
      "cell_type": "code",
      "metadata": {
        "colab": {
          "base_uri": "https://localhost:8080/"
        },
        "id": "QXF8Zn8t6lri",
        "outputId": "058c82c7-fac4-438e-80b2-8b7ba06fb2d3"
      },
      "source": [
        "df.info()"
      ],
      "execution_count": null,
      "outputs": [
        {
          "output_type": "stream",
          "text": [
            "<class 'pandas.core.frame.DataFrame'>\n",
            "RangeIndex: 7043 entries, 0 to 7042\n",
            "Data columns (total 20 columns):\n",
            " #   Column            Non-Null Count  Dtype  \n",
            "---  ------            --------------  -----  \n",
            " 0   customerID        7043 non-null   object \n",
            " 1   gender            7043 non-null   object \n",
            " 2   SeniorCitizen     7043 non-null   int64  \n",
            " 3   Partner           7043 non-null   object \n",
            " 4   Dependents        7043 non-null   object \n",
            " 5   tenure            7043 non-null   int64  \n",
            " 6   PhoneService      7043 non-null   object \n",
            " 7   MultipleLines     7043 non-null   object \n",
            " 8   InternetService   7043 non-null   object \n",
            " 9   OnlineSecurity    7043 non-null   object \n",
            " 10  OnlineBackup      7043 non-null   object \n",
            " 11  DeviceProtection  7043 non-null   object \n",
            " 12  TechSupport       7043 non-null   object \n",
            " 13  StreamingTV       7043 non-null   object \n",
            " 14  StreamingMovies   7043 non-null   object \n",
            " 15  Contract          7043 non-null   object \n",
            " 16  PaperlessBilling  7043 non-null   object \n",
            " 17  PaymentMethod     7043 non-null   object \n",
            " 18  MonthlyCharges    7043 non-null   float64\n",
            " 19  Churn             7043 non-null   object \n",
            "dtypes: float64(1), int64(2), object(17)\n",
            "memory usage: 1.1+ MB\n"
          ],
          "name": "stdout"
        }
      ]
    },
    {
      "cell_type": "code",
      "metadata": {
        "colab": {
          "base_uri": "https://localhost:8080/",
          "height": 292
        },
        "id": "Qj2qRl2G6v2i",
        "outputId": "d295cc3b-6207-426b-8947-98739425e6f6"
      },
      "source": [
        "df_mod1 = df.iloc[:, 1:21]\n",
        "df_mod1.head()"
      ],
      "execution_count": null,
      "outputs": [
        {
          "output_type": "execute_result",
          "data": {
            "text/html": [
              "<div>\n",
              "<style scoped>\n",
              "    .dataframe tbody tr th:only-of-type {\n",
              "        vertical-align: middle;\n",
              "    }\n",
              "\n",
              "    .dataframe tbody tr th {\n",
              "        vertical-align: top;\n",
              "    }\n",
              "\n",
              "    .dataframe thead th {\n",
              "        text-align: right;\n",
              "    }\n",
              "</style>\n",
              "<table border=\"1\" class=\"dataframe\">\n",
              "  <thead>\n",
              "    <tr style=\"text-align: right;\">\n",
              "      <th></th>\n",
              "      <th>gender</th>\n",
              "      <th>SeniorCitizen</th>\n",
              "      <th>Partner</th>\n",
              "      <th>Dependents</th>\n",
              "      <th>tenure</th>\n",
              "      <th>PhoneService</th>\n",
              "      <th>MultipleLines</th>\n",
              "      <th>InternetService</th>\n",
              "      <th>OnlineSecurity</th>\n",
              "      <th>OnlineBackup</th>\n",
              "      <th>DeviceProtection</th>\n",
              "      <th>TechSupport</th>\n",
              "      <th>StreamingTV</th>\n",
              "      <th>StreamingMovies</th>\n",
              "      <th>Contract</th>\n",
              "      <th>PaperlessBilling</th>\n",
              "      <th>PaymentMethod</th>\n",
              "      <th>MonthlyCharges</th>\n",
              "      <th>Churn</th>\n",
              "    </tr>\n",
              "  </thead>\n",
              "  <tbody>\n",
              "    <tr>\n",
              "      <th>0</th>\n",
              "      <td>Female</td>\n",
              "      <td>0</td>\n",
              "      <td>Yes</td>\n",
              "      <td>No</td>\n",
              "      <td>1</td>\n",
              "      <td>No</td>\n",
              "      <td>No phone service</td>\n",
              "      <td>DSL</td>\n",
              "      <td>No</td>\n",
              "      <td>Yes</td>\n",
              "      <td>No</td>\n",
              "      <td>No</td>\n",
              "      <td>No</td>\n",
              "      <td>No</td>\n",
              "      <td>Month-to-month</td>\n",
              "      <td>Yes</td>\n",
              "      <td>Electronic check</td>\n",
              "      <td>29.85</td>\n",
              "      <td>No</td>\n",
              "    </tr>\n",
              "    <tr>\n",
              "      <th>1</th>\n",
              "      <td>Male</td>\n",
              "      <td>0</td>\n",
              "      <td>No</td>\n",
              "      <td>No</td>\n",
              "      <td>34</td>\n",
              "      <td>Yes</td>\n",
              "      <td>No</td>\n",
              "      <td>DSL</td>\n",
              "      <td>Yes</td>\n",
              "      <td>No</td>\n",
              "      <td>Yes</td>\n",
              "      <td>No</td>\n",
              "      <td>No</td>\n",
              "      <td>No</td>\n",
              "      <td>One year</td>\n",
              "      <td>No</td>\n",
              "      <td>Mailed check</td>\n",
              "      <td>56.95</td>\n",
              "      <td>No</td>\n",
              "    </tr>\n",
              "    <tr>\n",
              "      <th>2</th>\n",
              "      <td>Male</td>\n",
              "      <td>0</td>\n",
              "      <td>No</td>\n",
              "      <td>No</td>\n",
              "      <td>2</td>\n",
              "      <td>Yes</td>\n",
              "      <td>No</td>\n",
              "      <td>DSL</td>\n",
              "      <td>Yes</td>\n",
              "      <td>Yes</td>\n",
              "      <td>No</td>\n",
              "      <td>No</td>\n",
              "      <td>No</td>\n",
              "      <td>No</td>\n",
              "      <td>Month-to-month</td>\n",
              "      <td>Yes</td>\n",
              "      <td>Mailed check</td>\n",
              "      <td>53.85</td>\n",
              "      <td>Yes</td>\n",
              "    </tr>\n",
              "    <tr>\n",
              "      <th>3</th>\n",
              "      <td>Male</td>\n",
              "      <td>0</td>\n",
              "      <td>No</td>\n",
              "      <td>No</td>\n",
              "      <td>45</td>\n",
              "      <td>No</td>\n",
              "      <td>No phone service</td>\n",
              "      <td>DSL</td>\n",
              "      <td>Yes</td>\n",
              "      <td>No</td>\n",
              "      <td>Yes</td>\n",
              "      <td>Yes</td>\n",
              "      <td>No</td>\n",
              "      <td>No</td>\n",
              "      <td>One year</td>\n",
              "      <td>No</td>\n",
              "      <td>Bank transfer (automatic)</td>\n",
              "      <td>42.30</td>\n",
              "      <td>No</td>\n",
              "    </tr>\n",
              "    <tr>\n",
              "      <th>4</th>\n",
              "      <td>Female</td>\n",
              "      <td>0</td>\n",
              "      <td>No</td>\n",
              "      <td>No</td>\n",
              "      <td>2</td>\n",
              "      <td>Yes</td>\n",
              "      <td>No</td>\n",
              "      <td>Fiber optic</td>\n",
              "      <td>No</td>\n",
              "      <td>No</td>\n",
              "      <td>No</td>\n",
              "      <td>No</td>\n",
              "      <td>No</td>\n",
              "      <td>No</td>\n",
              "      <td>Month-to-month</td>\n",
              "      <td>Yes</td>\n",
              "      <td>Electronic check</td>\n",
              "      <td>70.70</td>\n",
              "      <td>Yes</td>\n",
              "    </tr>\n",
              "  </tbody>\n",
              "</table>\n",
              "</div>"
            ],
            "text/plain": [
              "   gender  SeniorCitizen  ... MonthlyCharges Churn\n",
              "0  Female              0  ...          29.85    No\n",
              "1    Male              0  ...          56.95    No\n",
              "2    Male              0  ...          53.85   Yes\n",
              "3    Male              0  ...          42.30    No\n",
              "4  Female              0  ...          70.70   Yes\n",
              "\n",
              "[5 rows x 19 columns]"
            ]
          },
          "metadata": {
            "tags": []
          },
          "execution_count": 79
        }
      ]
    },
    {
      "cell_type": "code",
      "metadata": {
        "colab": {
          "base_uri": "https://localhost:8080/"
        },
        "id": "9WrvCFaE-zJK",
        "outputId": "a135df77-f253-406a-8f6b-5dc017dbd0ac"
      },
      "source": [
        "df.StreamingTV.value_counts()"
      ],
      "execution_count": null,
      "outputs": [
        {
          "output_type": "execute_result",
          "data": {
            "text/plain": [
              "No                     2810\n",
              "Yes                    2707\n",
              "No internet service    1526\n",
              "Name: StreamingTV, dtype: int64"
            ]
          },
          "metadata": {
            "tags": []
          },
          "execution_count": 80
        }
      ]
    },
    {
      "cell_type": "code",
      "metadata": {
        "id": "-ZXdHpKUBz5Z",
        "colab": {
          "base_uri": "https://localhost:8080/",
          "height": 532
        },
        "outputId": "7cc7cd94-1669-4aee-e424-0a485808a5d4"
      },
      "source": [
        "df_mod1 = df_mod1.replace({'No':0, 'Yes':1})\n",
        "df_mod1 = df_mod1.replace({'Male':0, 'Female':1})\n",
        "df_mod1.head(10)"
      ],
      "execution_count": null,
      "outputs": [
        {
          "output_type": "execute_result",
          "data": {
            "text/html": [
              "<div>\n",
              "<style scoped>\n",
              "    .dataframe tbody tr th:only-of-type {\n",
              "        vertical-align: middle;\n",
              "    }\n",
              "\n",
              "    .dataframe tbody tr th {\n",
              "        vertical-align: top;\n",
              "    }\n",
              "\n",
              "    .dataframe thead th {\n",
              "        text-align: right;\n",
              "    }\n",
              "</style>\n",
              "<table border=\"1\" class=\"dataframe\">\n",
              "  <thead>\n",
              "    <tr style=\"text-align: right;\">\n",
              "      <th></th>\n",
              "      <th>gender</th>\n",
              "      <th>SeniorCitizen</th>\n",
              "      <th>Partner</th>\n",
              "      <th>Dependents</th>\n",
              "      <th>tenure</th>\n",
              "      <th>PhoneService</th>\n",
              "      <th>MultipleLines</th>\n",
              "      <th>InternetService</th>\n",
              "      <th>OnlineSecurity</th>\n",
              "      <th>OnlineBackup</th>\n",
              "      <th>DeviceProtection</th>\n",
              "      <th>TechSupport</th>\n",
              "      <th>StreamingTV</th>\n",
              "      <th>StreamingMovies</th>\n",
              "      <th>Contract</th>\n",
              "      <th>PaperlessBilling</th>\n",
              "      <th>PaymentMethod</th>\n",
              "      <th>MonthlyCharges</th>\n",
              "      <th>Churn</th>\n",
              "    </tr>\n",
              "  </thead>\n",
              "  <tbody>\n",
              "    <tr>\n",
              "      <th>0</th>\n",
              "      <td>1</td>\n",
              "      <td>0</td>\n",
              "      <td>1</td>\n",
              "      <td>0</td>\n",
              "      <td>1</td>\n",
              "      <td>0</td>\n",
              "      <td>No phone service</td>\n",
              "      <td>DSL</td>\n",
              "      <td>0</td>\n",
              "      <td>1</td>\n",
              "      <td>0</td>\n",
              "      <td>0</td>\n",
              "      <td>0</td>\n",
              "      <td>0</td>\n",
              "      <td>Month-to-month</td>\n",
              "      <td>1</td>\n",
              "      <td>Electronic check</td>\n",
              "      <td>29.85</td>\n",
              "      <td>0</td>\n",
              "    </tr>\n",
              "    <tr>\n",
              "      <th>1</th>\n",
              "      <td>0</td>\n",
              "      <td>0</td>\n",
              "      <td>0</td>\n",
              "      <td>0</td>\n",
              "      <td>34</td>\n",
              "      <td>1</td>\n",
              "      <td>0</td>\n",
              "      <td>DSL</td>\n",
              "      <td>1</td>\n",
              "      <td>0</td>\n",
              "      <td>1</td>\n",
              "      <td>0</td>\n",
              "      <td>0</td>\n",
              "      <td>0</td>\n",
              "      <td>One year</td>\n",
              "      <td>0</td>\n",
              "      <td>Mailed check</td>\n",
              "      <td>56.95</td>\n",
              "      <td>0</td>\n",
              "    </tr>\n",
              "    <tr>\n",
              "      <th>2</th>\n",
              "      <td>0</td>\n",
              "      <td>0</td>\n",
              "      <td>0</td>\n",
              "      <td>0</td>\n",
              "      <td>2</td>\n",
              "      <td>1</td>\n",
              "      <td>0</td>\n",
              "      <td>DSL</td>\n",
              "      <td>1</td>\n",
              "      <td>1</td>\n",
              "      <td>0</td>\n",
              "      <td>0</td>\n",
              "      <td>0</td>\n",
              "      <td>0</td>\n",
              "      <td>Month-to-month</td>\n",
              "      <td>1</td>\n",
              "      <td>Mailed check</td>\n",
              "      <td>53.85</td>\n",
              "      <td>1</td>\n",
              "    </tr>\n",
              "    <tr>\n",
              "      <th>3</th>\n",
              "      <td>0</td>\n",
              "      <td>0</td>\n",
              "      <td>0</td>\n",
              "      <td>0</td>\n",
              "      <td>45</td>\n",
              "      <td>0</td>\n",
              "      <td>No phone service</td>\n",
              "      <td>DSL</td>\n",
              "      <td>1</td>\n",
              "      <td>0</td>\n",
              "      <td>1</td>\n",
              "      <td>1</td>\n",
              "      <td>0</td>\n",
              "      <td>0</td>\n",
              "      <td>One year</td>\n",
              "      <td>0</td>\n",
              "      <td>Bank transfer (automatic)</td>\n",
              "      <td>42.30</td>\n",
              "      <td>0</td>\n",
              "    </tr>\n",
              "    <tr>\n",
              "      <th>4</th>\n",
              "      <td>1</td>\n",
              "      <td>0</td>\n",
              "      <td>0</td>\n",
              "      <td>0</td>\n",
              "      <td>2</td>\n",
              "      <td>1</td>\n",
              "      <td>0</td>\n",
              "      <td>Fiber optic</td>\n",
              "      <td>0</td>\n",
              "      <td>0</td>\n",
              "      <td>0</td>\n",
              "      <td>0</td>\n",
              "      <td>0</td>\n",
              "      <td>0</td>\n",
              "      <td>Month-to-month</td>\n",
              "      <td>1</td>\n",
              "      <td>Electronic check</td>\n",
              "      <td>70.70</td>\n",
              "      <td>1</td>\n",
              "    </tr>\n",
              "    <tr>\n",
              "      <th>5</th>\n",
              "      <td>1</td>\n",
              "      <td>0</td>\n",
              "      <td>0</td>\n",
              "      <td>0</td>\n",
              "      <td>8</td>\n",
              "      <td>1</td>\n",
              "      <td>1</td>\n",
              "      <td>Fiber optic</td>\n",
              "      <td>0</td>\n",
              "      <td>0</td>\n",
              "      <td>1</td>\n",
              "      <td>0</td>\n",
              "      <td>1</td>\n",
              "      <td>1</td>\n",
              "      <td>Month-to-month</td>\n",
              "      <td>1</td>\n",
              "      <td>Electronic check</td>\n",
              "      <td>99.65</td>\n",
              "      <td>1</td>\n",
              "    </tr>\n",
              "    <tr>\n",
              "      <th>6</th>\n",
              "      <td>0</td>\n",
              "      <td>0</td>\n",
              "      <td>0</td>\n",
              "      <td>1</td>\n",
              "      <td>22</td>\n",
              "      <td>1</td>\n",
              "      <td>1</td>\n",
              "      <td>Fiber optic</td>\n",
              "      <td>0</td>\n",
              "      <td>1</td>\n",
              "      <td>0</td>\n",
              "      <td>0</td>\n",
              "      <td>1</td>\n",
              "      <td>0</td>\n",
              "      <td>Month-to-month</td>\n",
              "      <td>1</td>\n",
              "      <td>Credit card (automatic)</td>\n",
              "      <td>89.10</td>\n",
              "      <td>0</td>\n",
              "    </tr>\n",
              "    <tr>\n",
              "      <th>7</th>\n",
              "      <td>1</td>\n",
              "      <td>0</td>\n",
              "      <td>0</td>\n",
              "      <td>0</td>\n",
              "      <td>10</td>\n",
              "      <td>0</td>\n",
              "      <td>No phone service</td>\n",
              "      <td>DSL</td>\n",
              "      <td>1</td>\n",
              "      <td>0</td>\n",
              "      <td>0</td>\n",
              "      <td>0</td>\n",
              "      <td>0</td>\n",
              "      <td>0</td>\n",
              "      <td>Month-to-month</td>\n",
              "      <td>0</td>\n",
              "      <td>Mailed check</td>\n",
              "      <td>29.75</td>\n",
              "      <td>0</td>\n",
              "    </tr>\n",
              "    <tr>\n",
              "      <th>8</th>\n",
              "      <td>1</td>\n",
              "      <td>0</td>\n",
              "      <td>1</td>\n",
              "      <td>0</td>\n",
              "      <td>28</td>\n",
              "      <td>1</td>\n",
              "      <td>1</td>\n",
              "      <td>Fiber optic</td>\n",
              "      <td>0</td>\n",
              "      <td>0</td>\n",
              "      <td>1</td>\n",
              "      <td>1</td>\n",
              "      <td>1</td>\n",
              "      <td>1</td>\n",
              "      <td>Month-to-month</td>\n",
              "      <td>1</td>\n",
              "      <td>Electronic check</td>\n",
              "      <td>104.80</td>\n",
              "      <td>1</td>\n",
              "    </tr>\n",
              "    <tr>\n",
              "      <th>9</th>\n",
              "      <td>0</td>\n",
              "      <td>0</td>\n",
              "      <td>0</td>\n",
              "      <td>1</td>\n",
              "      <td>62</td>\n",
              "      <td>1</td>\n",
              "      <td>0</td>\n",
              "      <td>DSL</td>\n",
              "      <td>1</td>\n",
              "      <td>1</td>\n",
              "      <td>0</td>\n",
              "      <td>0</td>\n",
              "      <td>0</td>\n",
              "      <td>0</td>\n",
              "      <td>One year</td>\n",
              "      <td>0</td>\n",
              "      <td>Bank transfer (automatic)</td>\n",
              "      <td>56.15</td>\n",
              "      <td>0</td>\n",
              "    </tr>\n",
              "  </tbody>\n",
              "</table>\n",
              "</div>"
            ],
            "text/plain": [
              "   gender  SeniorCitizen  ...  MonthlyCharges  Churn\n",
              "0       1              0  ...           29.85      0\n",
              "1       0              0  ...           56.95      0\n",
              "2       0              0  ...           53.85      1\n",
              "3       0              0  ...           42.30      0\n",
              "4       1              0  ...           70.70      1\n",
              "5       1              0  ...           99.65      1\n",
              "6       0              0  ...           89.10      0\n",
              "7       1              0  ...           29.75      0\n",
              "8       1              0  ...          104.80      1\n",
              "9       0              0  ...           56.15      0\n",
              "\n",
              "[10 rows x 19 columns]"
            ]
          },
          "metadata": {
            "tags": []
          },
          "execution_count": 81
        }
      ]
    },
    {
      "cell_type": "code",
      "metadata": {
        "colab": {
          "base_uri": "https://localhost:8080/"
        },
        "id": "fVKIL2J63nA5",
        "outputId": "d8bf43f7-252c-49ba-cdce-b0313ebf038a"
      },
      "source": [
        "df_mod1.MultipleLines.value_counts()"
      ],
      "execution_count": null,
      "outputs": [
        {
          "output_type": "execute_result",
          "data": {
            "text/plain": [
              "0                   3390\n",
              "1                   2971\n",
              "No phone service     682\n",
              "Name: MultipleLines, dtype: int64"
            ]
          },
          "metadata": {
            "tags": []
          },
          "execution_count": 82
        }
      ]
    },
    {
      "cell_type": "code",
      "metadata": {
        "id": "LwVzX68S37JH"
      },
      "source": [
        "df_mod1 = df_mod1.replace(to_replace =\"No phone service\", value =2)"
      ],
      "execution_count": null,
      "outputs": []
    },
    {
      "cell_type": "code",
      "metadata": {
        "colab": {
          "base_uri": "https://localhost:8080/"
        },
        "id": "ihQqwLfZ4WTJ",
        "outputId": "c971b11c-1e83-428d-ed1a-343a54d27f4c"
      },
      "source": [
        "df_mod1.InternetService.value_counts()"
      ],
      "execution_count": null,
      "outputs": [
        {
          "output_type": "execute_result",
          "data": {
            "text/plain": [
              "Fiber optic    3096\n",
              "DSL            2421\n",
              "0              1526\n",
              "Name: InternetService, dtype: int64"
            ]
          },
          "metadata": {
            "tags": []
          },
          "execution_count": 84
        }
      ]
    },
    {
      "cell_type": "code",
      "metadata": {
        "colab": {
          "base_uri": "https://localhost:8080/",
          "height": 532
        },
        "id": "_wEsa2L54c35",
        "outputId": "d501e4c3-5e33-40e1-c3f0-8348ecb66f63"
      },
      "source": [
        "df_mod1 = df_mod1.replace({'Fiber optic':1, 'DSL':2})\n",
        "df_mod1.head(10)"
      ],
      "execution_count": null,
      "outputs": [
        {
          "output_type": "execute_result",
          "data": {
            "text/html": [
              "<div>\n",
              "<style scoped>\n",
              "    .dataframe tbody tr th:only-of-type {\n",
              "        vertical-align: middle;\n",
              "    }\n",
              "\n",
              "    .dataframe tbody tr th {\n",
              "        vertical-align: top;\n",
              "    }\n",
              "\n",
              "    .dataframe thead th {\n",
              "        text-align: right;\n",
              "    }\n",
              "</style>\n",
              "<table border=\"1\" class=\"dataframe\">\n",
              "  <thead>\n",
              "    <tr style=\"text-align: right;\">\n",
              "      <th></th>\n",
              "      <th>gender</th>\n",
              "      <th>SeniorCitizen</th>\n",
              "      <th>Partner</th>\n",
              "      <th>Dependents</th>\n",
              "      <th>tenure</th>\n",
              "      <th>PhoneService</th>\n",
              "      <th>MultipleLines</th>\n",
              "      <th>InternetService</th>\n",
              "      <th>OnlineSecurity</th>\n",
              "      <th>OnlineBackup</th>\n",
              "      <th>DeviceProtection</th>\n",
              "      <th>TechSupport</th>\n",
              "      <th>StreamingTV</th>\n",
              "      <th>StreamingMovies</th>\n",
              "      <th>Contract</th>\n",
              "      <th>PaperlessBilling</th>\n",
              "      <th>PaymentMethod</th>\n",
              "      <th>MonthlyCharges</th>\n",
              "      <th>Churn</th>\n",
              "    </tr>\n",
              "  </thead>\n",
              "  <tbody>\n",
              "    <tr>\n",
              "      <th>0</th>\n",
              "      <td>1</td>\n",
              "      <td>0</td>\n",
              "      <td>1</td>\n",
              "      <td>0</td>\n",
              "      <td>1</td>\n",
              "      <td>0</td>\n",
              "      <td>2</td>\n",
              "      <td>2</td>\n",
              "      <td>0</td>\n",
              "      <td>1</td>\n",
              "      <td>0</td>\n",
              "      <td>0</td>\n",
              "      <td>0</td>\n",
              "      <td>0</td>\n",
              "      <td>Month-to-month</td>\n",
              "      <td>1</td>\n",
              "      <td>Electronic check</td>\n",
              "      <td>29.85</td>\n",
              "      <td>0</td>\n",
              "    </tr>\n",
              "    <tr>\n",
              "      <th>1</th>\n",
              "      <td>0</td>\n",
              "      <td>0</td>\n",
              "      <td>0</td>\n",
              "      <td>0</td>\n",
              "      <td>34</td>\n",
              "      <td>1</td>\n",
              "      <td>0</td>\n",
              "      <td>2</td>\n",
              "      <td>1</td>\n",
              "      <td>0</td>\n",
              "      <td>1</td>\n",
              "      <td>0</td>\n",
              "      <td>0</td>\n",
              "      <td>0</td>\n",
              "      <td>One year</td>\n",
              "      <td>0</td>\n",
              "      <td>Mailed check</td>\n",
              "      <td>56.95</td>\n",
              "      <td>0</td>\n",
              "    </tr>\n",
              "    <tr>\n",
              "      <th>2</th>\n",
              "      <td>0</td>\n",
              "      <td>0</td>\n",
              "      <td>0</td>\n",
              "      <td>0</td>\n",
              "      <td>2</td>\n",
              "      <td>1</td>\n",
              "      <td>0</td>\n",
              "      <td>2</td>\n",
              "      <td>1</td>\n",
              "      <td>1</td>\n",
              "      <td>0</td>\n",
              "      <td>0</td>\n",
              "      <td>0</td>\n",
              "      <td>0</td>\n",
              "      <td>Month-to-month</td>\n",
              "      <td>1</td>\n",
              "      <td>Mailed check</td>\n",
              "      <td>53.85</td>\n",
              "      <td>1</td>\n",
              "    </tr>\n",
              "    <tr>\n",
              "      <th>3</th>\n",
              "      <td>0</td>\n",
              "      <td>0</td>\n",
              "      <td>0</td>\n",
              "      <td>0</td>\n",
              "      <td>45</td>\n",
              "      <td>0</td>\n",
              "      <td>2</td>\n",
              "      <td>2</td>\n",
              "      <td>1</td>\n",
              "      <td>0</td>\n",
              "      <td>1</td>\n",
              "      <td>1</td>\n",
              "      <td>0</td>\n",
              "      <td>0</td>\n",
              "      <td>One year</td>\n",
              "      <td>0</td>\n",
              "      <td>Bank transfer (automatic)</td>\n",
              "      <td>42.30</td>\n",
              "      <td>0</td>\n",
              "    </tr>\n",
              "    <tr>\n",
              "      <th>4</th>\n",
              "      <td>1</td>\n",
              "      <td>0</td>\n",
              "      <td>0</td>\n",
              "      <td>0</td>\n",
              "      <td>2</td>\n",
              "      <td>1</td>\n",
              "      <td>0</td>\n",
              "      <td>1</td>\n",
              "      <td>0</td>\n",
              "      <td>0</td>\n",
              "      <td>0</td>\n",
              "      <td>0</td>\n",
              "      <td>0</td>\n",
              "      <td>0</td>\n",
              "      <td>Month-to-month</td>\n",
              "      <td>1</td>\n",
              "      <td>Electronic check</td>\n",
              "      <td>70.70</td>\n",
              "      <td>1</td>\n",
              "    </tr>\n",
              "    <tr>\n",
              "      <th>5</th>\n",
              "      <td>1</td>\n",
              "      <td>0</td>\n",
              "      <td>0</td>\n",
              "      <td>0</td>\n",
              "      <td>8</td>\n",
              "      <td>1</td>\n",
              "      <td>1</td>\n",
              "      <td>1</td>\n",
              "      <td>0</td>\n",
              "      <td>0</td>\n",
              "      <td>1</td>\n",
              "      <td>0</td>\n",
              "      <td>1</td>\n",
              "      <td>1</td>\n",
              "      <td>Month-to-month</td>\n",
              "      <td>1</td>\n",
              "      <td>Electronic check</td>\n",
              "      <td>99.65</td>\n",
              "      <td>1</td>\n",
              "    </tr>\n",
              "    <tr>\n",
              "      <th>6</th>\n",
              "      <td>0</td>\n",
              "      <td>0</td>\n",
              "      <td>0</td>\n",
              "      <td>1</td>\n",
              "      <td>22</td>\n",
              "      <td>1</td>\n",
              "      <td>1</td>\n",
              "      <td>1</td>\n",
              "      <td>0</td>\n",
              "      <td>1</td>\n",
              "      <td>0</td>\n",
              "      <td>0</td>\n",
              "      <td>1</td>\n",
              "      <td>0</td>\n",
              "      <td>Month-to-month</td>\n",
              "      <td>1</td>\n",
              "      <td>Credit card (automatic)</td>\n",
              "      <td>89.10</td>\n",
              "      <td>0</td>\n",
              "    </tr>\n",
              "    <tr>\n",
              "      <th>7</th>\n",
              "      <td>1</td>\n",
              "      <td>0</td>\n",
              "      <td>0</td>\n",
              "      <td>0</td>\n",
              "      <td>10</td>\n",
              "      <td>0</td>\n",
              "      <td>2</td>\n",
              "      <td>2</td>\n",
              "      <td>1</td>\n",
              "      <td>0</td>\n",
              "      <td>0</td>\n",
              "      <td>0</td>\n",
              "      <td>0</td>\n",
              "      <td>0</td>\n",
              "      <td>Month-to-month</td>\n",
              "      <td>0</td>\n",
              "      <td>Mailed check</td>\n",
              "      <td>29.75</td>\n",
              "      <td>0</td>\n",
              "    </tr>\n",
              "    <tr>\n",
              "      <th>8</th>\n",
              "      <td>1</td>\n",
              "      <td>0</td>\n",
              "      <td>1</td>\n",
              "      <td>0</td>\n",
              "      <td>28</td>\n",
              "      <td>1</td>\n",
              "      <td>1</td>\n",
              "      <td>1</td>\n",
              "      <td>0</td>\n",
              "      <td>0</td>\n",
              "      <td>1</td>\n",
              "      <td>1</td>\n",
              "      <td>1</td>\n",
              "      <td>1</td>\n",
              "      <td>Month-to-month</td>\n",
              "      <td>1</td>\n",
              "      <td>Electronic check</td>\n",
              "      <td>104.80</td>\n",
              "      <td>1</td>\n",
              "    </tr>\n",
              "    <tr>\n",
              "      <th>9</th>\n",
              "      <td>0</td>\n",
              "      <td>0</td>\n",
              "      <td>0</td>\n",
              "      <td>1</td>\n",
              "      <td>62</td>\n",
              "      <td>1</td>\n",
              "      <td>0</td>\n",
              "      <td>2</td>\n",
              "      <td>1</td>\n",
              "      <td>1</td>\n",
              "      <td>0</td>\n",
              "      <td>0</td>\n",
              "      <td>0</td>\n",
              "      <td>0</td>\n",
              "      <td>One year</td>\n",
              "      <td>0</td>\n",
              "      <td>Bank transfer (automatic)</td>\n",
              "      <td>56.15</td>\n",
              "      <td>0</td>\n",
              "    </tr>\n",
              "  </tbody>\n",
              "</table>\n",
              "</div>"
            ],
            "text/plain": [
              "   gender  SeniorCitizen  ...  MonthlyCharges  Churn\n",
              "0       1              0  ...           29.85      0\n",
              "1       0              0  ...           56.95      0\n",
              "2       0              0  ...           53.85      1\n",
              "3       0              0  ...           42.30      0\n",
              "4       1              0  ...           70.70      1\n",
              "5       1              0  ...           99.65      1\n",
              "6       0              0  ...           89.10      0\n",
              "7       1              0  ...           29.75      0\n",
              "8       1              0  ...          104.80      1\n",
              "9       0              0  ...           56.15      0\n",
              "\n",
              "[10 rows x 19 columns]"
            ]
          },
          "metadata": {
            "tags": []
          },
          "execution_count": 85
        }
      ]
    },
    {
      "cell_type": "code",
      "metadata": {
        "colab": {
          "base_uri": "https://localhost:8080/"
        },
        "id": "WIGllquI4p_I",
        "outputId": "09d4f16d-9c5c-4f78-e654-1908b6933323"
      },
      "source": [
        "df_mod1.OnlineSecurity.value_counts()"
      ],
      "execution_count": null,
      "outputs": [
        {
          "output_type": "execute_result",
          "data": {
            "text/plain": [
              "0                      3498\n",
              "1                      2019\n",
              "No internet service    1526\n",
              "Name: OnlineSecurity, dtype: int64"
            ]
          },
          "metadata": {
            "tags": []
          },
          "execution_count": 86
        }
      ]
    },
    {
      "cell_type": "code",
      "metadata": {
        "id": "tGMmCf824x44"
      },
      "source": [
        "df_mod1 = df_mod1.replace(to_replace =\"No internet service\", value =2)"
      ],
      "execution_count": null,
      "outputs": []
    },
    {
      "cell_type": "code",
      "metadata": {
        "colab": {
          "base_uri": "https://localhost:8080/"
        },
        "id": "SKQaCans43AQ",
        "outputId": "ec67c6e4-488d-4662-c6a0-4b2216cc123e"
      },
      "source": [
        "df_mod1.OnlineBackup.value_counts()"
      ],
      "execution_count": null,
      "outputs": [
        {
          "output_type": "execute_result",
          "data": {
            "text/plain": [
              "0    3088\n",
              "1    2429\n",
              "2    1526\n",
              "Name: OnlineBackup, dtype: int64"
            ]
          },
          "metadata": {
            "tags": []
          },
          "execution_count": 88
        }
      ]
    },
    {
      "cell_type": "code",
      "metadata": {
        "colab": {
          "base_uri": "https://localhost:8080/"
        },
        "id": "jY0ffRmL5lGA",
        "outputId": "a01e37a7-1611-4638-83d8-bac667d8c2df"
      },
      "source": [
        "df_mod1.DeviceProtection.value_counts()"
      ],
      "execution_count": null,
      "outputs": [
        {
          "output_type": "execute_result",
          "data": {
            "text/plain": [
              "0    3095\n",
              "1    2422\n",
              "2    1526\n",
              "Name: DeviceProtection, dtype: int64"
            ]
          },
          "metadata": {
            "tags": []
          },
          "execution_count": 89
        }
      ]
    },
    {
      "cell_type": "code",
      "metadata": {
        "colab": {
          "base_uri": "https://localhost:8080/"
        },
        "id": "ArtxJZp05p1Z",
        "outputId": "0b6ebff4-e7f0-4d1e-e320-8f402e4ca83f"
      },
      "source": [
        "df_mod1.TechSupport.value_counts()"
      ],
      "execution_count": null,
      "outputs": [
        {
          "output_type": "execute_result",
          "data": {
            "text/plain": [
              "0    3473\n",
              "1    2044\n",
              "2    1526\n",
              "Name: TechSupport, dtype: int64"
            ]
          },
          "metadata": {
            "tags": []
          },
          "execution_count": 90
        }
      ]
    },
    {
      "cell_type": "code",
      "metadata": {
        "colab": {
          "base_uri": "https://localhost:8080/"
        },
        "id": "-2QkJJxd5vEo",
        "outputId": "5247b880-fc24-436c-bcee-7abc39168c37"
      },
      "source": [
        "df_mod1.StreamingTV.value_counts()"
      ],
      "execution_count": null,
      "outputs": [
        {
          "output_type": "execute_result",
          "data": {
            "text/plain": [
              "0    2810\n",
              "1    2707\n",
              "2    1526\n",
              "Name: StreamingTV, dtype: int64"
            ]
          },
          "metadata": {
            "tags": []
          },
          "execution_count": 91
        }
      ]
    },
    {
      "cell_type": "code",
      "metadata": {
        "colab": {
          "base_uri": "https://localhost:8080/"
        },
        "id": "sy_e59gG507g",
        "outputId": "73823cbe-c570-48e8-d8a0-3143eadae87b"
      },
      "source": [
        "df_mod1.StreamingMovies.value_counts()"
      ],
      "execution_count": null,
      "outputs": [
        {
          "output_type": "execute_result",
          "data": {
            "text/plain": [
              "0    2785\n",
              "1    2732\n",
              "2    1526\n",
              "Name: StreamingMovies, dtype: int64"
            ]
          },
          "metadata": {
            "tags": []
          },
          "execution_count": 92
        }
      ]
    },
    {
      "cell_type": "code",
      "metadata": {
        "colab": {
          "base_uri": "https://localhost:8080/"
        },
        "id": "M9kX422I6DOZ",
        "outputId": "2c2b7461-eb0c-41c6-ec66-e3f1ce19676f"
      },
      "source": [
        "df_mod1.Contract.value_counts()"
      ],
      "execution_count": null,
      "outputs": [
        {
          "output_type": "execute_result",
          "data": {
            "text/plain": [
              "Month-to-month    3875\n",
              "Two year          1695\n",
              "One year          1473\n",
              "Name: Contract, dtype: int64"
            ]
          },
          "metadata": {
            "tags": []
          },
          "execution_count": 93
        }
      ]
    },
    {
      "cell_type": "code",
      "metadata": {
        "colab": {
          "base_uri": "https://localhost:8080/",
          "height": 241
        },
        "id": "dbxhqClM6JYx",
        "outputId": "8784be6d-5673-4f3b-d842-f1fbc1efe20f"
      },
      "source": [
        "df_mod1 = df_mod1.replace({'Month-to-month':0, 'Two year':1, 'One year':2})\n",
        "df_mod1.head()\n"
      ],
      "execution_count": null,
      "outputs": [
        {
          "output_type": "execute_result",
          "data": {
            "text/html": [
              "<div>\n",
              "<style scoped>\n",
              "    .dataframe tbody tr th:only-of-type {\n",
              "        vertical-align: middle;\n",
              "    }\n",
              "\n",
              "    .dataframe tbody tr th {\n",
              "        vertical-align: top;\n",
              "    }\n",
              "\n",
              "    .dataframe thead th {\n",
              "        text-align: right;\n",
              "    }\n",
              "</style>\n",
              "<table border=\"1\" class=\"dataframe\">\n",
              "  <thead>\n",
              "    <tr style=\"text-align: right;\">\n",
              "      <th></th>\n",
              "      <th>gender</th>\n",
              "      <th>SeniorCitizen</th>\n",
              "      <th>Partner</th>\n",
              "      <th>Dependents</th>\n",
              "      <th>tenure</th>\n",
              "      <th>PhoneService</th>\n",
              "      <th>MultipleLines</th>\n",
              "      <th>InternetService</th>\n",
              "      <th>OnlineSecurity</th>\n",
              "      <th>OnlineBackup</th>\n",
              "      <th>DeviceProtection</th>\n",
              "      <th>TechSupport</th>\n",
              "      <th>StreamingTV</th>\n",
              "      <th>StreamingMovies</th>\n",
              "      <th>Contract</th>\n",
              "      <th>PaperlessBilling</th>\n",
              "      <th>PaymentMethod</th>\n",
              "      <th>MonthlyCharges</th>\n",
              "      <th>Churn</th>\n",
              "    </tr>\n",
              "  </thead>\n",
              "  <tbody>\n",
              "    <tr>\n",
              "      <th>0</th>\n",
              "      <td>1</td>\n",
              "      <td>0</td>\n",
              "      <td>1</td>\n",
              "      <td>0</td>\n",
              "      <td>1</td>\n",
              "      <td>0</td>\n",
              "      <td>2</td>\n",
              "      <td>2</td>\n",
              "      <td>0</td>\n",
              "      <td>1</td>\n",
              "      <td>0</td>\n",
              "      <td>0</td>\n",
              "      <td>0</td>\n",
              "      <td>0</td>\n",
              "      <td>0</td>\n",
              "      <td>1</td>\n",
              "      <td>Electronic check</td>\n",
              "      <td>29.85</td>\n",
              "      <td>0</td>\n",
              "    </tr>\n",
              "    <tr>\n",
              "      <th>1</th>\n",
              "      <td>0</td>\n",
              "      <td>0</td>\n",
              "      <td>0</td>\n",
              "      <td>0</td>\n",
              "      <td>34</td>\n",
              "      <td>1</td>\n",
              "      <td>0</td>\n",
              "      <td>2</td>\n",
              "      <td>1</td>\n",
              "      <td>0</td>\n",
              "      <td>1</td>\n",
              "      <td>0</td>\n",
              "      <td>0</td>\n",
              "      <td>0</td>\n",
              "      <td>2</td>\n",
              "      <td>0</td>\n",
              "      <td>Mailed check</td>\n",
              "      <td>56.95</td>\n",
              "      <td>0</td>\n",
              "    </tr>\n",
              "    <tr>\n",
              "      <th>2</th>\n",
              "      <td>0</td>\n",
              "      <td>0</td>\n",
              "      <td>0</td>\n",
              "      <td>0</td>\n",
              "      <td>2</td>\n",
              "      <td>1</td>\n",
              "      <td>0</td>\n",
              "      <td>2</td>\n",
              "      <td>1</td>\n",
              "      <td>1</td>\n",
              "      <td>0</td>\n",
              "      <td>0</td>\n",
              "      <td>0</td>\n",
              "      <td>0</td>\n",
              "      <td>0</td>\n",
              "      <td>1</td>\n",
              "      <td>Mailed check</td>\n",
              "      <td>53.85</td>\n",
              "      <td>1</td>\n",
              "    </tr>\n",
              "    <tr>\n",
              "      <th>3</th>\n",
              "      <td>0</td>\n",
              "      <td>0</td>\n",
              "      <td>0</td>\n",
              "      <td>0</td>\n",
              "      <td>45</td>\n",
              "      <td>0</td>\n",
              "      <td>2</td>\n",
              "      <td>2</td>\n",
              "      <td>1</td>\n",
              "      <td>0</td>\n",
              "      <td>1</td>\n",
              "      <td>1</td>\n",
              "      <td>0</td>\n",
              "      <td>0</td>\n",
              "      <td>2</td>\n",
              "      <td>0</td>\n",
              "      <td>Bank transfer (automatic)</td>\n",
              "      <td>42.30</td>\n",
              "      <td>0</td>\n",
              "    </tr>\n",
              "    <tr>\n",
              "      <th>4</th>\n",
              "      <td>1</td>\n",
              "      <td>0</td>\n",
              "      <td>0</td>\n",
              "      <td>0</td>\n",
              "      <td>2</td>\n",
              "      <td>1</td>\n",
              "      <td>0</td>\n",
              "      <td>1</td>\n",
              "      <td>0</td>\n",
              "      <td>0</td>\n",
              "      <td>0</td>\n",
              "      <td>0</td>\n",
              "      <td>0</td>\n",
              "      <td>0</td>\n",
              "      <td>0</td>\n",
              "      <td>1</td>\n",
              "      <td>Electronic check</td>\n",
              "      <td>70.70</td>\n",
              "      <td>1</td>\n",
              "    </tr>\n",
              "  </tbody>\n",
              "</table>\n",
              "</div>"
            ],
            "text/plain": [
              "   gender  SeniorCitizen  ...  MonthlyCharges  Churn\n",
              "0       1              0  ...           29.85      0\n",
              "1       0              0  ...           56.95      0\n",
              "2       0              0  ...           53.85      1\n",
              "3       0              0  ...           42.30      0\n",
              "4       1              0  ...           70.70      1\n",
              "\n",
              "[5 rows x 19 columns]"
            ]
          },
          "metadata": {
            "tags": []
          },
          "execution_count": 94
        }
      ]
    },
    {
      "cell_type": "code",
      "metadata": {
        "colab": {
          "base_uri": "https://localhost:8080/"
        },
        "id": "44AZmaNc6WwY",
        "outputId": "c35b6ab4-925a-43d2-bec6-fd4d00ac0e04"
      },
      "source": [
        "df_mod1.PaperlessBilling.value_counts()"
      ],
      "execution_count": null,
      "outputs": [
        {
          "output_type": "execute_result",
          "data": {
            "text/plain": [
              "1    4171\n",
              "0    2872\n",
              "Name: PaperlessBilling, dtype: int64"
            ]
          },
          "metadata": {
            "tags": []
          },
          "execution_count": 95
        }
      ]
    },
    {
      "cell_type": "code",
      "metadata": {
        "colab": {
          "base_uri": "https://localhost:8080/"
        },
        "id": "egdpYHy46cRi",
        "outputId": "5803df49-6d9c-4c4c-a34b-759098225375"
      },
      "source": [
        "df_mod1.PaymentMethod.value_counts()"
      ],
      "execution_count": null,
      "outputs": [
        {
          "output_type": "execute_result",
          "data": {
            "text/plain": [
              "Electronic check             2365\n",
              "Mailed check                 1612\n",
              "Bank transfer (automatic)    1544\n",
              "Credit card (automatic)      1522\n",
              "Name: PaymentMethod, dtype: int64"
            ]
          },
          "metadata": {
            "tags": []
          },
          "execution_count": 96
        }
      ]
    },
    {
      "cell_type": "code",
      "metadata": {
        "colab": {
          "base_uri": "https://localhost:8080/",
          "height": 224
        },
        "id": "eLmOIkcz6fMp",
        "outputId": "f1867e24-96b1-42e8-e6dd-f7f949d973a8"
      },
      "source": [
        "df_mod1 = df_mod1.replace({'Electronic check':0, 'Mailed check':1, 'Bank transfer (automatic)':2, 'Credit card (automatic)':3})\n",
        "df_mod1.head()"
      ],
      "execution_count": null,
      "outputs": [
        {
          "output_type": "execute_result",
          "data": {
            "text/html": [
              "<div>\n",
              "<style scoped>\n",
              "    .dataframe tbody tr th:only-of-type {\n",
              "        vertical-align: middle;\n",
              "    }\n",
              "\n",
              "    .dataframe tbody tr th {\n",
              "        vertical-align: top;\n",
              "    }\n",
              "\n",
              "    .dataframe thead th {\n",
              "        text-align: right;\n",
              "    }\n",
              "</style>\n",
              "<table border=\"1\" class=\"dataframe\">\n",
              "  <thead>\n",
              "    <tr style=\"text-align: right;\">\n",
              "      <th></th>\n",
              "      <th>gender</th>\n",
              "      <th>SeniorCitizen</th>\n",
              "      <th>Partner</th>\n",
              "      <th>Dependents</th>\n",
              "      <th>tenure</th>\n",
              "      <th>PhoneService</th>\n",
              "      <th>MultipleLines</th>\n",
              "      <th>InternetService</th>\n",
              "      <th>OnlineSecurity</th>\n",
              "      <th>OnlineBackup</th>\n",
              "      <th>DeviceProtection</th>\n",
              "      <th>TechSupport</th>\n",
              "      <th>StreamingTV</th>\n",
              "      <th>StreamingMovies</th>\n",
              "      <th>Contract</th>\n",
              "      <th>PaperlessBilling</th>\n",
              "      <th>PaymentMethod</th>\n",
              "      <th>MonthlyCharges</th>\n",
              "      <th>Churn</th>\n",
              "    </tr>\n",
              "  </thead>\n",
              "  <tbody>\n",
              "    <tr>\n",
              "      <th>0</th>\n",
              "      <td>1</td>\n",
              "      <td>0</td>\n",
              "      <td>1</td>\n",
              "      <td>0</td>\n",
              "      <td>1</td>\n",
              "      <td>0</td>\n",
              "      <td>2</td>\n",
              "      <td>2</td>\n",
              "      <td>0</td>\n",
              "      <td>1</td>\n",
              "      <td>0</td>\n",
              "      <td>0</td>\n",
              "      <td>0</td>\n",
              "      <td>0</td>\n",
              "      <td>0</td>\n",
              "      <td>1</td>\n",
              "      <td>0</td>\n",
              "      <td>29.85</td>\n",
              "      <td>0</td>\n",
              "    </tr>\n",
              "    <tr>\n",
              "      <th>1</th>\n",
              "      <td>0</td>\n",
              "      <td>0</td>\n",
              "      <td>0</td>\n",
              "      <td>0</td>\n",
              "      <td>34</td>\n",
              "      <td>1</td>\n",
              "      <td>0</td>\n",
              "      <td>2</td>\n",
              "      <td>1</td>\n",
              "      <td>0</td>\n",
              "      <td>1</td>\n",
              "      <td>0</td>\n",
              "      <td>0</td>\n",
              "      <td>0</td>\n",
              "      <td>2</td>\n",
              "      <td>0</td>\n",
              "      <td>1</td>\n",
              "      <td>56.95</td>\n",
              "      <td>0</td>\n",
              "    </tr>\n",
              "    <tr>\n",
              "      <th>2</th>\n",
              "      <td>0</td>\n",
              "      <td>0</td>\n",
              "      <td>0</td>\n",
              "      <td>0</td>\n",
              "      <td>2</td>\n",
              "      <td>1</td>\n",
              "      <td>0</td>\n",
              "      <td>2</td>\n",
              "      <td>1</td>\n",
              "      <td>1</td>\n",
              "      <td>0</td>\n",
              "      <td>0</td>\n",
              "      <td>0</td>\n",
              "      <td>0</td>\n",
              "      <td>0</td>\n",
              "      <td>1</td>\n",
              "      <td>1</td>\n",
              "      <td>53.85</td>\n",
              "      <td>1</td>\n",
              "    </tr>\n",
              "    <tr>\n",
              "      <th>3</th>\n",
              "      <td>0</td>\n",
              "      <td>0</td>\n",
              "      <td>0</td>\n",
              "      <td>0</td>\n",
              "      <td>45</td>\n",
              "      <td>0</td>\n",
              "      <td>2</td>\n",
              "      <td>2</td>\n",
              "      <td>1</td>\n",
              "      <td>0</td>\n",
              "      <td>1</td>\n",
              "      <td>1</td>\n",
              "      <td>0</td>\n",
              "      <td>0</td>\n",
              "      <td>2</td>\n",
              "      <td>0</td>\n",
              "      <td>2</td>\n",
              "      <td>42.30</td>\n",
              "      <td>0</td>\n",
              "    </tr>\n",
              "    <tr>\n",
              "      <th>4</th>\n",
              "      <td>1</td>\n",
              "      <td>0</td>\n",
              "      <td>0</td>\n",
              "      <td>0</td>\n",
              "      <td>2</td>\n",
              "      <td>1</td>\n",
              "      <td>0</td>\n",
              "      <td>1</td>\n",
              "      <td>0</td>\n",
              "      <td>0</td>\n",
              "      <td>0</td>\n",
              "      <td>0</td>\n",
              "      <td>0</td>\n",
              "      <td>0</td>\n",
              "      <td>0</td>\n",
              "      <td>1</td>\n",
              "      <td>0</td>\n",
              "      <td>70.70</td>\n",
              "      <td>1</td>\n",
              "    </tr>\n",
              "  </tbody>\n",
              "</table>\n",
              "</div>"
            ],
            "text/plain": [
              "   gender  SeniorCitizen  Partner  ...  PaymentMethod  MonthlyCharges  Churn\n",
              "0       1              0        1  ...              0           29.85      0\n",
              "1       0              0        0  ...              1           56.95      0\n",
              "2       0              0        0  ...              1           53.85      1\n",
              "3       0              0        0  ...              2           42.30      0\n",
              "4       1              0        0  ...              0           70.70      1\n",
              "\n",
              "[5 rows x 19 columns]"
            ]
          },
          "metadata": {
            "tags": []
          },
          "execution_count": 97
        }
      ]
    },
    {
      "cell_type": "code",
      "metadata": {
        "colab": {
          "base_uri": "https://localhost:8080/"
        },
        "id": "-_QnLTzP_Kos",
        "outputId": "7efbfa87-66f4-4a84-e1be-291979b54158"
      },
      "source": [
        "df_mod1.info()"
      ],
      "execution_count": null,
      "outputs": [
        {
          "output_type": "stream",
          "text": [
            "<class 'pandas.core.frame.DataFrame'>\n",
            "RangeIndex: 7043 entries, 0 to 7042\n",
            "Data columns (total 19 columns):\n",
            " #   Column            Non-Null Count  Dtype  \n",
            "---  ------            --------------  -----  \n",
            " 0   gender            7043 non-null   int64  \n",
            " 1   SeniorCitizen     7043 non-null   int64  \n",
            " 2   Partner           7043 non-null   int64  \n",
            " 3   Dependents        7043 non-null   int64  \n",
            " 4   tenure            7043 non-null   int64  \n",
            " 5   PhoneService      7043 non-null   int64  \n",
            " 6   MultipleLines     7043 non-null   int64  \n",
            " 7   InternetService   7043 non-null   int64  \n",
            " 8   OnlineSecurity    7043 non-null   int64  \n",
            " 9   OnlineBackup      7043 non-null   int64  \n",
            " 10  DeviceProtection  7043 non-null   int64  \n",
            " 11  TechSupport       7043 non-null   int64  \n",
            " 12  StreamingTV       7043 non-null   int64  \n",
            " 13  StreamingMovies   7043 non-null   int64  \n",
            " 14  Contract          7043 non-null   int64  \n",
            " 15  PaperlessBilling  7043 non-null   int64  \n",
            " 16  PaymentMethod     7043 non-null   int64  \n",
            " 17  MonthlyCharges    7043 non-null   float64\n",
            " 18  Churn             7043 non-null   int64  \n",
            "dtypes: float64(1), int64(18)\n",
            "memory usage: 1.0 MB\n"
          ],
          "name": "stdout"
        }
      ]
    },
    {
      "cell_type": "code",
      "metadata": {
        "colab": {
          "base_uri": "https://localhost:8080/"
        },
        "id": "a98GdBL6BCEJ",
        "outputId": "30ff8568-3d78-4f19-fd59-0f32f290cdfe"
      },
      "source": [
        "train_set, test_set = train_test_split(df_mod1, test_size=0.15, random_state=22)\n",
        "print(len(train_set))\n",
        "print(len(test_set))"
      ],
      "execution_count": null,
      "outputs": [
        {
          "output_type": "stream",
          "text": [
            "5986\n",
            "1057\n"
          ],
          "name": "stdout"
        }
      ]
    },
    {
      "cell_type": "code",
      "metadata": {
        "colab": {
          "base_uri": "https://localhost:8080/",
          "height": 54
        },
        "id": "qo23thJIBkhA",
        "outputId": "ac4c0585-5fd6-4cad-eec0-8a31ca82f931"
      },
      "source": [
        "# Train set\n",
        "sns.set_theme(style=\"whitegrid\")\n",
        "ax = sns.countplot(x=\"Churn\", data = train_set, palette='husl')"
      ],
      "execution_count": null,
      "outputs": [
        {
          "output_type": "display_data",
          "data": {
            "image/png": "[encoded data removed]",
            "text/plain": [
              "<Figure size 432x288 with 1 Axes>"
            ]
          },
          "metadata": {
            "tags": []
          }
        }
      ]
    },
    {
      "cell_type": "code",
      "metadata": {
        "colab": {
          "base_uri": "https://localhost:8080/",
          "height": 54
        },
        "id": "wpNOZlvvBl_P",
        "outputId": "3c19ab53-ceac-4c92-ff9a-7b0f17257e9f"
      },
      "source": [
        "# Test set\n",
        "sns.set_theme(style=\"whitegrid\")\n",
        "ax = sns.countplot(x=\"Churn\", data = test_set, palette='husl')"
      ],
      "execution_count": null,
      "outputs": [
        {
          "output_type": "display_data",
          "data": {
            "image/png": "[encoded data removed]",
            "text/plain": [
              "<Figure size 432x288 with 1 Axes>"
            ]
          },
          "metadata": {
            "tags": []
          }
        }
      ]
    },
    {
      "cell_type": "code",
      "metadata": {
        "id": "aYdPetW7BvkY"
      },
      "source": [
        "x_train = train_set.iloc[:, 3:-1].values\n",
        "y_train = train_set.iloc[:, -1].values"
      ],
      "execution_count": null,
      "outputs": []
    },
    {
      "cell_type": "code",
      "metadata": {
        "id": "S6m3UTIHITFP"
      },
      "source": [
        "x_test = test_set.iloc[:, 3:-1].values\n",
        "y_test = test_set.iloc[:, -1].values"
      ],
      "execution_count": null,
      "outputs": []
    },
    {
      "cell_type": "markdown",
      "metadata": {
        "id": "HSv1WY0IIlMY"
      },
      "source": [
        "# Model"
      ]
    },
    {
      "cell_type": "code",
      "metadata": {
        "id": "yT-b_SolIejg"
      },
      "source": [
        "ann = tf.keras.models.Sequential()"
      ],
      "execution_count": null,
      "outputs": []
    },
    {
      "cell_type": "code",
      "metadata": {
        "id": "OAofcxRRIn_5"
      },
      "source": [
        "#Hidden layer 1\n",
        "ann.add(tf.keras.layers.Dense(units=3, activation='relu'))\n",
        "#Hidden layer 2\n",
        "ann.add(tf.keras.layers.Dense(units=3, activation='relu'))\n",
        "#Output layer\n",
        "ann.add(tf.keras.layers.Dense(units=1, activation='sigmoid'))"
      ],
      "execution_count": null,
      "outputs": []
    },
    {
      "cell_type": "code",
      "metadata": {
        "id": "TdblkS5tIwvi"
      },
      "source": [
        "ann.compile(optimizer = 'adam', loss = 'binary_crossentropy', metrics = ['accuracy'])"
      ],
      "execution_count": null,
      "outputs": []
    },
    {
      "cell_type": "code",
      "metadata": {
        "colab": {
          "base_uri": "https://localhost:8080/"
        },
        "id": "6iT_QMgtI0hx",
        "outputId": "92806705-5c75-445e-a76a-9406d6fdfead"
      },
      "source": [
        "ann.fit(x_train, y_train, batch_size = 32, epochs = 100)"
      ],
      "execution_count": null,
      "outputs": [
        {
          "output_type": "stream",
          "text": [
            "Epoch 1/100\n",
            "188/188 [==============================] - 1s 1ms/step - loss: 0.5618 - accuracy: 0.7379\n",
            "Epoch 2/100\n",
            "188/188 [==============================] - 0s 1ms/step - loss: 0.4597 - accuracy: 0.7785\n",
            "Epoch 3/100\n",
            "188/188 [==============================] - 0s 1ms/step - loss: 0.4515 - accuracy: 0.7863\n",
            "Epoch 4/100\n",
            "188/188 [==============================] - 0s 1ms/step - loss: 0.4449 - accuracy: 0.7960\n",
            "Epoch 5/100\n",
            "188/188 [==============================] - 0s 1ms/step - loss: 0.4390 - accuracy: 0.7970\n",
            "Epoch 6/100\n",
            "188/188 [==============================] - 0s 1ms/step - loss: 0.4344 - accuracy: 0.8020\n",
            "Epoch 7/100\n",
            "188/188 [==============================] - 0s 1ms/step - loss: 0.4320 - accuracy: 0.8025\n",
            "Epoch 8/100\n",
            "188/188 [==============================] - 0s 1ms/step - loss: 0.4294 - accuracy: 0.8037\n",
            "Epoch 9/100\n",
            "188/188 [==============================] - 0s 1ms/step - loss: 0.4263 - accuracy: 0.8059\n",
            "Epoch 10/100\n",
            "188/188 [==============================] - 0s 1ms/step - loss: 0.4255 - accuracy: 0.8070\n",
            "Epoch 11/100\n",
            "188/188 [==============================] - 0s 1ms/step - loss: 0.4256 - accuracy: 0.8054\n",
            "Epoch 12/100\n",
            "188/188 [==============================] - 0s 1ms/step - loss: 0.4234 - accuracy: 0.8069\n",
            "Epoch 13/100\n",
            "188/188 [==============================] - 0s 1ms/step - loss: 0.4228 - accuracy: 0.8094\n",
            "Epoch 14/100\n",
            "188/188 [==============================] - 0s 1ms/step - loss: 0.4211 - accuracy: 0.8077\n",
            "Epoch 15/100\n",
            "188/188 [==============================] - 0s 1ms/step - loss: 0.4210 - accuracy: 0.8102\n",
            "Epoch 16/100\n",
            "188/188 [==============================] - 0s 1ms/step - loss: 0.4206 - accuracy: 0.8091\n",
            "Epoch 17/100\n",
            "188/188 [==============================] - 0s 1ms/step - loss: 0.4193 - accuracy: 0.8091\n",
            "Epoch 18/100\n",
            "188/188 [==============================] - 0s 1ms/step - loss: 0.4199 - accuracy: 0.8082\n",
            "Epoch 19/100\n",
            "188/188 [==============================] - 0s 1ms/step - loss: 0.4188 - accuracy: 0.8089\n",
            "Epoch 20/100\n",
            "188/188 [==============================] - 0s 1ms/step - loss: 0.4190 - accuracy: 0.8094\n",
            "Epoch 21/100\n",
            "188/188 [==============================] - 0s 1ms/step - loss: 0.4181 - accuracy: 0.8094\n",
            "Epoch 22/100\n",
            "188/188 [==============================] - 0s 1ms/step - loss: 0.4185 - accuracy: 0.8099\n",
            "Epoch 23/100\n",
            "188/188 [==============================] - 0s 1ms/step - loss: 0.4186 - accuracy: 0.8065\n",
            "Epoch 24/100\n",
            "188/188 [==============================] - 0s 2ms/step - loss: 0.4177 - accuracy: 0.8070\n",
            "Epoch 25/100\n",
            "188/188 [==============================] - 0s 1ms/step - loss: 0.4186 - accuracy: 0.8081\n",
            "Epoch 26/100\n",
            "188/188 [==============================] - 0s 1ms/step - loss: 0.4179 - accuracy: 0.8082\n",
            "Epoch 27/100\n",
            "188/188 [==============================] - 0s 1ms/step - loss: 0.4164 - accuracy: 0.8092\n",
            "Epoch 28/100\n",
            "188/188 [==============================] - 0s 1ms/step - loss: 0.4168 - accuracy: 0.8079\n",
            "Epoch 29/100\n",
            "188/188 [==============================] - 0s 1ms/step - loss: 0.4167 - accuracy: 0.8084\n",
            "Epoch 30/100\n",
            "188/188 [==============================] - 0s 1ms/step - loss: 0.4179 - accuracy: 0.8084\n",
            "Epoch 31/100\n",
            "188/188 [==============================] - 0s 1ms/step - loss: 0.4164 - accuracy: 0.8102\n",
            "Epoch 32/100\n",
            "188/188 [==============================] - 0s 1ms/step - loss: 0.4163 - accuracy: 0.8072\n",
            "Epoch 33/100\n",
            "188/188 [==============================] - 0s 1ms/step - loss: 0.4170 - accuracy: 0.8087\n",
            "Epoch 34/100\n",
            "188/188 [==============================] - 0s 1ms/step - loss: 0.4168 - accuracy: 0.8072\n",
            "Epoch 35/100\n",
            "188/188 [==============================] - 0s 1ms/step - loss: 0.4167 - accuracy: 0.8092\n",
            "Epoch 36/100\n",
            "188/188 [==============================] - 0s 1ms/step - loss: 0.4163 - accuracy: 0.8104\n",
            "Epoch 37/100\n",
            "188/188 [==============================] - 0s 1ms/step - loss: 0.4167 - accuracy: 0.8081\n",
            "Epoch 38/100\n",
            "188/188 [==============================] - 0s 1ms/step - loss: 0.4165 - accuracy: 0.8055\n",
            "Epoch 39/100\n",
            "188/188 [==============================] - 0s 1ms/step - loss: 0.4156 - accuracy: 0.8070\n",
            "Epoch 40/100\n",
            "188/188 [==============================] - 0s 1ms/step - loss: 0.4170 - accuracy: 0.8117\n",
            "Epoch 41/100\n",
            "188/188 [==============================] - 0s 1ms/step - loss: 0.4153 - accuracy: 0.8086\n",
            "Epoch 42/100\n",
            "188/188 [==============================] - 0s 1ms/step - loss: 0.4163 - accuracy: 0.8087\n",
            "Epoch 43/100\n",
            "188/188 [==============================] - 0s 1ms/step - loss: 0.4167 - accuracy: 0.8091\n",
            "Epoch 44/100\n",
            "188/188 [==============================] - 0s 1ms/step - loss: 0.4163 - accuracy: 0.8086\n",
            "Epoch 45/100\n",
            "188/188 [==============================] - 0s 1ms/step - loss: 0.4160 - accuracy: 0.8101\n",
            "Epoch 46/100\n",
            "188/188 [==============================] - 0s 1ms/step - loss: 0.4162 - accuracy: 0.8072\n",
            "Epoch 47/100\n",
            "188/188 [==============================] - 0s 1ms/step - loss: 0.4152 - accuracy: 0.8099\n",
            "Epoch 48/100\n",
            "188/188 [==============================] - 0s 1ms/step - loss: 0.4153 - accuracy: 0.8102\n",
            "Epoch 49/100\n",
            "188/188 [==============================] - 0s 2ms/step - loss: 0.4158 - accuracy: 0.8077\n",
            "Epoch 50/100\n",
            "188/188 [==============================] - 0s 2ms/step - loss: 0.4161 - accuracy: 0.8107\n",
            "Epoch 51/100\n",
            "188/188 [==============================] - 0s 1ms/step - loss: 0.4153 - accuracy: 0.8077\n",
            "Epoch 52/100\n",
            "188/188 [==============================] - 0s 1ms/step - loss: 0.4156 - accuracy: 0.8099\n",
            "Epoch 53/100\n",
            "188/188 [==============================] - 0s 1ms/step - loss: 0.4148 - accuracy: 0.8062\n",
            "Epoch 54/100\n",
            "188/188 [==============================] - 0s 1ms/step - loss: 0.4150 - accuracy: 0.8082\n",
            "Epoch 55/100\n",
            "188/188 [==============================] - 0s 1ms/step - loss: 0.4163 - accuracy: 0.8079\n",
            "Epoch 56/100\n",
            "188/188 [==============================] - 0s 1ms/step - loss: 0.4157 - accuracy: 0.8106\n",
            "Epoch 57/100\n",
            "188/188 [==============================] - 0s 1ms/step - loss: 0.4163 - accuracy: 0.8055\n",
            "Epoch 58/100\n",
            "188/188 [==============================] - 0s 1ms/step - loss: 0.4155 - accuracy: 0.8084\n",
            "Epoch 59/100\n",
            "188/188 [==============================] - 0s 1ms/step - loss: 0.4149 - accuracy: 0.8092\n",
            "Epoch 60/100\n",
            "188/188 [==============================] - 0s 2ms/step - loss: 0.4155 - accuracy: 0.8089\n",
            "Epoch 61/100\n",
            "188/188 [==============================] - 0s 1ms/step - loss: 0.4149 - accuracy: 0.8086\n",
            "Epoch 62/100\n",
            "188/188 [==============================] - 0s 1ms/step - loss: 0.4151 - accuracy: 0.8081\n",
            "Epoch 63/100\n",
            "188/188 [==============================] - 0s 1ms/step - loss: 0.4150 - accuracy: 0.8077\n",
            "Epoch 64/100\n",
            "188/188 [==============================] - 0s 1ms/step - loss: 0.4151 - accuracy: 0.8091\n",
            "Epoch 65/100\n",
            "188/188 [==============================] - 0s 1ms/step - loss: 0.4151 - accuracy: 0.8081\n",
            "Epoch 66/100\n",
            "188/188 [==============================] - 0s 1ms/step - loss: 0.4158 - accuracy: 0.8097\n",
            "Epoch 67/100\n",
            "188/188 [==============================] - 0s 2ms/step - loss: 0.4157 - accuracy: 0.8116\n",
            "Epoch 68/100\n",
            "188/188 [==============================] - 0s 1ms/step - loss: 0.4150 - accuracy: 0.8070\n",
            "Epoch 69/100\n",
            "188/188 [==============================] - 0s 1ms/step - loss: 0.4161 - accuracy: 0.8099\n",
            "Epoch 70/100\n",
            "188/188 [==============================] - 0s 1ms/step - loss: 0.4172 - accuracy: 0.8070\n",
            "Epoch 71/100\n",
            "188/188 [==============================] - 0s 2ms/step - loss: 0.4156 - accuracy: 0.8074\n",
            "Epoch 72/100\n",
            "188/188 [==============================] - 0s 1ms/step - loss: 0.4154 - accuracy: 0.8092\n",
            "Epoch 73/100\n",
            "188/188 [==============================] - 0s 1ms/step - loss: 0.4159 - accuracy: 0.8077\n",
            "Epoch 74/100\n",
            "188/188 [==============================] - 0s 1ms/step - loss: 0.4159 - accuracy: 0.8070\n",
            "Epoch 75/100\n",
            "188/188 [==============================] - 0s 1ms/step - loss: 0.4157 - accuracy: 0.8082\n",
            "Epoch 76/100\n",
            "188/188 [==============================] - 0s 1ms/step - loss: 0.4150 - accuracy: 0.8064\n",
            "Epoch 77/100\n",
            "188/188 [==============================] - 0s 1ms/step - loss: 0.4153 - accuracy: 0.8111\n",
            "Epoch 78/100\n",
            "188/188 [==============================] - 0s 1ms/step - loss: 0.4160 - accuracy: 0.8079\n",
            "Epoch 79/100\n",
            "188/188 [==============================] - 0s 1ms/step - loss: 0.4157 - accuracy: 0.8091\n",
            "Epoch 80/100\n",
            "188/188 [==============================] - 0s 1ms/step - loss: 0.4151 - accuracy: 0.8070\n",
            "Epoch 81/100\n",
            "188/188 [==============================] - 0s 1ms/step - loss: 0.4152 - accuracy: 0.8065\n",
            "Epoch 82/100\n",
            "188/188 [==============================] - 0s 1ms/step - loss: 0.4159 - accuracy: 0.8092\n",
            "Epoch 83/100\n",
            "188/188 [==============================] - 0s 1ms/step - loss: 0.4148 - accuracy: 0.8094\n",
            "Epoch 84/100\n",
            "188/188 [==============================] - 0s 2ms/step - loss: 0.4151 - accuracy: 0.8094\n",
            "Epoch 85/100\n",
            "188/188 [==============================] - 0s 1ms/step - loss: 0.4148 - accuracy: 0.8072\n",
            "Epoch 86/100\n",
            "188/188 [==============================] - 0s 1ms/step - loss: 0.4156 - accuracy: 0.8086\n",
            "Epoch 87/100\n",
            "188/188 [==============================] - 0s 1ms/step - loss: 0.4152 - accuracy: 0.8074\n",
            "Epoch 88/100\n",
            "188/188 [==============================] - 0s 1ms/step - loss: 0.4152 - accuracy: 0.8089\n",
            "Epoch 89/100\n",
            "188/188 [==============================] - 0s 1ms/step - loss: 0.4155 - accuracy: 0.8084\n",
            "Epoch 90/100\n",
            "188/188 [==============================] - 0s 1ms/step - loss: 0.4157 - accuracy: 0.8107\n",
            "Epoch 91/100\n",
            "188/188 [==============================] - 0s 1ms/step - loss: 0.4148 - accuracy: 0.8076\n",
            "Epoch 92/100\n",
            "188/188 [==============================] - 0s 1ms/step - loss: 0.4160 - accuracy: 0.8055\n",
            "Epoch 93/100\n",
            "188/188 [==============================] - 0s 1ms/step - loss: 0.4167 - accuracy: 0.8067\n",
            "Epoch 94/100\n",
            "188/188 [==============================] - 0s 1ms/step - loss: 0.4148 - accuracy: 0.8091\n",
            "Epoch 95/100\n",
            "188/188 [==============================] - 0s 1ms/step - loss: 0.4153 - accuracy: 0.8104\n",
            "Epoch 96/100\n",
            "188/188 [==============================] - 0s 1ms/step - loss: 0.4152 - accuracy: 0.8087\n",
            "Epoch 97/100\n",
            "188/188 [==============================] - 0s 1ms/step - loss: 0.4152 - accuracy: 0.8092\n",
            "Epoch 98/100\n",
            "188/188 [==============================] - 0s 1ms/step - loss: 0.4164 - accuracy: 0.8067\n",
            "Epoch 99/100\n",
            "188/188 [==============================] - 0s 1ms/step - loss: 0.4150 - accuracy: 0.8074\n",
            "Epoch 100/100\n",
            "188/188 [==============================] - 0s 1ms/step - loss: 0.4150 - accuracy: 0.8094\n"
          ],
          "name": "stdout"
        },
        {
          "output_type": "execute_result",
          "data": {
            "text/plain": [
              "<tensorflow.python.keras.callbacks.History at 0x7fcb5c001850>"
            ]
          },
          "metadata": {
            "tags": []
          },
          "execution_count": 107
        }
      ]
    },
    {
      "cell_type": "markdown",
      "metadata": {
        "id": "088j-DurJ1nZ"
      },
      "source": [
        "# Test Model"
      ]
    },
    {
      "cell_type": "code",
      "metadata": {
        "colab": {
          "base_uri": "https://localhost:8080/"
        },
        "id": "R5y5lRvuI53Q",
        "outputId": "7d096c8b-291d-42f3-a20b-1cd94deddbba"
      },
      "source": [
        "y_pred = ann.predict(x_test)\n",
        "y_pred = (y_pred > 0.5)\n",
        "print(np.concatenate((y_pred.reshape(len(y_pred),1), y_test.reshape(len(y_test),1)),1))"
      ],
      "execution_count": null,
      "outputs": [
        {
          "output_type": "stream",
          "text": [
            "[[0 0]\n",
            " [0 1]\n",
            " [0 0]\n",
            " ...\n",
            " [0 0]\n",
            " [0 0]\n",
            " [0 0]]\n"
          ],
          "name": "stdout"
        }
      ]
    },
    {
      "cell_type": "code",
      "metadata": {
        "id": "FkvE9azoJ6RE",
        "colab": {
          "base_uri": "https://localhost:8080/"
        },
        "outputId": "a665ccd9-a6b6-4308-b8c1-437520cfdde1"
      },
      "source": [
        "cm = confusion_matrix(y_test, y_pred)\n",
        "print(cm)\n",
        "accuracy_score(y_test, y_pred)"
      ],
      "execution_count": null,
      "outputs": [
        {
          "output_type": "stream",
          "text": [
            "[[666  91]\n",
            " [154 146]]\n"
          ],
          "name": "stdout"
        },
        {
          "output_type": "execute_result",
          "data": {
            "text/plain": [
              "0.7682119205298014"
            ]
          },
          "metadata": {
            "tags": []
          },
          "execution_count": 109
        }
      ]
    },
    {
      "cell_type": "code",
      "metadata": {
        "id": "M1hRCoNEqmel"
      },
      "source": [
        "def model_acc(predict,actual):\n",
        "  con_martix = confusion_matrix(predict,actual)\n",
        "  TN = con_martix[0][0]\n",
        "  FN = con_martix[1][0]\n",
        "  FP = con_martix[0][1]\n",
        "  TP = con_martix[1][1]\n",
        "  Precision = TP/(TP+FP)\n",
        "  Recall = TP/(TP+FN)\n",
        "  return con_martix, Precision, Recall"
      ],
      "execution_count": null,
      "outputs": []
    },
    {
      "cell_type": "code",
      "metadata": {
        "colab": {
          "base_uri": "https://localhost:8080/"
        },
        "id": "7uTLj9BirXsf",
        "outputId": "2944278c-51df-4a1f-fcbf-db47a5df756c"
      },
      "source": [
        "model_acc(y_test, y_pred)"
      ],
      "execution_count": null,
      "outputs": [
        {
          "output_type": "execute_result",
          "data": {
            "text/plain": [
              "(array([[666,  91],\n",
              "        [154, 146]]), 0.6160337552742616, 0.4866666666666667)"
            ]
          },
          "metadata": {
            "tags": []
          },
          "execution_count": 115
        }
      ]
    }
  ]
}