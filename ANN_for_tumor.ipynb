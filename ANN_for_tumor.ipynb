{
  "nbformat": 4,
  "nbformat_minor": 0,
  "metadata": {
    "kernelspec": {
      "display_name": "Python 3",
      "language": "python",
      "name": "python3"
    },
    "language_info": {
      "codemirror_mode": {
        "name": "ipython",
        "version": 3
      },
      "file_extension": ".py",
      "mimetype": "text/x-python",
      "name": "python",
      "nbconvert_exporter": "python",
      "pygments_lexer": "ipython3",
      "version": "3.8.5"
    },
    "colab": {
      "name": "ANN_for_tumor.ipynb",
      "provenance": [],
      "collapsed_sections": []
    }
  },
  "cells": [
    {
      "cell_type": "markdown",
      "metadata": {
        "id": "ZrNMzSTnBmC0"
      },
      "source": [
        "#Brain tumor classification with Neural Network\n",
        "\n",
        "This Colab is the developement of Neural Network from scratch and applied it for classifying of CT-scan immages of brain tumor.\n",
        "\n",
        "Reference data : https://www.kaggle.com/awsaf49/brain-tumor?select=brain_tumor_dataset"
      ]
    },
    {
      "cell_type": "markdown",
      "metadata": {
        "id": "hAN2Q_ziou7X"
      },
      "source": [
        "# Libralies"
      ]
    },
    {
      "cell_type": "code",
      "metadata": {
        "id": "hC8XOyp19jK7"
      },
      "source": [
        "#Neccessary library\n",
        "\n",
        "import h5py\n",
        "import numpy as np\n",
        "import pandas as pd\n",
        "import matplotlib.pyplot as plt\n"
      ],
      "execution_count": null,
      "outputs": []
    },
    {
      "cell_type": "markdown",
      "metadata": {
        "id": "8JW3luhCozD1"
      },
      "source": [
        "# Prepare picture dataset from local storage"
      ]
    },
    {
      "cell_type": "code",
      "metadata": {
        "id": "QugrEx0Dqd0c"
      },
      "source": [
        "# Load file .h5 with python\n",
        "\n",
        "dataset_input = h5py.File(\"images_dataset.h5\", \"r\")\n",
        "print(\"Keys: %s\" % dataset_input.keys())\n",
        "\n",
        "train_set = np.array(list(dataset_input['x_train']))\n",
        "test_set = np.array(list(dataset_input['x_test']))\n",
        "train_predicted = np.array(list(dataset_input['y_train']))\n",
        "test_predicted  = np.array(list(dataset_input['y_test']))"
      ],
      "execution_count": null,
      "outputs": []
    },
    {
      "cell_type": "code",
      "metadata": {
        "id": "3CPMdkC59jLD",
        "outputId": "c83eeff1-fdae-4830-c762-637cec06cedd"
      },
      "source": [
        "# Example of train set\n",
        "\n",
        "index1 = 122\n",
        "index2 = 77\n",
        "fig, axs = plt.subplots(1,2, figsize=(8, 8))\n",
        "axs[0].set_title('Normal brain')\n",
        "axs[0].imshow(train_set[index1])\n",
        "axs[1].set_title('Brain with tumor')\n",
        "axs[1].imshow(train_set[index2])"
      ],
      "execution_count": null,
      "outputs": [
        {
          "output_type": "execute_result",
          "data": {
            "text/plain": [
              "<matplotlib.image.AxesImage at 0x11eb3a160>"
            ]
          },
          "metadata": {
            "tags": []
          },
          "execution_count": 487
        },
        {
          "output_type": "display_data",
          "data": {
            "image/png": "[encoded data removed]",
            "text/plain": [
              "<Figure size 576x576 with 2 Axes>"
            ]
          },
          "metadata": {
            "tags": [],
            "needs_background": "light"
          }
        }
      ]
    },
    {
      "cell_type": "code",
      "metadata": {
        "id": "WKEDGczk9jLG",
        "outputId": "79dadfeb-abc4-456a-9049-bb9c8bb3743d"
      },
      "source": [
        "# Dimension of data set\n",
        "\n",
        "m_train = train_set.shape[0]\n",
        "m_test = test_set.shape[0]\n",
        "pixel = train_set[0].shape[0]\n",
        "\n",
        "print(\"A number of train images is \" + str(m_train))\n",
        "print(\"A number of test images is \" + str(m_test))\n",
        "print(\"Resolution of each image is \" + str(pixel) + \"*\" + str(pixel))"
      ],
      "execution_count": null,
      "outputs": [
        {
          "output_type": "stream",
          "text": [
            "A number of train images is 176\n",
            "A number of test images is 51\n",
            "Resolution of each image is 64*64\n"
          ],
          "name": "stdout"
        }
      ]
    },
    {
      "cell_type": "code",
      "metadata": {
        "id": "kqGGyXvV9jLH",
        "outputId": "2d3eef81-ac3d-4910-f30c-c71067ff1831"
      },
      "source": [
        "# reduce dimension and flattern \n",
        "\n",
        "X_train = train_set.reshape(train_set.shape[0],-1).T/255.\n",
        "X_test = test_set.reshape(test_set.shape[0],-1).T/255.\n",
        "Y_train = train_predicted.T\n",
        "Y_test = test_predicted.T\n",
        "\n",
        "print(str(X_train.shape))\n",
        "print(str(X_test.shape))\n",
        "print(str(Y_train.shape))\n",
        "print(str(Y_test.shape))"
      ],
      "execution_count": null,
      "outputs": [
        {
          "output_type": "stream",
          "text": [
            "(12288, 176)\n",
            "(12288, 51)\n",
            "(1, 176)\n",
            "(1, 51)\n"
          ],
          "name": "stdout"
        }
      ]
    },
    {
      "cell_type": "markdown",
      "metadata": {
        "id": "q7P6nixGo_pQ"
      },
      "source": [
        "# Model"
      ]
    },
    {
      "cell_type": "code",
      "metadata": {
        "id": "tWVDkU5O9jLK"
      },
      "source": [
        "def sigmoid(Z):\n",
        "    \n",
        "    A = 1/(1+np.exp(-Z))\n",
        "    cache = Z\n",
        "    \n",
        "    return A, cache\n",
        "\n",
        "def relu(Z):\n",
        "\n",
        "    A = np.maximum(0,Z)\n",
        "    \n",
        "    assert(A.shape == Z.shape)\n",
        "    \n",
        "    cache = Z \n",
        "    return A, cache\n",
        "\n",
        "\n",
        "def relu_backward(dA, cache):\n",
        "    \n",
        "    Z = cache\n",
        "    dZ = np.array(dA, copy=True) \n",
        "    dZ[Z <= 0] = 0\n",
        "    \n",
        "    assert (dZ.shape == Z.shape)\n",
        "    \n",
        "    return dZ\n",
        "\n",
        "def sigmoid_backward(dA, cache):\n",
        "\n",
        "    Z = cache\n",
        "    \n",
        "    s = 1/(1+np.exp(-Z))\n",
        "    dZ = dA * s * (1-s)\n",
        "    \n",
        "    assert (dZ.shape == Z.shape)\n",
        "    \n",
        "    return dZ\n",
        "\n",
        "def initialize_parameters(n_x, n_h, n_y):\n",
        "\n",
        "    np.random.seed(1)\n",
        "    \n",
        "    W1 = np.random.randn(n_h, n_x)*0.01\n",
        "    b1 = np.zeros((n_h, 1))\n",
        "    W2 = np.random.randn(n_y, n_h)*0.01\n",
        "    b2 = np.zeros((n_y, 1))\n",
        "    \n",
        "    assert(W1.shape == (n_h, n_x))\n",
        "    assert(b1.shape == (n_h, 1))\n",
        "    assert(W2.shape == (n_y, n_h))\n",
        "    assert(b2.shape == (n_y, 1))\n",
        "    \n",
        "    parameters = {\"W1\": W1,\n",
        "                  \"b1\": b1,\n",
        "                  \"W2\": W2,\n",
        "                  \"b2\": b2}\n",
        "    \n",
        "    return parameters     \n",
        "\n",
        "\n",
        "def initialize_parameters_deep(layer_dims):\n",
        "  \n",
        "    \n",
        "    np.random.seed(1)\n",
        "    parameters = {}\n",
        "    L = len(layer_dims)            \n",
        "    for l in range(1, L):\n",
        "        parameters['W' + str(l)] = np.random.randn(layer_dims[l], layer_dims[l-1]) / np.sqrt(layer_dims[l-1]) #*0.01\n",
        "        parameters['b' + str(l)] = np.zeros((layer_dims[l], 1))\n",
        "        \n",
        "        assert(parameters['W' + str(l)].shape == (layer_dims[l], layer_dims[l-1]))\n",
        "        assert(parameters['b' + str(l)].shape == (layer_dims[l], 1))\n",
        "\n",
        "        \n",
        "    return parameters\n",
        "\n",
        "def linear_forward(A, W, b):\n",
        "    \n",
        "    Z = W.dot(A) + b\n",
        "    \n",
        "    assert(Z.shape == (W.shape[0], A.shape[1]))\n",
        "    cache = (A, W, b)\n",
        "    \n",
        "    return Z, cache\n",
        "\n",
        "def linear_activation_forward(A_prev, W, b, activation):\n",
        "    \n",
        "    if activation == \"sigmoid\":\n",
        "        Z, linear_cache = linear_forward(A_prev, W, b)\n",
        "        A, activation_cache = sigmoid(Z)\n",
        "    \n",
        "    elif activation == \"relu\":\n",
        "        Z, linear_cache = linear_forward(A_prev, W, b)\n",
        "        A, activation_cache = relu(Z)\n",
        "    \n",
        "    assert (A.shape == (W.shape[0], A_prev.shape[1]))\n",
        "    cache = (linear_cache, activation_cache)\n",
        "\n",
        "    return A, cache\n",
        "\n",
        "def L_model_forward(X, parameters):\n",
        "\n",
        "\n",
        "    caches = []\n",
        "    A = X\n",
        "    L = len(parameters) // 2                  \n",
        "    for l in range(1, L):\n",
        "        A_prev = A \n",
        "        A, cache = linear_activation_forward(A_prev, parameters['W' + str(l)], parameters['b' + str(l)], activation = \"relu\")\n",
        "        caches.append(cache)\n",
        "\n",
        "    AL, cache = linear_activation_forward(A, parameters['W' + str(L)], parameters['b' + str(L)], activation = \"sigmoid\")\n",
        "    caches.append(cache)\n",
        "    \n",
        "    assert(AL.shape == (1,X.shape[1]))\n",
        "            \n",
        "    return AL, caches\n",
        "\n",
        "def compute_cost(AL, Y):\n",
        "\n",
        "    \n",
        "    m = Y.shape[1]\n",
        "\n",
        "   \n",
        "    cost = (1./m) * (-np.dot(Y,np.log(AL).T) - np.dot(1-Y, np.log(1-AL).T))\n",
        "    \n",
        "    cost = np.squeeze(cost)      \n",
        "    assert(cost.shape == ())\n",
        "    \n",
        "    return cost\n",
        "\n",
        "def linear_backward(dZ, cache):\n",
        "\n",
        "    A_prev, W, b = cache\n",
        "    m = A_prev.shape[1]\n",
        "\n",
        "    dW = 1./m * np.dot(dZ,A_prev.T)\n",
        "    db = 1./m * np.sum(dZ, axis = 1, keepdims = True)\n",
        "    dA_prev = np.dot(W.T,dZ)\n",
        "    \n",
        "    assert (dA_prev.shape == A_prev.shape)\n",
        "    assert (dW.shape == W.shape)\n",
        "    assert (db.shape == b.shape)\n",
        "    \n",
        "    return dA_prev, dW, db\n",
        "\n",
        "def linear_activation_backward(dA, cache, activation):\n",
        "    \n",
        "    linear_cache, activation_cache = cache\n",
        "    \n",
        "    if activation == \"relu\":\n",
        "        dZ = relu_backward(dA, activation_cache)\n",
        "        dA_prev, dW, db = linear_backward(dZ, linear_cache)\n",
        "        \n",
        "    elif activation == \"sigmoid\":\n",
        "        dZ = sigmoid_backward(dA, activation_cache)\n",
        "        dA_prev, dW, db = linear_backward(dZ, linear_cache)\n",
        "    \n",
        "    return dA_prev, dW, db\n",
        "\n",
        "def L_model_backward(AL, Y, caches):\n",
        "   \n",
        "    grads = {}\n",
        "    L = len(caches) \n",
        "    m = AL.shape[1]\n",
        "    Y = Y.reshape(AL.shape) \n",
        "    \n",
        "    dAL = - (np.divide(Y, AL) - np.divide(1 - Y, 1 - AL))\n",
        "    \n",
        "    current_cache = caches[L-1]\n",
        "    grads[\"dA\" + str(L)], grads[\"dW\" + str(L)], grads[\"db\" + str(L)] = linear_activation_backward(dAL, current_cache, activation = \"sigmoid\")\n",
        "    \n",
        "    for l in reversed(range(L-1)):\n",
        "        \n",
        "        current_cache = caches[l]\n",
        "        dA_prev_temp, dW_temp, db_temp = linear_activation_backward(grads[\"dA\" + str(l + 2)], current_cache, activation = \"relu\")\n",
        "        grads[\"dA\" + str(l + 1)] = dA_prev_temp\n",
        "        grads[\"dW\" + str(l + 1)] = dW_temp\n",
        "        grads[\"db\" + str(l + 1)] = db_temp\n",
        "\n",
        "    return grads\n",
        "\n",
        "def update_parameters(parameters, grads, learning_rate):\n",
        "    \n",
        "    L = len(parameters) // 2 \n",
        "    \n",
        "    for l in range(L):\n",
        "        parameters[\"W\" + str(l+1)] = parameters[\"W\" + str(l+1)] - learning_rate * grads[\"dW\" + str(l+1)]\n",
        "        parameters[\"b\" + str(l+1)] = parameters[\"b\" + str(l+1)] - learning_rate * grads[\"db\" + str(l+1)]\n",
        "        \n",
        "    return parameters\n",
        "\n",
        "def predict(X, y, parameters):\n",
        "   \n",
        "    m = X.shape[1]\n",
        "    n = len(parameters) // 2 \n",
        "    p = np.zeros((1, m),dtype=int)\n",
        "    \n",
        "    probas, caches = L_model_forward(X, parameters)\n",
        "\n",
        "    for i in range(0, probas.shape[1]):\n",
        "        if probas[0,i] > 0.5:\n",
        "            p[0,i] = 1\n",
        "        else:\n",
        "            p[0,i] = 0\n",
        "\n",
        "    print(\"Accuracy: %s\" % str(np.sum(p == y)/float(m)))\n",
        "        \n",
        "    return p\n"
      ],
      "execution_count": null,
      "outputs": []
    },
    {
      "cell_type": "code",
      "metadata": {
        "id": "eeouvnou9jLM"
      },
      "source": [
        "# n_layer_model\n",
        "\n",
        "def L_layer_model(X, Y, layers_dims, learning_rate, num_iterations, print_cost):\n",
        "   \n",
        "    np.random.seed(1)\n",
        "    costs = []                         \n",
        "    \n",
        "    parameters = initialize_parameters_deep(layers_dims)\n",
        "    \n",
        "    for i in range(0, num_iterations):\n",
        "\n",
        "        AL, caches = L_model_forward(X, parameters)\n",
        "        cost = compute_cost(AL, Y)\n",
        "        grads = L_model_backward(AL, Y, caches)\n",
        "        parameters = update_parameters(parameters, grads, learning_rate)\n",
        "\n",
        "        if print_cost and i % 100 == 0:\n",
        "            print (\"Cost after iteration %i: %f\" % (i, cost))\n",
        "        if print_cost and i % 100 == 0:\n",
        "            costs.append(cost)\n",
        "            \n",
        "    # plot the cost\n",
        "    \n",
        "    plt.plot(np.squeeze(costs))\n",
        "    plt.ylabel('cost')\n",
        "    plt.xlabel('iterations (per tens)')\n",
        "    plt.title(\"Learning rate =\" + str(learning_rate))\n",
        "    plt.show()\n",
        "    \n",
        "    return parameters\n"
      ],
      "execution_count": null,
      "outputs": []
    },
    {
      "cell_type": "markdown",
      "metadata": {
        "id": "C2gON6VLpGmh"
      },
      "source": [
        "# Model setting and prediction"
      ]
    },
    {
      "cell_type": "code",
      "metadata": {
        "id": "mR9jzanG9jLN"
      },
      "source": [
        "# Deep neural network construction \n",
        "input_layer = X_train.shape[0]\n",
        "output_layer = Y_train.shape[0]\n",
        "\n",
        "layers_dims = [input_layer,30,20,output_layer] "
      ],
      "execution_count": null,
      "outputs": []
    },
    {
      "cell_type": "code",
      "metadata": {
        "id": "IoLZadjj9jLO",
        "outputId": "be14f3ab-5c1d-4d95-86c0-b34fdc648278"
      },
      "source": [
        "# Set model\n",
        "train_x = X_train\n",
        "train_y = Y_train\n",
        "layers_dims = layers_dims\n",
        "learning_rate = 0.05\n",
        "num_iterations = 3000\n",
        "\n",
        "parameters = L_layer_model(train_x, train_y, layers_dims, learning_rate, num_iterations, print_cost=True)"
      ],
      "execution_count": null,
      "outputs": [
        {
          "output_type": "stream",
          "text": [
            "Cost after iteration 0: 0.663101\n",
            "Cost after iteration 100: 0.195090\n",
            "Cost after iteration 200: 0.141178\n",
            "Cost after iteration 300: 0.029322\n",
            "Cost after iteration 400: 0.007150\n",
            "Cost after iteration 500: 0.003568\n",
            "Cost after iteration 600: 0.002251\n",
            "Cost after iteration 700: 0.001601\n",
            "Cost after iteration 800: 0.001225\n",
            "Cost after iteration 900: 0.000983\n",
            "Cost after iteration 1000: 0.000815\n",
            "Cost after iteration 1100: 0.000694\n",
            "Cost after iteration 1200: 0.000602\n",
            "Cost after iteration 1300: 0.000529\n",
            "Cost after iteration 1400: 0.000471\n",
            "Cost after iteration 1500: 0.000424\n",
            "Cost after iteration 1600: 0.000385\n",
            "Cost after iteration 1700: 0.000351\n",
            "Cost after iteration 1800: 0.000323\n",
            "Cost after iteration 1900: 0.000299\n",
            "Cost after iteration 2000: 0.000277\n",
            "Cost after iteration 2100: 0.000259\n",
            "Cost after iteration 2200: 0.000242\n",
            "Cost after iteration 2300: 0.000228\n",
            "Cost after iteration 2400: 0.000215\n",
            "Cost after iteration 2500: 0.000203\n",
            "Cost after iteration 2600: 0.000192\n",
            "Cost after iteration 2700: 0.000183\n",
            "Cost after iteration 2800: 0.000174\n",
            "Cost after iteration 2900: 0.000166\n"
          ],
          "name": "stdout"
        },
        {
          "output_type": "display_data",
          "data": {
            "image/png": "[encoded data removed]",
            "text/plain": [
              "<Figure size 432x288 with 1 Axes>"
            ]
          },
          "metadata": {
            "tags": [],
            "needs_background": "light"
          }
        }
      ]
    },
    {
      "cell_type": "code",
      "metadata": {
        "id": "IjtytcKg9jLO",
        "outputId": "e712385c-4959-48b4-b4cb-4fbb4ca7eb4f"
      },
      "source": [
        "# test model\n",
        "test_x = X_test\n",
        "test_y = Y_test\n",
        "\n",
        "pred_test = predict(test_x, test_y, parameters)"
      ],
      "execution_count": null,
      "outputs": [
        {
          "output_type": "stream",
          "text": [
            "Accuracy: 0.7647058823529411\n"
          ],
          "name": "stdout"
        }
      ]
    },
    {
      "cell_type": "code",
      "metadata": {
        "id": "zMh1fA5f9jLQ",
        "outputId": "de520b10-9826-498b-9d6e-7573cb89780c"
      },
      "source": [
        "predicted_result = {}\n",
        "wrong_index = {}\n",
        "\n",
        "n = probability.shape[1]\n",
        "\n",
        "for i in range(0,n):\n",
        "    check = p.T[i] == Y_test.T[i]\n",
        "    \n",
        "    if check == True:\n",
        "        predicted_result[i] = 'Correct'\n",
        "    else:\n",
        "        predicted_result[i] = 'Wrong'\n",
        "\n",
        "result = list(predicted_result.values())\n",
        "\n",
        "k = 0\n",
        "\n",
        "for i in range(0,n):\n",
        "    print(\"index \" +str(i)+ \" Result \" + result[i])\n",
        "    \n",
        "    if result[i] == \"Wrong\":\n",
        "        index = i\n",
        "        wrong_index[k] = index\n",
        "        k = k+1\n",
        "\n",
        "wrong_index = list(wrong_index.values())"
      ],
      "execution_count": null,
      "outputs": [
        {
          "output_type": "stream",
          "text": [
            "index 0 Result Correct\n",
            "index 1 Result Correct\n",
            "index 2 Result Correct\n",
            "index 3 Result Correct\n",
            "index 4 Result Correct\n",
            "index 5 Result Correct\n",
            "index 6 Result Correct\n",
            "index 7 Result Correct\n",
            "index 8 Result Wrong\n",
            "index 9 Result Correct\n",
            "index 10 Result Correct\n",
            "index 11 Result Correct\n",
            "index 12 Result Correct\n",
            "index 13 Result Correct\n",
            "index 14 Result Correct\n",
            "index 15 Result Correct\n",
            "index 16 Result Correct\n",
            "index 17 Result Correct\n",
            "index 18 Result Correct\n",
            "index 19 Result Correct\n",
            "index 20 Result Wrong\n",
            "index 21 Result Correct\n",
            "index 22 Result Correct\n",
            "index 23 Result Correct\n",
            "index 24 Result Correct\n",
            "index 25 Result Wrong\n",
            "index 26 Result Correct\n",
            "index 27 Result Wrong\n",
            "index 28 Result Wrong\n",
            "index 29 Result Wrong\n",
            "index 30 Result Wrong\n",
            "index 31 Result Correct\n",
            "index 32 Result Correct\n",
            "index 33 Result Correct\n",
            "index 34 Result Wrong\n",
            "index 35 Result Correct\n",
            "index 36 Result Correct\n",
            "index 37 Result Correct\n",
            "index 38 Result Correct\n",
            "index 39 Result Correct\n",
            "index 40 Result Wrong\n",
            "index 41 Result Correct\n",
            "index 42 Result Wrong\n",
            "index 43 Result Correct\n",
            "index 44 Result Wrong\n",
            "index 45 Result Correct\n",
            "index 46 Result Correct\n",
            "index 47 Result Correct\n",
            "index 48 Result Correct\n",
            "index 49 Result Wrong\n",
            "index 50 Result Correct\n"
          ],
          "name": "stdout"
        }
      ]
    },
    {
      "cell_type": "markdown",
      "metadata": {
        "id": "ntfBO1NKpM-H"
      },
      "source": [
        "# Summary "
      ]
    },
    {
      "cell_type": "code",
      "metadata": {
        "id": "Mwq5aEKf9jLR",
        "outputId": "cc0f5f29-3f4c-4e9e-c9c6-0179cb74913f"
      },
      "source": [
        "n_wrong = len(wrong_index)\n",
        "n_correct = n - len(wrong_index)\n",
        "Acc = (n_correct/n)*100\n",
        "\n",
        "print(Acc)"
      ],
      "execution_count": null,
      "outputs": [
        {
          "output_type": "stream",
          "text": [
            "76.47058823529412\n"
          ],
          "name": "stdout"
        }
      ]
    },
    {
      "cell_type": "code",
      "metadata": {
        "id": "6NxBMhqQ9jLS",
        "outputId": "0810f89d-6f71-468d-c5ee-f6a0dd4be2ad"
      },
      "source": [
        "n_wrong = len(wrong_index)\n",
        "n_correct = n - len(wrong_index)\n",
        "Acc = (n_correct/n)*100\n",
        "print(\"Total test images : \" + str(n))\n",
        "print(\"Corrected prediction : \" + str(n_correct))\n",
        "print(\"Missed prediction : \" + str(n_wrong))\n",
        "print(\"Model accuration \"+ str(Acc) + \"%\")\n"
      ],
      "execution_count": null,
      "outputs": [
        {
          "output_type": "stream",
          "text": [
            "Total test images : 51\n",
            "Corrected prediction : 39\n",
            "Missed prediction : 12\n",
            "Model accuration 76.47058823529412%\n"
          ],
          "name": "stdout"
        }
      ]
    },
    {
      "cell_type": "code",
      "metadata": {
        "id": "Ae9lkFLBqPv0"
      },
      "source": [
        ""
      ],
      "execution_count": null,
      "outputs": []
    }
  ]
}